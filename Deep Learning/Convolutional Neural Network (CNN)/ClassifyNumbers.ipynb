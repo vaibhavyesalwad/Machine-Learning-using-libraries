{
 "cells": [
  {
   "cell_type": "markdown",
   "metadata": {},
   "source": [
    "## We need to identify the digit in given images"
   ]
  },
  {
   "cell_type": "raw",
   "metadata": {},
   "source": [
    "https://drive.google.com/open?id=1-TavdjU2ohg5T6ZN1KUiWE9BNWu9_vhi"
   ]
  },
  {
   "cell_type": "markdown",
   "metadata": {},
   "source": [
    "### Importing essentials"
   ]
  },
  {
   "cell_type": "code",
   "execution_count": 1,
   "metadata": {},
   "outputs": [],
   "source": [
    "import pandas as pd\n",
    "import os\n",
    "import warnings\n",
    "os.chdir('/home/admin293/vaibhav/PycharmProjects/Machine Learning using libraries/Classification/Datasets & pickled objects/')\n",
    "warnings.filterwarnings(\"ignore\")\n",
    "\n",
    "# importing essentials from tensorflow library for CNN model\n",
    "import tensorflow as tf\n",
    "from tensorflow.keras.models import Sequential\n",
    "from tensorflow.keras.layers import Conv2D, MaxPooling2D, Flatten, Dense, Dropout"
   ]
  },
  {
   "cell_type": "markdown",
   "metadata": {},
   "source": [
    "### Building Convolutional Neural Network model"
   ]
  },
  {
   "cell_type": "code",
   "execution_count": 2,
   "metadata": {},
   "outputs": [
    {
     "name": "stdout",
     "output_type": "stream",
     "text": [
      "WARNING:tensorflow:From /home/admin293/.local/lib/python3.6/site-packages/tensorflow/python/ops/init_ops.py:1251: calling VarianceScaling.__init__ (from tensorflow.python.ops.init_ops) with dtype is deprecated and will be removed in a future version.\n",
      "Instructions for updating:\n",
      "Call initializer instance with the dtype argument instead of passing it to the constructor\n"
     ]
    }
   ],
   "source": [
    "# configuring model as sequential\n",
    "classifier = Sequential()\n",
    "\n",
    "# step 1 convolutional layer: to make build feature maps using feature detectors & removing linearity using relu\n",
    "classifier.add(Conv2D(32, (3, 3), input_shape=(64, 64, 3), activation='relu'))\n",
    "\n",
    "# setp 2 maxpool layer: to build pooled feaure map to accomodate invariance in tilt/flip/orientation still catch feature\n",
    "# reducing size with maxpooling\n",
    "classifier.add(MaxPooling2D(pool_size = (2,2)))\n",
    "\n",
    "# repeating steps 1 & 2 to make features more prominent for classification\n",
    "classifier.add(Conv2D(64, 3, 3, activation='relu'))\n",
    "classifier.add(MaxPooling2D(pool_size = (2,2)))\n",
    "\n",
    "# step 3 flatteing: to get flattened long vector of these values to be passed as inputs to neural network \n",
    "classifier.add(Flatten())\n",
    "\n",
    "classifier.add(Dropout(0.3))\n",
    "\n",
    "# Step 4 Building neural network: learning patterns in given inputs using dense ntwork\n",
    "# input to neural network\n",
    "classifier.add(Dense(64, activation='relu'))\n",
    "\n",
    "# output layer\n",
    "classifier.add(Dense(10, activation='sigmoid'))\n",
    "\n",
    "# setting parameters such as optmizing algo, loss fn, evaluation formula for classifier model  \n",
    "classifier.compile(optimizer='adam', loss='categorical_crossentropy', metrics=['accuracy'])"
   ]
  },
  {
   "cell_type": "markdown",
   "metadata": {},
   "source": [
    "### Creating dataframe for image address & class label"
   ]
  },
  {
   "cell_type": "code",
   "execution_count": 3,
   "metadata": {},
   "outputs": [],
   "source": [
    "dataset = pd.read_csv('Identify-numbers/train.csv')\n",
    "\n",
    "for index in range(len(dataset)):\n",
    "    dataset['filename'][index] = 'Identify-numbers/train/' + dataset['filename'][index]  \n",
    "\n",
    "dataset = dataset.astype(str)"
   ]
  },
  {
   "cell_type": "markdown",
   "metadata": {},
   "source": [
    "#### Splitting dataset into train set & test set"
   ]
  },
  {
   "cell_type": "code",
   "execution_count": 4,
   "metadata": {},
   "outputs": [],
   "source": [
    "train_dataset = dataset[:35000]\n",
    "test_dataset = dataset[35000:]\n",
    "test_dataset = test_dataset.reset_index()"
   ]
  },
  {
   "cell_type": "markdown",
   "metadata": {},
   "source": [
    "### Image Preprocessing"
   ]
  },
  {
   "cell_type": "code",
   "execution_count": 5,
   "metadata": {},
   "outputs": [
    {
     "name": "stdout",
     "output_type": "stream",
     "text": [
      "Found 35000 validated image filenames belonging to 10 classes.\n",
      "Found 14000 validated image filenames belonging to 10 classes.\n"
     ]
    }
   ],
   "source": [
    "from tensorflow.keras.preprocessing.image import ImageDataGenerator\n",
    "\n",
    "# converting image to 3D matrices & scaling as well\n",
    "train_datagen = ImageDataGenerator(rescale=1./255,\n",
    "                                   shear_range=0.2,\n",
    "                                   zoom_range=0.2)\n",
    "# defining necessary scaling for test set images same as train set images\n",
    "test_datagen = ImageDataGenerator(rescale=1./255)\n",
    "\n",
    "# loading images into train set from directory & defining iamge pixel-size \n",
    "training_set = train_datagen.flow_from_dataframe(dataframe=train_dataset,\n",
    "                                                x_col='filename',\n",
    "                                                target_size=(64, 64),\n",
    "                                                batch_size=32,\n",
    "                                                class_mode='categorical',\n",
    "                                                y_col='label')\n",
    "\n",
    "# loading images into train set from directory & defining iamge pixel-size \n",
    "test_set = test_datagen.flow_from_dataframe(dataframe=test_dataset,\n",
    "                                                x_col='filename',\n",
    "                                                target_size=(64, 64),\n",
    "                                                batch_size=1,\n",
    "                                                class_mode='categorical',\n",
    "                                                y_col='label')"
   ]
  },
  {
   "cell_type": "markdown",
   "metadata": {},
   "source": [
    "### Fitting model"
   ]
  },
  {
   "cell_type": "code",
   "execution_count": 6,
   "metadata": {},
   "outputs": [
    {
     "name": "stdout",
     "output_type": "stream",
     "text": [
      "Epoch 1/10\n",
      "WARNING:tensorflow:From /home/admin293/.local/lib/python3.6/site-packages/tensorflow/python/ops/math_grad.py:1250: add_dispatch_support.<locals>.wrapper (from tensorflow.python.ops.array_ops) is deprecated and will be removed in a future version.\n",
      "Instructions for updating:\n",
      "Use tf.where in 2.0, which has the same broadcast rule as np.where\n",
      "1094/1094 [==============================] - 65s 60ms/step - loss: 0.3631 - acc: 0.8857 - val_loss: 0.1272 - val_acc: 0.9605\n",
      "Epoch 2/10\n",
      "1094/1094 [==============================] - 65s 59ms/step - loss: 0.1423 - acc: 0.9560 - val_loss: 0.0864 - val_acc: 0.9734\n",
      "Epoch 3/10\n",
      "1094/1094 [==============================] - 65s 59ms/step - loss: 0.1146 - acc: 0.9647 - val_loss: 0.0788 - val_acc: 0.9757\n",
      "Epoch 4/10\n",
      "1094/1094 [==============================] - 65s 59ms/step - loss: 0.0947 - acc: 0.9708 - val_loss: 0.0765 - val_acc: 0.9779\n",
      "Epoch 5/10\n",
      "1094/1094 [==============================] - 65s 59ms/step - loss: 0.0834 - acc: 0.9731 - val_loss: 0.0596 - val_acc: 0.9816\n",
      "Epoch 6/10\n",
      "1094/1094 [==============================] - 65s 59ms/step - loss: 0.0766 - acc: 0.9752 - val_loss: 0.0568 - val_acc: 0.9825\n",
      "Epoch 7/10\n",
      "1094/1094 [==============================] - 66s 61ms/step - loss: 0.0699 - acc: 0.9771 - val_loss: 0.0561 - val_acc: 0.9819\n",
      "Epoch 8/10\n",
      "1094/1094 [==============================] - 65s 59ms/step - loss: 0.0666 - acc: 0.9783 - val_loss: 0.0622 - val_acc: 0.9814\n",
      "Epoch 9/10\n",
      "1094/1094 [==============================] - 65s 59ms/step - loss: 0.0613 - acc: 0.9801 - val_loss: 0.0512 - val_acc: 0.9847\n",
      "Epoch 10/10\n",
      "1094/1094 [==============================] - 65s 60ms/step - loss: 0.0541 - acc: 0.9824 - val_loss: 0.0534 - val_acc: 0.9839\n"
     ]
    }
   ],
   "source": [
    "epochs = 10\n",
    "# fitting ann model to train set\n",
    "history = classifier.fit(training_set, epochs=epochs, validation_data=test_set)"
   ]
  },
  {
   "cell_type": "markdown",
   "metadata": {},
   "source": [
    "### Plotting evaluation on train set & test set"
   ]
  },
  {
   "cell_type": "code",
   "execution_count": 8,
   "metadata": {},
   "outputs": [
    {
     "data": {
      "image/png": "[encoded data removed]",
      "text/plain": [
       "<Figure size 432x288 with 1 Axes>"
      ]
     },
     "metadata": {
      "needs_background": "light"
     },
     "output_type": "display_data"
    }
   ],
   "source": [
    "import matplotlib.pyplot as plt\n",
    "\n",
    "acc = history.history['acc']\n",
    "val_acc = history.history['val_acc']\n",
    "\n",
    "loss=history.history['loss']\n",
    "val_loss=history.history['val_loss']\n",
    "\n",
    "epochs_range = range(epochs)\n",
    "\n",
    "plt.plot(epochs_range, acc, label='Training Accuracy')\n",
    "plt.plot(epochs_range, val_acc, label='Test Accuracy')\n",
    "plt.legend(loc='lower right')\n",
    "plt.title('Training and Test Accuracy')\n",
    "plt.show()"
   ]
  },
  {
   "cell_type": "code",
   "execution_count": 9,
   "metadata": {},
   "outputs": [
    {
     "data": {
      "image/png": "[encoded data removed]",
      "text/plain": [
       "<Figure size 432x288 with 1 Axes>"
      ]
     },
     "metadata": {
      "needs_background": "light"
     },
     "output_type": "display_data"
    }
   ],
   "source": [
    "plt.plot(epochs_range, loss, label='Training Loss')\n",
    "plt.plot(epochs_range, val_loss, label='Test Loss')\n",
    "plt.legend(loc='upper right')\n",
    "plt.title('Training and Test Loss')\n",
    "plt.show()"
   ]
  }
 ],
 "metadata": {
  "kernelspec": {
   "display_name": "Python 3",
   "language": "python",
   "name": "python3"
  },
  "language_info": {
   "codemirror_mode": {
    "name": "ipython",
    "version": 3
   },
   "file_extension": ".py",
   "mimetype": "text/x-python",
   "name": "python",
   "nbconvert_exporter": "python",
   "pygments_lexer": "ipython3",
   "version": "3.6.8"
  }
 },
 "nbformat": 4,
 "nbformat_minor": 2
}
