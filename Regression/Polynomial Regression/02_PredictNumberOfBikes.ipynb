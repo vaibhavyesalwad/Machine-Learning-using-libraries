{
 "cells": [
  {
   "cell_type": "markdown",
   "metadata": {},
   "source": [
    "## For a given dataset predict number of bikes getting shared based on different parameters "
   ]
  },
  {
   "cell_type": "raw",
   "metadata": {},
   "source": [
    "https://drive.google.com/open?id=1ohN2o3zSZ2Xuy4CIdTWN-dTmciUXizst"
   ]
  },
  {
   "cell_type": "markdown",
   "metadata": {},
   "source": [
    "### Data Preprocessing"
   ]
  },
  {
   "cell_type": "code",
   "execution_count": 1,
   "metadata": {},
   "outputs": [
    {
     "data": {
      "text/html": [
       "<div>\n",
       "<style scoped>\n",
       "    .dataframe tbody tr th:only-of-type {\n",
       "        vertical-align: middle;\n",
       "    }\n",
       "\n",
       "    .dataframe tbody tr th {\n",
       "        vertical-align: top;\n",
       "    }\n",
       "\n",
       "    .dataframe thead th {\n",
       "        text-align: right;\n",
       "    }\n",
       "</style>\n",
       "<table border=\"1\" class=\"dataframe\">\n",
       "  <thead>\n",
       "    <tr style=\"text-align: right;\">\n",
       "      <th></th>\n",
       "      <th>instant</th>\n",
       "      <th>dteday</th>\n",
       "      <th>season</th>\n",
       "      <th>yr</th>\n",
       "      <th>mnth</th>\n",
       "      <th>hr</th>\n",
       "      <th>holiday</th>\n",
       "      <th>weekday</th>\n",
       "      <th>workingday</th>\n",
       "      <th>weathersit</th>\n",
       "      <th>temp</th>\n",
       "      <th>atemp</th>\n",
       "      <th>hum</th>\n",
       "      <th>windspeed</th>\n",
       "      <th>casual</th>\n",
       "      <th>registered</th>\n",
       "      <th>cnt</th>\n",
       "    </tr>\n",
       "  </thead>\n",
       "  <tbody>\n",
       "    <tr>\n",
       "      <th>0</th>\n",
       "      <td>1</td>\n",
       "      <td>2011-01-01</td>\n",
       "      <td>1</td>\n",
       "      <td>0</td>\n",
       "      <td>1</td>\n",
       "      <td>0</td>\n",
       "      <td>0</td>\n",
       "      <td>6</td>\n",
       "      <td>0</td>\n",
       "      <td>1</td>\n",
       "      <td>0.24</td>\n",
       "      <td>0.2879</td>\n",
       "      <td>0.81</td>\n",
       "      <td>0.0</td>\n",
       "      <td>3</td>\n",
       "      <td>13</td>\n",
       "      <td>16</td>\n",
       "    </tr>\n",
       "    <tr>\n",
       "      <th>1</th>\n",
       "      <td>2</td>\n",
       "      <td>2011-01-01</td>\n",
       "      <td>1</td>\n",
       "      <td>0</td>\n",
       "      <td>1</td>\n",
       "      <td>1</td>\n",
       "      <td>0</td>\n",
       "      <td>6</td>\n",
       "      <td>0</td>\n",
       "      <td>1</td>\n",
       "      <td>0.22</td>\n",
       "      <td>0.2727</td>\n",
       "      <td>0.80</td>\n",
       "      <td>0.0</td>\n",
       "      <td>8</td>\n",
       "      <td>32</td>\n",
       "      <td>40</td>\n",
       "    </tr>\n",
       "    <tr>\n",
       "      <th>2</th>\n",
       "      <td>3</td>\n",
       "      <td>2011-01-01</td>\n",
       "      <td>1</td>\n",
       "      <td>0</td>\n",
       "      <td>1</td>\n",
       "      <td>2</td>\n",
       "      <td>0</td>\n",
       "      <td>6</td>\n",
       "      <td>0</td>\n",
       "      <td>1</td>\n",
       "      <td>0.22</td>\n",
       "      <td>0.2727</td>\n",
       "      <td>0.80</td>\n",
       "      <td>0.0</td>\n",
       "      <td>5</td>\n",
       "      <td>27</td>\n",
       "      <td>32</td>\n",
       "    </tr>\n",
       "    <tr>\n",
       "      <th>3</th>\n",
       "      <td>4</td>\n",
       "      <td>2011-01-01</td>\n",
       "      <td>1</td>\n",
       "      <td>0</td>\n",
       "      <td>1</td>\n",
       "      <td>3</td>\n",
       "      <td>0</td>\n",
       "      <td>6</td>\n",
       "      <td>0</td>\n",
       "      <td>1</td>\n",
       "      <td>0.24</td>\n",
       "      <td>0.2879</td>\n",
       "      <td>0.75</td>\n",
       "      <td>0.0</td>\n",
       "      <td>3</td>\n",
       "      <td>10</td>\n",
       "      <td>13</td>\n",
       "    </tr>\n",
       "    <tr>\n",
       "      <th>4</th>\n",
       "      <td>5</td>\n",
       "      <td>2011-01-01</td>\n",
       "      <td>1</td>\n",
       "      <td>0</td>\n",
       "      <td>1</td>\n",
       "      <td>4</td>\n",
       "      <td>0</td>\n",
       "      <td>6</td>\n",
       "      <td>0</td>\n",
       "      <td>1</td>\n",
       "      <td>0.24</td>\n",
       "      <td>0.2879</td>\n",
       "      <td>0.75</td>\n",
       "      <td>0.0</td>\n",
       "      <td>0</td>\n",
       "      <td>1</td>\n",
       "      <td>1</td>\n",
       "    </tr>\n",
       "  </tbody>\n",
       "</table>\n",
       "</div>"
      ],
      "text/plain": [
       "   instant      dteday  season  yr  mnth  hr  holiday  weekday  workingday  \\\n",
       "0        1  2011-01-01       1   0     1   0        0        6           0   \n",
       "1        2  2011-01-01       1   0     1   1        0        6           0   \n",
       "2        3  2011-01-01       1   0     1   2        0        6           0   \n",
       "3        4  2011-01-01       1   0     1   3        0        6           0   \n",
       "4        5  2011-01-01       1   0     1   4        0        6           0   \n",
       "\n",
       "   weathersit  temp   atemp   hum  windspeed  casual  registered  cnt  \n",
       "0           1  0.24  0.2879  0.81        0.0       3          13   16  \n",
       "1           1  0.22  0.2727  0.80        0.0       8          32   40  \n",
       "2           1  0.22  0.2727  0.80        0.0       5          27   32  \n",
       "3           1  0.24  0.2879  0.75        0.0       3          10   13  \n",
       "4           1  0.24  0.2879  0.75        0.0       0           1    1  "
      ]
     },
     "execution_count": 1,
     "metadata": {},
     "output_type": "execute_result"
    }
   ],
   "source": [
    "# importing needed libraries\n",
    "import numpy as np\n",
    "import matplotlib.pyplot as plt\n",
    "import pandas as pd\n",
    "import seaborn as sns\n",
    "from sklearn.model_selection import train_test_split\n",
    "from sklearn.linear_model import LinearRegression\n",
    "from sklearn.preprocessing import OneHotEncoder\n",
    "from sklearn.preprocessing import PolynomialFeatures\n",
    "from sklearn import metrics\n",
    "import sys\n",
    "sys.path.append('/home/admin1/PycharmProjects/Machine Learning from scratch/')\n",
    "from ipynb.fs.full.ml_library import *\n",
    "\n",
    "# importing dataset & storing it as pandas dataframe\n",
    "bike_data = pd.read_csv('bike_sharing.csv')\n",
    "bike_data.head()"
   ]
  },
  {
   "cell_type": "markdown",
   "metadata": {},
   "source": [
    "#### Checking for null values"
   ]
  },
  {
   "cell_type": "code",
   "execution_count": 2,
   "metadata": {},
   "outputs": [
    {
     "data": {
      "text/plain": [
       "instant       0\n",
       "dteday        0\n",
       "season        0\n",
       "yr            0\n",
       "mnth          0\n",
       "hr            0\n",
       "holiday       0\n",
       "weekday       0\n",
       "workingday    0\n",
       "weathersit    0\n",
       "temp          0\n",
       "atemp         0\n",
       "hum           0\n",
       "windspeed     0\n",
       "casual        0\n",
       "registered    0\n",
       "cnt           0\n",
       "dtype: int64"
      ]
     },
     "execution_count": 2,
     "metadata": {},
     "output_type": "execute_result"
    }
   ],
   "source": [
    "bike_data.isna().sum()"
   ]
  },
  {
   "cell_type": "code",
   "execution_count": 3,
   "metadata": {},
   "outputs": [
    {
     "data": {
      "text/html": [
       "<div>\n",
       "<style scoped>\n",
       "    .dataframe tbody tr th:only-of-type {\n",
       "        vertical-align: middle;\n",
       "    }\n",
       "\n",
       "    .dataframe tbody tr th {\n",
       "        vertical-align: top;\n",
       "    }\n",
       "\n",
       "    .dataframe thead th {\n",
       "        text-align: right;\n",
       "    }\n",
       "</style>\n",
       "<table border=\"1\" class=\"dataframe\">\n",
       "  <thead>\n",
       "    <tr style=\"text-align: right;\">\n",
       "      <th></th>\n",
       "      <th>instant</th>\n",
       "      <th>season</th>\n",
       "      <th>yr</th>\n",
       "      <th>mnth</th>\n",
       "      <th>hr</th>\n",
       "      <th>holiday</th>\n",
       "      <th>weekday</th>\n",
       "      <th>workingday</th>\n",
       "      <th>weathersit</th>\n",
       "      <th>temp</th>\n",
       "      <th>atemp</th>\n",
       "      <th>hum</th>\n",
       "      <th>windspeed</th>\n",
       "      <th>casual</th>\n",
       "      <th>registered</th>\n",
       "      <th>cnt</th>\n",
       "    </tr>\n",
       "  </thead>\n",
       "  <tbody>\n",
       "    <tr>\n",
       "      <th>count</th>\n",
       "      <td>17379.0000</td>\n",
       "      <td>17379.000000</td>\n",
       "      <td>17379.000000</td>\n",
       "      <td>17379.000000</td>\n",
       "      <td>17379.000000</td>\n",
       "      <td>17379.000000</td>\n",
       "      <td>17379.000000</td>\n",
       "      <td>17379.000000</td>\n",
       "      <td>17379.000000</td>\n",
       "      <td>17379.000000</td>\n",
       "      <td>17379.000000</td>\n",
       "      <td>17379.000000</td>\n",
       "      <td>17379.000000</td>\n",
       "      <td>17379.000000</td>\n",
       "      <td>17379.000000</td>\n",
       "      <td>17379.000000</td>\n",
       "    </tr>\n",
       "    <tr>\n",
       "      <th>mean</th>\n",
       "      <td>8690.0000</td>\n",
       "      <td>2.501640</td>\n",
       "      <td>0.502561</td>\n",
       "      <td>6.537775</td>\n",
       "      <td>11.546752</td>\n",
       "      <td>0.028770</td>\n",
       "      <td>3.003683</td>\n",
       "      <td>0.682721</td>\n",
       "      <td>1.425283</td>\n",
       "      <td>0.496987</td>\n",
       "      <td>0.475775</td>\n",
       "      <td>0.627229</td>\n",
       "      <td>0.190098</td>\n",
       "      <td>35.676218</td>\n",
       "      <td>153.786869</td>\n",
       "      <td>189.463088</td>\n",
       "    </tr>\n",
       "    <tr>\n",
       "      <th>std</th>\n",
       "      <td>5017.0295</td>\n",
       "      <td>1.106918</td>\n",
       "      <td>0.500008</td>\n",
       "      <td>3.438776</td>\n",
       "      <td>6.914405</td>\n",
       "      <td>0.167165</td>\n",
       "      <td>2.005771</td>\n",
       "      <td>0.465431</td>\n",
       "      <td>0.639357</td>\n",
       "      <td>0.192556</td>\n",
       "      <td>0.171850</td>\n",
       "      <td>0.192930</td>\n",
       "      <td>0.122340</td>\n",
       "      <td>49.305030</td>\n",
       "      <td>151.357286</td>\n",
       "      <td>181.387599</td>\n",
       "    </tr>\n",
       "    <tr>\n",
       "      <th>min</th>\n",
       "      <td>1.0000</td>\n",
       "      <td>1.000000</td>\n",
       "      <td>0.000000</td>\n",
       "      <td>1.000000</td>\n",
       "      <td>0.000000</td>\n",
       "      <td>0.000000</td>\n",
       "      <td>0.000000</td>\n",
       "      <td>0.000000</td>\n",
       "      <td>1.000000</td>\n",
       "      <td>0.020000</td>\n",
       "      <td>0.000000</td>\n",
       "      <td>0.000000</td>\n",
       "      <td>0.000000</td>\n",
       "      <td>0.000000</td>\n",
       "      <td>0.000000</td>\n",
       "      <td>1.000000</td>\n",
       "    </tr>\n",
       "    <tr>\n",
       "      <th>25%</th>\n",
       "      <td>4345.5000</td>\n",
       "      <td>2.000000</td>\n",
       "      <td>0.000000</td>\n",
       "      <td>4.000000</td>\n",
       "      <td>6.000000</td>\n",
       "      <td>0.000000</td>\n",
       "      <td>1.000000</td>\n",
       "      <td>0.000000</td>\n",
       "      <td>1.000000</td>\n",
       "      <td>0.340000</td>\n",
       "      <td>0.333300</td>\n",
       "      <td>0.480000</td>\n",
       "      <td>0.104500</td>\n",
       "      <td>4.000000</td>\n",
       "      <td>34.000000</td>\n",
       "      <td>40.000000</td>\n",
       "    </tr>\n",
       "    <tr>\n",
       "      <th>50%</th>\n",
       "      <td>8690.0000</td>\n",
       "      <td>3.000000</td>\n",
       "      <td>1.000000</td>\n",
       "      <td>7.000000</td>\n",
       "      <td>12.000000</td>\n",
       "      <td>0.000000</td>\n",
       "      <td>3.000000</td>\n",
       "      <td>1.000000</td>\n",
       "      <td>1.000000</td>\n",
       "      <td>0.500000</td>\n",
       "      <td>0.484800</td>\n",
       "      <td>0.630000</td>\n",
       "      <td>0.194000</td>\n",
       "      <td>17.000000</td>\n",
       "      <td>115.000000</td>\n",
       "      <td>142.000000</td>\n",
       "    </tr>\n",
       "    <tr>\n",
       "      <th>75%</th>\n",
       "      <td>13034.5000</td>\n",
       "      <td>3.000000</td>\n",
       "      <td>1.000000</td>\n",
       "      <td>10.000000</td>\n",
       "      <td>18.000000</td>\n",
       "      <td>0.000000</td>\n",
       "      <td>5.000000</td>\n",
       "      <td>1.000000</td>\n",
       "      <td>2.000000</td>\n",
       "      <td>0.660000</td>\n",
       "      <td>0.621200</td>\n",
       "      <td>0.780000</td>\n",
       "      <td>0.253700</td>\n",
       "      <td>48.000000</td>\n",
       "      <td>220.000000</td>\n",
       "      <td>281.000000</td>\n",
       "    </tr>\n",
       "    <tr>\n",
       "      <th>max</th>\n",
       "      <td>17379.0000</td>\n",
       "      <td>4.000000</td>\n",
       "      <td>1.000000</td>\n",
       "      <td>12.000000</td>\n",
       "      <td>23.000000</td>\n",
       "      <td>1.000000</td>\n",
       "      <td>6.000000</td>\n",
       "      <td>1.000000</td>\n",
       "      <td>4.000000</td>\n",
       "      <td>1.000000</td>\n",
       "      <td>1.000000</td>\n",
       "      <td>1.000000</td>\n",
       "      <td>0.850700</td>\n",
       "      <td>367.000000</td>\n",
       "      <td>886.000000</td>\n",
       "      <td>977.000000</td>\n",
       "    </tr>\n",
       "  </tbody>\n",
       "</table>\n",
       "</div>"
      ],
      "text/plain": [
       "          instant        season            yr          mnth            hr  \\\n",
       "count  17379.0000  17379.000000  17379.000000  17379.000000  17379.000000   \n",
       "mean    8690.0000      2.501640      0.502561      6.537775     11.546752   \n",
       "std     5017.0295      1.106918      0.500008      3.438776      6.914405   \n",
       "min        1.0000      1.000000      0.000000      1.000000      0.000000   \n",
       "25%     4345.5000      2.000000      0.000000      4.000000      6.000000   \n",
       "50%     8690.0000      3.000000      1.000000      7.000000     12.000000   \n",
       "75%    13034.5000      3.000000      1.000000     10.000000     18.000000   \n",
       "max    17379.0000      4.000000      1.000000     12.000000     23.000000   \n",
       "\n",
       "            holiday       weekday    workingday    weathersit          temp  \\\n",
       "count  17379.000000  17379.000000  17379.000000  17379.000000  17379.000000   \n",
       "mean       0.028770      3.003683      0.682721      1.425283      0.496987   \n",
       "std        0.167165      2.005771      0.465431      0.639357      0.192556   \n",
       "min        0.000000      0.000000      0.000000      1.000000      0.020000   \n",
       "25%        0.000000      1.000000      0.000000      1.000000      0.340000   \n",
       "50%        0.000000      3.000000      1.000000      1.000000      0.500000   \n",
       "75%        0.000000      5.000000      1.000000      2.000000      0.660000   \n",
       "max        1.000000      6.000000      1.000000      4.000000      1.000000   \n",
       "\n",
       "              atemp           hum     windspeed        casual    registered  \\\n",
       "count  17379.000000  17379.000000  17379.000000  17379.000000  17379.000000   \n",
       "mean       0.475775      0.627229      0.190098     35.676218    153.786869   \n",
       "std        0.171850      0.192930      0.122340     49.305030    151.357286   \n",
       "min        0.000000      0.000000      0.000000      0.000000      0.000000   \n",
       "25%        0.333300      0.480000      0.104500      4.000000     34.000000   \n",
       "50%        0.484800      0.630000      0.194000     17.000000    115.000000   \n",
       "75%        0.621200      0.780000      0.253700     48.000000    220.000000   \n",
       "max        1.000000      1.000000      0.850700    367.000000    886.000000   \n",
       "\n",
       "                cnt  \n",
       "count  17379.000000  \n",
       "mean     189.463088  \n",
       "std      181.387599  \n",
       "min        1.000000  \n",
       "25%       40.000000  \n",
       "50%      142.000000  \n",
       "75%      281.000000  \n",
       "max      977.000000  "
      ]
     },
     "execution_count": 3,
     "metadata": {},
     "output_type": "execute_result"
    }
   ],
   "source": [
    "bike_data.describe()         # observing statistical summary of columns"
   ]
  },
  {
   "cell_type": "code",
   "execution_count": 4,
   "metadata": {},
   "outputs": [],
   "source": [
    "# removing unncessary columns\n",
    "bike_data.drop(['dteday', 'instant', 'casual', 'registered'], axis=1, inplace=True)"
   ]
  },
  {
   "cell_type": "markdown",
   "metadata": {},
   "source": [
    "#### Checking correlations between different (continuous numerical) columns of data"
   ]
  },
  {
   "cell_type": "code",
   "execution_count": 5,
   "metadata": {},
   "outputs": [
    {
     "data": {
      "image/png": "[encoded data removed]",
      "text/plain": [
       "<Figure size 1080x720 with 2 Axes>"
      ]
     },
     "metadata": {
      "needs_background": "light"
     },
     "output_type": "display_data"
    }
   ],
   "source": [
    "plt.figure(figsize=(15,10))\n",
    "sns.heatmap(data=bike_data.loc[:,['temp', 'atemp','windspeed','hum','cnt']].corr(), annot=True)\n",
    "plt.show()"
   ]
  },
  {
   "cell_type": "code",
   "execution_count": 6,
   "metadata": {},
   "outputs": [],
   "source": [
    "# removing one of in pairs of well correlated feature columns\n",
    "bike_data.drop(['atemp'],axis=1, inplace=True)"
   ]
  },
  {
   "cell_type": "code",
   "execution_count": 7,
   "metadata": {},
   "outputs": [],
   "source": [
    "# removing unnecessary categorical columns\n",
    "#bike_data.drop(['workingday'],axis=1, inplace=True)"
   ]
  },
  {
   "cell_type": "code",
   "execution_count": 8,
   "metadata": {},
   "outputs": [
    {
     "name": "stdout",
     "output_type": "stream",
     "text": [
      "      season        yr      mnth   holiday   weekday  workingday  weathersit  \\\n",
      "hr                                                                             \n",
      "0   2.500000  0.502755  6.534435  0.028926  3.004132    0.683196    1.398072   \n",
      "1   2.497238  0.502762  6.526243  0.029006  3.008287    0.682320    1.400552   \n",
      "2   2.511888  0.507692  6.567832  0.029371  3.027972    0.681119    1.409790   \n",
      "3   2.539455  0.509326  6.645624  0.025825  3.027260    0.674319    1.424677   \n",
      "4   2.552367  0.516499  6.664275  0.028694  3.011478    0.674319    1.426112   \n",
      "5   2.513250  0.507671  6.581590  0.029289  3.023710    0.690377    1.422594   \n",
      "6   2.497931  0.502069  6.531034  0.028966  3.009655    0.684138    1.451034   \n",
      "7   2.496561  0.500688  6.525447  0.028886  3.001376    0.682256    1.486933   \n",
      "8   2.496561  0.500688  6.525447  0.028886  3.001376    0.682256    1.474553   \n",
      "9   2.496561  0.500688  6.525447  0.028886  3.001376    0.682256    1.484182   \n",
      "10  2.496561  0.500688  6.525447  0.028886  3.001376    0.682256    1.462173   \n",
      "11  2.496561  0.500688  6.525447  0.028886  3.001376    0.682256    1.449794   \n",
      "12  2.494505  0.500000  6.517857  0.028846  3.000000    0.682692    1.467033   \n",
      "13  2.496571  0.500686  6.522634  0.028807  2.998628    0.683128    1.444444   \n",
      "14  2.496571  0.500686  6.522634  0.028807  2.998628    0.683128    1.433471   \n",
      "15  2.496571  0.500686  6.522634  0.028807  2.998628    0.683128    1.425240   \n",
      "16  2.494521  0.500000  6.515068  0.028767  3.000000    0.683562    1.398630   \n",
      "17  2.494521  0.500000  6.515068  0.028767  3.000000    0.683562    1.409589   \n",
      "18  2.495879  0.501374  6.520604  0.028846  2.995879    0.684066    1.410714   \n",
      "19  2.495879  0.501374  6.520604  0.028846  2.995879    0.684066    1.381868   \n",
      "20  2.495879  0.501374  6.520604  0.028846  2.995879    0.684066    1.379121   \n",
      "21  2.495879  0.501374  6.520604  0.028846  2.995879    0.684066    1.373626   \n",
      "22  2.495879  0.501374  6.520604  0.028846  2.995879    0.684066    1.376374   \n",
      "23  2.495879  0.501374  6.520604  0.028846  2.995879    0.684066    1.416209   \n",
      "\n",
      "        temp       hum  windspeed         cnt  \n",
      "hr                                             \n",
      "0   0.467410  0.691019   0.161758   53.898072  \n",
      "1   0.459365  0.704213   0.158659   33.375691  \n",
      "2   0.454573  0.716825   0.154519   22.869930  \n",
      "3   0.453113  0.729785   0.150929   11.727403  \n",
      "4   0.446628  0.742367   0.155813    6.352941  \n",
      "5   0.436123  0.742929   0.150342   19.889819  \n",
      "6   0.432469  0.744179   0.157722   76.044138  \n",
      "7   0.439092  0.730908   0.163916  212.064649  \n",
      "8   0.454993  0.702682   0.176563  359.011004  \n",
      "9   0.476726  0.661692   0.191262  219.309491  \n",
      "10  0.500578  0.616066   0.202041  173.668501  \n",
      "11  0.522613  0.571431   0.207339  208.143054  \n",
      "12  0.540275  0.536703   0.216013  253.315934  \n",
      "13  0.554733  0.511591   0.221633  253.661180  \n",
      "14  0.565075  0.496982   0.232462  240.949246  \n",
      "15  0.568615  0.492126   0.235143  251.233196  \n",
      "16  0.564959  0.495795   0.237317  311.983562  \n",
      "17  0.554575  0.513438   0.233371  461.452055  \n",
      "18  0.541181  0.535989   0.224684  425.510989  \n",
      "19  0.524176  0.572445   0.210148  311.523352  \n",
      "20  0.508599  0.601470   0.195222  226.030220  \n",
      "21  0.495302  0.631538   0.180871  172.314560  \n",
      "22  0.484505  0.653146   0.174640  131.335165  \n",
      "23  0.475027  0.673269   0.164802   87.831044  \n",
      "        season        yr         hr   holiday   weekday  workingday  \\\n",
      "mnth                                                                  \n",
      "1     1.000000  0.518544  11.696991  0.049685  2.869839    0.634710   \n",
      "2     1.000000  0.516033  11.662192  0.035048  3.011186    0.680835   \n",
      "3     1.355737  0.504413  11.581806  0.000000  3.107943    0.725730   \n",
      "4     2.000000  0.499652  11.517049  0.033403  3.002784    0.665971   \n",
      "5     2.000000  0.500000  11.500000  0.032258  2.903226    0.693548   \n",
      "6     2.333333  0.500000  11.500000  0.000000  3.100000    0.716667   \n",
      "7     3.000000  0.500000  11.500000  0.032258  2.935484    0.661290   \n",
      "8     3.000000  0.504407  11.503729  0.000000  3.002034    0.748475   \n",
      "9     3.267223  0.501044  11.519833  0.033403  3.051496    0.665971   \n",
      "10    4.000000  0.487939  11.547209  0.033081  2.957960    0.669194   \n",
      "11    4.000000  0.499652  11.518441  0.066806  3.033403    0.665971   \n",
      "12    2.942009  0.500337  11.526635  0.031018  3.070128    0.662171   \n",
      "\n",
      "      weathersit      temp       hum  windspeed         cnt  \n",
      "mnth                                                         \n",
      "1       1.456963  0.237649  0.580931   0.207551   94.424773  \n",
      "2       1.459359  0.300209  0.567211   0.215961  112.865026  \n",
      "3       1.474542  0.390903  0.589050   0.222517  155.410726  \n",
      "4       1.456507  0.470021  0.588114   0.234323  187.260960  \n",
      "5       1.461694  0.594798  0.688958   0.182989  222.907258  \n",
      "6       1.290972  0.684097  0.575806   0.185420  240.515278  \n",
      "7       1.254032  0.755470  0.597876   0.166059  231.819892  \n",
      "8       1.322712  0.708705  0.637227   0.171468  238.097627  \n",
      "9       1.488518  0.616507  0.714454   0.165856  240.773138  \n",
      "10      1.509993  0.487181  0.689490   0.171919  222.158511  \n",
      "11      1.403619  0.369200  0.625045   0.183764  177.335421  \n",
      "12      1.529332  0.324167  0.666116   0.176574  142.303439  \n",
      "           season        yr      mnth         hr   holiday  workingday  \\\n",
      "weekday                                                                  \n",
      "0        2.490408  0.507994  6.487210  11.555156  0.000000    0.000000   \n",
      "1        2.488503  0.501815  6.479225  11.556676  0.144010    0.855990   \n",
      "2        2.529148  0.501834  6.516918  11.622095  0.009376    0.990624   \n",
      "3        2.510707  0.503434  6.543838  11.527273  0.009697    0.990303   \n",
      "4        2.521651  0.504249  6.590045  11.556050  0.019425    0.980575   \n",
      "5        2.495778  0.501809  6.593888  11.527945  0.019300    0.980700   \n",
      "6        2.476115  0.496815  6.553344  11.483678  0.000000    0.000000   \n",
      "\n",
      "         weathersit      temp       hum  windspeed         cnt  \n",
      "weekday                                                         \n",
      "0          1.362110  0.483821  0.627994   0.188093  177.468825  \n",
      "1          1.431222  0.495046  0.635651   0.188863  183.744655  \n",
      "2          1.476152  0.508569  0.639833   0.191917  191.238891  \n",
      "3          1.485657  0.506675  0.644820   0.187172  191.130505  \n",
      "4          1.402266  0.507017  0.609628   0.191987  196.436665  \n",
      "5          1.412143  0.496429  0.613840   0.186430  196.135907  \n",
      "6          1.408838  0.481847  0.619084   0.196190  190.209793  \n",
      "           season        yr      mnth         hr   weekday  workingday  \\\n",
      "holiday                                                                  \n",
      "0        2.503466  0.501985  6.526868  11.546182  3.038924    0.702944   \n",
      "1        2.440000  0.522000  6.906000  11.566000  1.814000    0.000000   \n",
      "\n",
      "         weathersit      temp      hum  windspeed        cnt  \n",
      "holiday                                                       \n",
      "0          1.427158  0.497893  0.62758   0.190014  190.42858  \n",
      "1          1.362000  0.466400  0.61536   0.192932  156.87000  \n",
      "      season      mnth         hr   holiday   weekday  workingday  weathersit  \\\n",
      "yr                                                                              \n",
      "0   2.513592  6.573973  11.573626  0.027646  3.012724    0.683748    1.437594   \n",
      "1   2.489810  6.501946  11.520151  0.029883  2.994733    0.681704    1.413098   \n",
      "\n",
      "        temp       hum  windspeed         cnt  \n",
      "yr                                             \n",
      "0   0.489069  0.643430   0.191172  143.794448  \n",
      "1   0.504825  0.611193   0.189034  234.666361  \n",
      "              yr       mnth         hr   holiday   weekday  workingday  \\\n",
      "season                                                                   \n",
      "1       0.512494   3.119755  11.648515  0.038661  3.008722    0.658652   \n",
      "2       0.500340   4.654117  11.512134  0.021774  2.991608    0.695396   \n",
      "3       0.501779   7.689724  11.507562  0.021352  3.033141    0.698621   \n",
      "4       0.495747  10.702505  11.522448  0.034026  2.979915    0.676749   \n",
      "\n",
      "        weathersit      temp       hum  windspeed         cnt  \n",
      "season                                                         \n",
      "1         1.460160  0.299147  0.581348   0.215107  111.114569  \n",
      "2         1.443638  0.544663  0.627022   0.203410  208.344069  \n",
      "3         1.330294  0.706410  0.633167   0.171593  236.016237  \n",
      "4         1.472117  0.423138  0.667124   0.170819  198.868856  \n",
      "              season        yr      mnth         hr   holiday   weekday  \\\n",
      "weathersit                                                                \n",
      "1           2.511084  0.505389  6.511872  11.731709  0.029878  2.999124   \n",
      "2           2.492518  0.511884  6.618838  10.959287  0.030150  3.010563   \n",
      "3           2.458069  0.449612  6.498238  11.940099  0.015504  3.017618   \n",
      "4           1.000000  0.666667  1.000000  11.666667  0.000000  3.333333   \n",
      "\n",
      "            workingday      temp       hum  windspeed         cnt  \n",
      "weathersit                                                         \n",
      "1             0.668711  0.511054  0.573747   0.190553  204.869272  \n",
      "2             0.702245  0.474445  0.698807   0.179973  175.165493  \n",
      "3             0.732911  0.456688  0.827632   0.218825  111.579281  \n",
      "4             0.666667  0.186667  0.883333   0.204000   74.333333  \n"
     ]
    }
   ],
   "source": [
    "categorical_cols = ['hr','mnth','weekday', 'holiday','yr','season','weathersit']\n",
    "for col in categorical_cols:\n",
    "    print(bike_data.groupby(col).mean())"
   ]
  },
  {
   "cell_type": "code",
   "execution_count": 9,
   "metadata": {},
   "outputs": [],
   "source": [
    "bike_data.drop(['holiday'], axis=1,inplace=True)"
   ]
  },
  {
   "cell_type": "markdown",
   "metadata": {},
   "source": [
    "#### Checking for outliers in continuous numerical columns"
   ]
  },
  {
   "cell_type": "code",
   "execution_count": 10,
   "metadata": {},
   "outputs": [
    {
     "data": {
      "image/png": "[encoded data removed]",
      "text/plain": [
       "<Figure size 1296x576 with 1 Axes>"
      ]
     },
     "metadata": {
      "needs_background": "light"
     },
     "output_type": "display_data"
    }
   ],
   "source": [
    "plt.figure(figsize=(18,8))\n",
    "sns.boxplot(data=bike_data.loc[:,['temp','hum','windspeed','cnt']])\n",
    "plt.show()"
   ]
  },
  {
   "cell_type": "code",
   "execution_count": 11,
   "metadata": {},
   "outputs": [
    {
     "data": {
      "text/plain": [
       "(16874, 11)"
      ]
     },
     "execution_count": 11,
     "metadata": {},
     "output_type": "execute_result"
    }
   ],
   "source": [
    "bike_data = remove_outliers(bike_data, ['cnt'])\n",
    "bike_data.shape                  # shape after removing outliers"
   ]
  },
  {
   "cell_type": "code",
   "execution_count": 12,
   "metadata": {},
   "outputs": [
    {
     "data": {
      "image/png": "[encoded data removed]",
      "text/plain": [
       "<Figure size 1296x576 with 1 Axes>"
      ]
     },
     "metadata": {
      "needs_background": "light"
     },
     "output_type": "display_data"
    }
   ],
   "source": [
    "plt.figure(figsize=(18,8))\n",
    "sns.boxplot(data=bike_data.loc[:,['temp','hum','windspeed','cnt']])\n",
    "plt.show()"
   ]
  },
  {
   "cell_type": "code",
   "execution_count": 13,
   "metadata": {},
   "outputs": [
    {
     "data": {
      "text/plain": [
       "Index(['season', 'yr', 'mnth', 'hr', 'weekday', 'workingday', 'weathersit',\n",
       "       'temp', 'hum', 'windspeed', 'cnt'],\n",
       "      dtype='object')"
      ]
     },
     "execution_count": 13,
     "metadata": {},
     "output_type": "execute_result"
    }
   ],
   "source": [
    "bike_data.columns"
   ]
  },
  {
   "cell_type": "markdown",
   "metadata": {},
   "source": [
    "#### Separating out feature & label columns"
   ]
  },
  {
   "cell_type": "code",
   "execution_count": 14,
   "metadata": {},
   "outputs": [],
   "source": [
    "# taking continuous numerical variable columns  or two category categorical columns\n",
    "feature_cols = [col for col in bike_data.columns if col != 'cnt']\n",
    "x_values = bike_data.loc[:,feature_cols].values\n",
    "y_values = bike_data['cnt'].values"
   ]
  },
  {
   "cell_type": "code",
   "execution_count": 15,
   "metadata": {},
   "outputs": [
    {
     "data": {
      "text/plain": [
       "(16874, 10)"
      ]
     },
     "execution_count": 15,
     "metadata": {},
     "output_type": "execute_result"
    }
   ],
   "source": [
    "x_values.shape"
   ]
  },
  {
   "cell_type": "markdown",
   "metadata": {},
   "source": [
    "#### Creating polynomial features"
   ]
  },
  {
   "cell_type": "code",
   "execution_count": 16,
   "metadata": {},
   "outputs": [],
   "source": [
    "poly = PolynomialFeatures(degree=5)\n",
    "x_values = poly.fit_transform(x_values)"
   ]
  },
  {
   "cell_type": "code",
   "execution_count": 17,
   "metadata": {},
   "outputs": [
    {
     "data": {
      "text/plain": [
       "(16874, 3003)"
      ]
     },
     "execution_count": 17,
     "metadata": {},
     "output_type": "execute_result"
    }
   ],
   "source": [
    "x_values.shape"
   ]
  },
  {
   "cell_type": "markdown",
   "metadata": {},
   "source": [
    "#### Splitting dataset into train set & test set"
   ]
  },
  {
   "cell_type": "code",
   "execution_count": 18,
   "metadata": {},
   "outputs": [],
   "source": [
    "train_x_values, test_x_values, train_y_values, test_y_values = train_test_split(x_values, y_values, train_size = 0.8, random_state=10) "
   ]
  },
  {
   "cell_type": "markdown",
   "metadata": {},
   "source": [
    "### Buliding linear regression model"
   ]
  },
  {
   "cell_type": "code",
   "execution_count": 19,
   "metadata": {},
   "outputs": [
    {
     "data": {
      "text/plain": [
       "LinearRegression(copy_X=True, fit_intercept=True, n_jobs=None, normalize=False)"
      ]
     },
     "execution_count": 19,
     "metadata": {},
     "output_type": "execute_result"
    }
   ],
   "source": [
    "regressor = LinearRegression()       # creating object from LinearRegression class\n",
    "regressor.fit(train_x_values, train_y_values)       # building linear regression model"
   ]
  },
  {
   "cell_type": "markdown",
   "metadata": {},
   "source": [
    "#### Storing predictions for train set"
   ]
  },
  {
   "cell_type": "code",
   "execution_count": 20,
   "metadata": {},
   "outputs": [],
   "source": [
    "train_prediction = regressor.predict(train_x_values)\n",
    "test_prediction = regressor.predict(test_x_values)"
   ]
  },
  {
   "cell_type": "markdown",
   "metadata": {},
   "source": [
    "### Calculating errors"
   ]
  },
  {
   "cell_type": "code",
   "execution_count": 21,
   "metadata": {},
   "outputs": [
    {
     "data": {
      "text/plain": [
       "61.98154947624825"
      ]
     },
     "execution_count": 21,
     "metadata": {},
     "output_type": "execute_result"
    }
   ],
   "source": [
    "mean_abs_error = metrics.mean_absolute_error(test_y_values, test_prediction)\n",
    "mean_abs_error"
   ]
  },
  {
   "cell_type": "code",
   "execution_count": 22,
   "metadata": {},
   "outputs": [
    {
     "data": {
      "text/plain": [
       "7672.0140399203565"
      ]
     },
     "execution_count": 22,
     "metadata": {},
     "output_type": "execute_result"
    }
   ],
   "source": [
    "mean_sqr_error = metrics.mean_squared_error(test_y_values, test_prediction)\n",
    "mean_sqr_error"
   ]
  },
  {
   "cell_type": "code",
   "execution_count": 23,
   "metadata": {},
   "outputs": [
    {
     "data": {
      "text/plain": [
       "87.59003390751916"
      ]
     },
     "execution_count": 23,
     "metadata": {},
     "output_type": "execute_result"
    }
   ],
   "source": [
    "root_mean_sqr_error = np.sqrt(mean_sqr_error)\n",
    "root_mean_sqr_error"
   ]
  },
  {
   "cell_type": "markdown",
   "metadata": {},
   "source": [
    "### Evaluating model against test set"
   ]
  },
  {
   "cell_type": "code",
   "execution_count": 24,
   "metadata": {},
   "outputs": [
    {
     "name": "stdout",
     "output_type": "stream",
     "text": [
      "r2_score: 0.6896583547067018\n"
     ]
    }
   ],
   "source": [
    "print(f'r2_score: {metrics.r2_score(test_y_values, test_prediction)}')"
   ]
  }
 ],
 "metadata": {
  "kernelspec": {
   "display_name": "Python 3",
   "language": "python",
   "name": "python3"
  },
  "language_info": {
   "codemirror_mode": {
    "name": "ipython",
    "version": 3
   },
   "file_extension": ".py",
   "mimetype": "text/x-python",
   "name": "python",
   "nbconvert_exporter": "python",
   "pygments_lexer": "ipython3",
   "version": "3.6.9"
  }
 },
 "nbformat": 4,
 "nbformat_minor": 2
}
