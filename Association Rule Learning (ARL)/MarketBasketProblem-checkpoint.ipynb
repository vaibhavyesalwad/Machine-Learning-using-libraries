{
 "cells": [
  {
   "cell_type": "markdown",
   "metadata": {},
   "source": [
    "## Generate association rules for dataset given in the url"
   ]
  },
  {
   "cell_type": "raw",
   "metadata": {},
   "source": [
    "https://drive.google.com/open?id=1ke8crGAhKwSx1xbanwr8n5gNwpqOdDXU"
   ]
  },
  {
   "cell_type": "markdown",
   "metadata": {},
   "source": [
    "### Data Preprocessing"
   ]
  },
  {
   "cell_type": "code",
   "execution_count": 1,
   "metadata": {},
   "outputs": [],
   "source": [
    "import numpy as np\n",
    "import matplotlib.pyplot as plt\n",
    "import sys\n",
    "sys.path.append('/home/admin1/PycharmProjects/Machine Learning using libraries/')\n",
    "import os\n",
    "os.chdir('/home/admin1/PycharmProjects/Machine Learning using libraries/Classification/Datasets & pickled objects/')\n",
    "\n",
    "# reading dataset from csv file & storing as string\n",
    "with open('Market_Basket_Optimisation.csv') as file:\n",
    "    data = file.read()"
   ]
  },
  {
   "cell_type": "markdown",
   "metadata": {},
   "source": [
    "####  Creating list of lists representing all transactions"
   ]
  },
  {
   "cell_type": "code",
   "execution_count": 2,
   "metadata": {},
   "outputs": [
    {
     "data": {
      "text/plain": [
       "['shrimp,almonds,avocado,vegetables mix,green grapes,whole weat flour,yams,cottage cheese,energy drink,tomato juice,low fat yogurt,green tea,honey,salad,mineral water,salmon,antioxydant juice,frozen smoothie,spinach,olive oil',\n",
       " 'burgers,meatballs,eggs',\n",
       " 'chutney',\n",
       " 'turkey,avocado',\n",
       " 'mineral water,milk,energy bar,whole wheat rice,green tea']"
      ]
     },
     "execution_count": 2,
     "metadata": {},
     "output_type": "execute_result"
    }
   ],
   "source": [
    "data  = data.split('\\n')\n",
    "data[:5]"
   ]
  },
  {
   "cell_type": "code",
   "execution_count": 3,
   "metadata": {},
   "outputs": [
    {
     "data": {
      "text/plain": [
       "[['shrimp',\n",
       "  'almonds',\n",
       "  'avocado',\n",
       "  'vegetables mix',\n",
       "  'green grapes',\n",
       "  'whole weat flour',\n",
       "  'yams',\n",
       "  'cottage cheese',\n",
       "  'energy drink',\n",
       "  'tomato juice',\n",
       "  'low fat yogurt',\n",
       "  'green tea',\n",
       "  'honey',\n",
       "  'salad',\n",
       "  'mineral water',\n",
       "  'salmon',\n",
       "  'antioxydant juice',\n",
       "  'frozen smoothie',\n",
       "  'spinach',\n",
       "  'olive oil'],\n",
       " ['burgers', 'meatballs', 'eggs'],\n",
       " ['chutney'],\n",
       " ['turkey', 'avocado'],\n",
       " ['mineral water', 'milk', 'energy bar', 'whole wheat rice', 'green tea']]"
      ]
     },
     "execution_count": 3,
     "metadata": {},
     "output_type": "execute_result"
    }
   ],
   "source": [
    "market_basket_data = []\n",
    "for row in data:\n",
    "    transaction = row.split(',')\n",
    "    market_basket_data.append(transaction)\n",
    "    \n",
    "market_basket_data[:5]"
   ]
  },
  {
   "cell_type": "code",
   "execution_count": 4,
   "metadata": {},
   "outputs": [
    {
     "data": {
      "text/plain": [
       "7502"
      ]
     },
     "execution_count": 4,
     "metadata": {},
     "output_type": "execute_result"
    }
   ],
   "source": [
    "total_transactions = len(market_basket_data)\n",
    "total_transactions"
   ]
  },
  {
   "cell_type": "code",
   "execution_count": 5,
   "metadata": {},
   "outputs": [
    {
     "data": {
      "text/plain": [
       "7501"
      ]
     },
     "execution_count": 5,
     "metadata": {},
     "output_type": "execute_result"
    }
   ],
   "source": [
    "market_basket_data = market_basket_data[:-1]\n",
    "total_transactions = len(market_basket_data)\n",
    "total_transactions"
   ]
  },
  {
   "cell_type": "markdown",
   "metadata": {},
   "source": [
    "### Finding rules out of all transactions using Apriori algorithm"
   ]
  },
  {
   "cell_type": "markdown",
   "metadata": {},
   "source": [
    "#### Setting parameters according to business goal"
   ]
  },
  {
   "cell_type": "code",
   "execution_count": 6,
   "metadata": {},
   "outputs": [
    {
     "data": {
      "text/plain": [
       "0.004666666666666667"
      ]
     },
     "execution_count": 6,
     "metadata": {},
     "output_type": "execute_result"
    }
   ],
   "source": [
    "# Given dataset is of a week\n",
    "# Defining minimum support if we widh to find association of products are purchased 5 times a day so 35 times a week\n",
    "min_support = 35/7500\n",
    "min_support"
   ]
  },
  {
   "cell_type": "code",
   "execution_count": 7,
   "metadata": {},
   "outputs": [],
   "source": [
    "# defining minimum confidence after i.e. 30 %  chance that other product will be purchased- conditional probability \n",
    "min_confidence  = 0.3\n",
    "\n",
    "# lift must be at least 2 means likelihood of purchasing other product  must at least increased by 2 times \n",
    "# it would be because of target marketing beacuse of association we intend to implement\n",
    "min_lift = 2"
   ]
  },
  {
   "cell_type": "markdown",
   "metadata": {},
   "source": [
    "#### Applying apriori algorithm for given parameters"
   ]
  },
  {
   "cell_type": "code",
   "execution_count": 8,
   "metadata": {},
   "outputs": [],
   "source": [
    "from apyori import apriori\n",
    "rules = apriori(market_basket_data, min_support=min_support, min_confidence=min_confidence, min_lift=min_lift, min_length=4)"
   ]
  },
  {
   "cell_type": "markdown",
   "metadata": {},
   "source": [
    "### Displaying association rules"
   ]
  },
  {
   "cell_type": "code",
   "execution_count": 9,
   "metadata": {},
   "outputs": [],
   "source": [
    "rules = list(rules)"
   ]
  },
  {
   "cell_type": "code",
   "execution_count": 10,
   "metadata": {},
   "outputs": [
    {
     "name": "stdout",
     "output_type": "stream",
     "text": [
      "RelationRecord(items=frozenset({'chocolate', 'tomato sauce'}), support=0.005065991201173177, ordered_statistics=[OrderedStatistic(items_base=frozenset({'tomato sauce'}), items_add=frozenset({'chocolate'}), confidence=0.3584905660377358, lift=2.1879883936932925)])\n",
      "\n",
      "RelationRecord(items=frozenset({'escalope', 'mushroom cream sauce'}), support=0.005732568990801226, ordered_statistics=[OrderedStatistic(items_base=frozenset({'mushroom cream sauce'}), items_add=frozenset({'escalope'}), confidence=0.3006993006993007, lift=3.790832696715049)])\n",
      "\n",
      "RelationRecord(items=frozenset({'pasta', 'escalope'}), support=0.005865884548726837, ordered_statistics=[OrderedStatistic(items_base=frozenset({'pasta'}), items_add=frozenset({'escalope'}), confidence=0.3728813559322034, lift=4.700811850163794)])\n",
      "\n",
      "RelationRecord(items=frozenset({'extra dark chocolate', 'mineral water'}), support=0.005732568990801226, ordered_statistics=[OrderedStatistic(items_base=frozenset({'extra dark chocolate'}), items_add=frozenset({'mineral water'}), confidence=0.47777777777777775, lift=2.0043686303753416)])\n",
      "\n",
      "RelationRecord(items=frozenset({'ground beef', 'herb & pepper'}), support=0.015997866951073192, ordered_statistics=[OrderedStatistic(items_base=frozenset({'herb & pepper'}), items_add=frozenset({'ground beef'}), confidence=0.3234501347708895, lift=3.2919938411349285)])\n",
      "\n",
      "RelationRecord(items=frozenset({'ground beef', 'spaghetti'}), support=0.03919477403012932, ordered_statistics=[OrderedStatistic(items_base=frozenset({'ground beef'}), items_add=frozenset({'spaghetti'}), confidence=0.3989145183175034, lift=2.291162176033379)])\n",
      "\n",
      "RelationRecord(items=frozenset({'ground beef', 'tomato sauce'}), support=0.005332622317024397, ordered_statistics=[OrderedStatistic(items_base=frozenset({'tomato sauce'}), items_add=frozenset({'ground beef'}), confidence=0.3773584905660377, lift=3.840659481324083)])\n",
      "\n",
      "RelationRecord(items=frozenset({'milk', 'soup'}), support=0.015197973603519531, ordered_statistics=[OrderedStatistic(items_base=frozenset({'soup'}), items_add=frozenset({'milk'}), confidence=0.3007915567282322, lift=2.3212319619531585)])\n",
      "\n",
      "RelationRecord(items=frozenset({'milk', 'whole wheat pasta'}), support=0.009865351286495135, ordered_statistics=[OrderedStatistic(items_base=frozenset({'whole wheat pasta'}), items_add=frozenset({'milk'}), confidence=0.33484162895927605, lift=2.5839990317114503)])\n",
      "\n",
      "RelationRecord(items=frozenset({'mineral water', 'nonfat milk'}), support=0.005065991201173177, ordered_statistics=[OrderedStatistic(items_base=frozenset({'nonfat milk'}), items_add=frozenset({'mineral water'}), confidence=0.4871794871794871, lift=2.0438105891126024)])\n",
      "\n",
      "RelationRecord(items=frozenset({'pasta', 'shrimp'}), support=0.005065991201173177, ordered_statistics=[OrderedStatistic(items_base=frozenset({'pasta'}), items_add=frozenset({'shrimp'}), confidence=0.3220338983050847, lift=4.506672147735896)])\n",
      "\n",
      "RelationRecord(items=frozenset({'pepper', 'spaghetti'}), support=0.009865351286495135, ordered_statistics=[OrderedStatistic(items_base=frozenset({'pepper'}), items_add=frozenset({'spaghetti'}), confidence=0.37185929648241206, lift=2.1357707373005916)])\n",
      "\n",
      "RelationRecord(items=frozenset({'red wine', 'spaghetti'}), support=0.010265297960271964, ordered_statistics=[OrderedStatistic(items_base=frozenset({'red wine'}), items_add=frozenset({'spaghetti'}), confidence=0.36492890995260663, lift=2.095966120638976)])\n",
      "\n",
      "RelationRecord(items=frozenset({'tomato sauce', 'spaghetti'}), support=0.006265831222503666, ordered_statistics=[OrderedStatistic(items_base=frozenset({'tomato sauce'}), items_add=frozenset({'spaghetti'}), confidence=0.4433962264150943, lift=2.546642491837383)])\n",
      "\n",
      "RelationRecord(items=frozenset({'milk', 'chocolate', 'burgers'}), support=0.005465937874950006, ordered_statistics=[OrderedStatistic(items_base=frozenset({'chocolate', 'burgers'}), items_add=frozenset({'milk'}), confidence=0.3203125, lift=2.4718766075102883)])\n",
      "\n",
      "RelationRecord(items=frozenset({'chocolate', 'spaghetti', 'burgers'}), support=0.006399146780429276, ordered_statistics=[OrderedStatistic(items_base=frozenset({'chocolate', 'burgers'}), items_add=frozenset({'spaghetti'}), confidence=0.37500000000000006, lift=2.153809341500766)])\n",
      "\n",
      "RelationRecord(items=frozenset({'eggs', 'french fries', 'burgers'}), support=0.009065457938941474, ordered_statistics=[OrderedStatistic(items_base=frozenset({'french fries', 'burgers'}), items_add=frozenset({'eggs'}), confidence=0.4121212121212121, lift=2.293264994155202)])\n",
      "\n",
      "RelationRecord(items=frozenset({'ground beef', 'spaghetti', 'burgers'}), support=0.005465937874950006, ordered_statistics=[OrderedStatistic(items_base=frozenset({'ground beef', 'burgers'}), items_add=frozenset({'spaghetti'}), confidence=0.45555555555555555, lift=2.616479496341671)])\n",
      "\n",
      "RelationRecord(items=frozenset({'milk', 'spaghetti', 'burgers'}), support=0.006399146780429276, ordered_statistics=[OrderedStatistic(items_base=frozenset({'milk', 'burgers'}), items_add=frozenset({'spaghetti'}), confidence=0.3582089552238806, lift=2.0573701172544627)])\n",
      "\n",
      "RelationRecord(items=frozenset({'chocolate', 'spaghetti', 'cake'}), support=0.005199306759098787, ordered_statistics=[OrderedStatistic(items_base=frozenset({'chocolate', 'cake'}), items_add=frozenset({'spaghetti'}), confidence=0.3823529411764706, lift=2.1960408972164673)])\n",
      "\n",
      "RelationRecord(items=frozenset({'milk', 'mineral water', 'cake'}), support=0.006399146780429276, ordered_statistics=[OrderedStatistic(items_base=frozenset({'milk', 'cake'}), items_add=frozenset({'mineral water'}), confidence=0.48, lift=2.013691275167785)])\n",
      "\n",
      "RelationRecord(items=frozenset({'chicken', 'chocolate', 'mineral water'}), support=0.007598986801759766, ordered_statistics=[OrderedStatistic(items_base=frozenset({'chicken', 'chocolate'}), items_add=frozenset({'mineral water'}), confidence=0.5181818181818182, lift=2.1738712629652226), OrderedStatistic(items_base=frozenset({'chicken', 'mineral water'}), items_add=frozenset({'chocolate'}), confidence=0.3333333333333333, lift=2.0344453485218335)])\n",
      "\n",
      "RelationRecord(items=frozenset({'chicken', 'ground beef', 'spaghetti'}), support=0.004799360085321957, ordered_statistics=[OrderedStatistic(items_base=frozenset({'chicken', 'ground beef'}), items_add=frozenset({'spaghetti'}), confidence=0.5070422535211266, lift=2.9121929124517387)])\n",
      "\n",
      "RelationRecord(items=frozenset({'milk', 'chicken', 'spaghetti'}), support=0.005465937874950006, ordered_statistics=[OrderedStatistic(items_base=frozenset({'milk', 'chicken'}), items_add=frozenset({'spaghetti'}), confidence=0.3693693693693693, lift=2.121469861898652), OrderedStatistic(items_base=frozenset({'chicken', 'spaghetti'}), items_add=frozenset({'milk'}), confidence=0.3178294573643411, lift=2.452714773343542)])\n",
      "\n",
      "RelationRecord(items=frozenset({'chicken', 'pancakes', 'mineral water'}), support=0.004799360085321957, ordered_statistics=[OrderedStatistic(items_base=frozenset({'chicken', 'pancakes'}), items_add=frozenset({'mineral water'}), confidence=0.5294117647058824, lift=2.2209830240821162)])\n",
      "\n",
      "RelationRecord(items=frozenset({'escalope', 'chocolate', 'mineral water'}), support=0.005599253432875617, ordered_statistics=[OrderedStatistic(items_base=frozenset({'escalope', 'mineral water'}), items_add=frozenset({'chocolate'}), confidence=0.32812500000000006, lift=2.00265713995118)])\n",
      "\n",
      "RelationRecord(items=frozenset({'ground beef', 'chocolate', 'frozen vegetables'}), support=0.005732568990801226, ordered_statistics=[OrderedStatistic(items_base=frozenset({'ground beef', 'frozen vegetables'}), items_add=frozenset({'chocolate'}), confidence=0.3385826771653543, lift=2.066483857947374)])\n",
      "\n",
      "RelationRecord(items=frozenset({'milk', 'chocolate', 'frozen vegetables'}), support=0.007998933475536596, ordered_statistics=[OrderedStatistic(items_base=frozenset({'chocolate', 'frozen vegetables'}), items_add=frozenset({'milk'}), confidence=0.34883720930232565, lift=2.6920040195234), OrderedStatistic(items_base=frozenset({'milk', 'frozen vegetables'}), items_add=frozenset({'chocolate'}), confidence=0.33898305084745767, lift=2.068927473073051)])\n",
      "\n",
      "RelationRecord(items=frozenset({'ground beef', 'chocolate', 'spaghetti'}), support=0.009198773496867084, ordered_statistics=[OrderedStatistic(items_base=frozenset({'ground beef', 'chocolate'}), items_add=frozenset({'spaghetti'}), confidence=0.3988439306358382, lift=2.290756756278271)])\n",
      "\n",
      "RelationRecord(items=frozenset({'milk', 'chocolate', 'olive oil'}), support=0.005199306759098787, ordered_statistics=[OrderedStatistic(items_base=frozenset({'chocolate', 'olive oil'}), items_add=frozenset({'milk'}), confidence=0.3170731707317073, lift=2.4468784502659844)])\n",
      "\n",
      "RelationRecord(items=frozenset({'milk', 'chocolate', 'shrimp'}), support=0.005465937874950006, ordered_statistics=[OrderedStatistic(items_base=frozenset({'chocolate', 'shrimp'}), items_add=frozenset({'milk'}), confidence=0.3037037037037037, lift=2.3437052278616064)])\n",
      "\n",
      "RelationRecord(items=frozenset({'mineral water', 'chocolate', 'olive oil'}), support=0.008265564591387815, ordered_statistics=[OrderedStatistic(items_base=frozenset({'chocolate', 'olive oil'}), items_add=frozenset({'mineral water'}), confidence=0.5040650406504065, lift=2.1146486968225386)])\n",
      "\n",
      "RelationRecord(items=frozenset({'mineral water', 'chocolate', 'soup'}), support=0.005599253432875617, ordered_statistics=[OrderedStatistic(items_base=frozenset({'chocolate', 'soup'}), items_add=frozenset({'mineral water'}), confidence=0.5526315789473685, lift=2.3183945602260687)])\n",
      "\n",
      "RelationRecord(items=frozenset({'chocolate', 'spaghetti', 'olive oil'}), support=0.007065724570057326, ordered_statistics=[OrderedStatistic(items_base=frozenset({'chocolate', 'olive oil'}), items_add=frozenset({'spaghetti'}), confidence=0.43089430894308944, lift=2.4748378341363813)])\n",
      "\n",
      "RelationRecord(items=frozenset({'spaghetti', 'chocolate', 'shrimp'}), support=0.006399146780429276, ordered_statistics=[OrderedStatistic(items_base=frozenset({'chocolate', 'shrimp'}), items_add=frozenset({'spaghetti'}), confidence=0.3555555555555556, lift=2.0421303386081338)])\n",
      "\n",
      "RelationRecord(items=frozenset({'tomatoes', 'chocolate', 'spaghetti'}), support=0.004932675643247567, ordered_statistics=[OrderedStatistic(items_base=frozenset({'tomatoes', 'chocolate'}), items_add=frozenset({'spaghetti'}), confidence=0.3523809523809524, lift=2.023897032013418)])\n",
      "\n",
      "RelationRecord(items=frozenset({'mineral water', 'cooking oil', 'eggs'}), support=0.006399146780429276, ordered_statistics=[OrderedStatistic(items_base=frozenset({'cooking oil', 'eggs'}), items_add=frozenset({'mineral water'}), confidence=0.5454545454545454, lift=2.2882855399633923)])\n",
      "\n",
      "RelationRecord(items=frozenset({'cooking oil', 'ground beef', 'spaghetti'}), support=0.004799360085321957, ordered_statistics=[OrderedStatistic(items_base=frozenset({'cooking oil', 'ground beef'}), items_add=frozenset({'spaghetti'}), confidence=0.5714285714285714, lift=3.2819951870487856), OrderedStatistic(items_base=frozenset({'cooking oil', 'spaghetti'}), items_add=frozenset({'ground beef'}), confidence=0.3025210084033613, lift=3.0789824749438446)])\n",
      "\n",
      "RelationRecord(items=frozenset({'mineral water', 'cooking oil', 'spaghetti'}), support=0.007598986801759766, ordered_statistics=[OrderedStatistic(items_base=frozenset({'mineral water', 'cooking oil'}), items_add=frozenset({'spaghetti'}), confidence=0.3774834437086093, lift=2.16807297952395), OrderedStatistic(items_base=frozenset({'cooking oil', 'spaghetti'}), items_add=frozenset({'mineral water'}), confidence=0.4789915966386554, lift=2.0094608313123907)])\n",
      "\n",
      "RelationRecord(items=frozenset({'milk', 'eggs', 'frozen vegetables'}), support=0.007332355685908546, ordered_statistics=[OrderedStatistic(items_base=frozenset({'eggs', 'frozen vegetables'}), items_add=frozenset({'milk'}), confidence=0.3374233128834356, lift=2.6039220884142495)])\n",
      "\n",
      "RelationRecord(items=frozenset({'mineral water', 'eggs', 'ground beef'}), support=0.010131982402346354, ordered_statistics=[OrderedStatistic(items_base=frozenset({'eggs', 'ground beef'}), items_add=frozenset({'mineral water'}), confidence=0.5066666666666667, lift=2.125563012677107)])\n",
      "\n",
      "RelationRecord(items=frozenset({'eggs', 'ground beef', 'spaghetti'}), support=0.008932142381015865, ordered_statistics=[OrderedStatistic(items_base=frozenset({'eggs', 'ground beef'}), items_add=frozenset({'spaghetti'}), confidence=0.4466666666666667, lift=2.565426237876468)])\n",
      "\n",
      "RelationRecord(items=frozenset({'eggs', 'herb & pepper', 'spaghetti'}), support=0.004799360085321957, ordered_statistics=[OrderedStatistic(items_base=frozenset({'eggs', 'herb & pepper'}), items_add=frozenset({'spaghetti'}), confidence=0.3829787234042553, lift=2.1996350721709947)])\n",
      "\n",
      "RelationRecord(items=frozenset({'mineral water', 'eggs', 'olive oil'}), support=0.005865884548726837, ordered_statistics=[OrderedStatistic(items_base=frozenset({'eggs', 'olive oil'}), items_add=frozenset({'mineral water'}), confidence=0.48888888888888893, lift=2.050981854337559)])\n",
      "\n",
      "RelationRecord(items=frozenset({'mineral water', 'eggs', 'soup'}), support=0.004932675643247567, ordered_statistics=[OrderedStatistic(items_base=frozenset({'eggs', 'soup'}), items_add=frozenset({'mineral water'}), confidence=0.5441176470588236, lift=2.2826769969732865)])\n",
      "\n",
      "RelationRecord(items=frozenset({'eggs', 'spaghetti', 'olive oil'}), support=0.005065991201173177, ordered_statistics=[OrderedStatistic(items_base=frozenset({'eggs', 'olive oil'}), items_add=frozenset({'spaghetti'}), confidence=0.4222222222222222, lift=2.4250297770971585)])\n",
      "\n",
      "RelationRecord(items=frozenset({'milk', 'frozen vegetables', 'french fries'}), support=0.005732568990801226, ordered_statistics=[OrderedStatistic(items_base=frozenset({'frozen vegetables', 'french fries'}), items_add=frozenset({'milk'}), confidence=0.3006993006993007, lift=2.3205200149644596)])\n",
      "\n",
      "RelationRecord(items=frozenset({'ground beef', 'spaghetti', 'french fries'}), support=0.005599253432875617, ordered_statistics=[OrderedStatistic(items_base=frozenset({'ground beef', 'french fries'}), items_add=frozenset({'spaghetti'}), confidence=0.40384615384615385, lift=2.319486983154671)])\n",
      "\n",
      "RelationRecord(items=frozenset({'frozen smoothie', 'milk', 'mineral water'}), support=0.0061325156645780565, ordered_statistics=[OrderedStatistic(items_base=frozenset({'frozen smoothie', 'mineral water'}), items_add=frozenset({'milk'}), confidence=0.3026315789473684, lift=2.3354315572882824)])\n",
      "\n",
      "RelationRecord(items=frozenset({'frozen smoothie', 'milk', 'spaghetti'}), support=0.005599253432875617, ordered_statistics=[OrderedStatistic(items_base=frozenset({'frozen smoothie', 'milk'}), items_add=frozenset({'spaghetti'}), confidence=0.3925233644859813, lift=2.254454637832577), OrderedStatistic(items_base=frozenset({'frozen smoothie', 'spaghetti'}), items_add=frozenset({'milk'}), confidence=0.358974358974359, lift=2.7702331961591224)])\n",
      "\n",
      "RelationRecord(items=frozenset({'milk', 'ground beef', 'frozen vegetables'}), support=0.005732568990801226, ordered_statistics=[OrderedStatistic(items_base=frozenset({'ground beef', 'frozen vegetables'}), items_add=frozenset({'milk'}), confidence=0.3385826771653543, lift=2.612868993227698)])\n",
      "\n",
      "RelationRecord(items=frozenset({'mineral water', 'ground beef', 'frozen vegetables'}), support=0.009198773496867084, ordered_statistics=[OrderedStatistic(items_base=frozenset({'ground beef', 'frozen vegetables'}), items_add=frozenset({'mineral water'}), confidence=0.5433070866141732, lift=2.2792765417745597)])\n",
      "\n",
      "RelationRecord(items=frozenset({'ground beef', 'frozen vegetables', 'spaghetti'}), support=0.008665511265164644, ordered_statistics=[OrderedStatistic(items_base=frozenset({'ground beef', 'frozen vegetables'}), items_add=frozenset({'spaghetti'}), confidence=0.5118110236220472, lift=2.939582303360625), OrderedStatistic(items_base=frozenset({'frozen vegetables', 'spaghetti'}), items_add=frozenset({'ground beef'}), confidence=0.31100478468899523, lift=3.165328208890303)])\n",
      "\n",
      "RelationRecord(items=frozenset({'milk', 'mineral water', 'frozen vegetables'}), support=0.011065191307825623, ordered_statistics=[OrderedStatistic(items_base=frozenset({'mineral water', 'frozen vegetables'}), items_add=frozenset({'milk'}), confidence=0.3097014925373134, lift=2.3899906332534853)])\n",
      "\n",
      "RelationRecord(items=frozenset({'milk', 'frozen vegetables', 'olive oil'}), support=0.004799360085321957, ordered_statistics=[OrderedStatistic(items_base=frozenset({'frozen vegetables', 'olive oil'}), items_add=frozenset({'milk'}), confidence=0.4235294117647058, lift=3.2684095860566447)])\n",
      "\n",
      "RelationRecord(items=frozenset({'milk', 'frozen vegetables', 'spaghetti'}), support=0.008265564591387815, ordered_statistics=[OrderedStatistic(items_base=frozenset({'milk', 'frozen vegetables'}), items_add=frozenset({'spaghetti'}), confidence=0.3502824858757062, lift=2.011844507315216)])\n",
      "\n",
      "RelationRecord(items=frozenset({'mineral water', 'frozen vegetables', 'olive oil'}), support=0.006532462338354886, ordered_statistics=[OrderedStatistic(items_base=frozenset({'frozen vegetables', 'olive oil'}), items_add=frozenset({'mineral water'}), confidence=0.5764705882352941, lift=2.4184037373338594)])\n",
      "\n",
      "RelationRecord(items=frozenset({'mineral water', 'frozen vegetables', 'shrimp'}), support=0.007199040127982935, ordered_statistics=[OrderedStatistic(items_base=frozenset({'mineral water', 'shrimp'}), items_add=frozenset({'frozen vegetables'}), confidence=0.30508474576271183, lift=3.200616332819722)])\n",
      "\n",
      "RelationRecord(items=frozenset({'mineral water', 'frozen vegetables', 'soup'}), support=0.005065991201173177, ordered_statistics=[OrderedStatistic(items_base=frozenset({'frozen vegetables', 'soup'}), items_add=frozenset({'mineral water'}), confidence=0.6333333333333333, lift=2.6569537658463833)])\n",
      "\n",
      "RelationRecord(items=frozenset({'frozen vegetables', 'spaghetti', 'olive oil'}), support=0.005732568990801226, ordered_statistics=[OrderedStatistic(items_base=frozenset({'frozen vegetables', 'olive oil'}), items_add=frozenset({'spaghetti'}), confidence=0.5058823529411764, lift=2.9055310332402486)])\n",
      "\n",
      "RelationRecord(items=frozenset({'spaghetti', 'frozen vegetables', 'shrimp'}), support=0.005999200106652446, ordered_statistics=[OrderedStatistic(items_base=frozenset({'frozen vegetables', 'shrimp'}), items_add=frozenset({'spaghetti'}), confidence=0.36, lift=2.067656967840735)])\n",
      "\n",
      "RelationRecord(items=frozenset({'tomatoes', 'frozen vegetables', 'spaghetti'}), support=0.006665777896280496, ordered_statistics=[OrderedStatistic(items_base=frozenset({'tomatoes', 'frozen vegetables'}), items_add=frozenset({'spaghetti'}), confidence=0.41322314049586784, lift=2.373343626998089), OrderedStatistic(items_base=frozenset({'tomatoes', 'spaghetti'}), items_add=frozenset({'frozen vegetables'}), confidence=0.3184713375796179, lift=3.341053850607991)])\n",
      "\n",
      "RelationRecord(items=frozenset({'grated cheese', 'ground beef', 'spaghetti'}), support=0.005332622317024397, ordered_statistics=[OrderedStatistic(items_base=frozenset({'grated cheese', 'ground beef'}), items_add=frozenset({'spaghetti'}), confidence=0.47058823529411764, lift=2.7028195658048824), OrderedStatistic(items_base=frozenset({'grated cheese', 'spaghetti'}), items_add=frozenset({'ground beef'}), confidence=0.3225806451612903, lift=3.283144395325426)])\n",
      "\n",
      "RelationRecord(items=frozenset({'grated cheese', 'mineral water', 'spaghetti'}), support=0.006265831222503666, ordered_statistics=[OrderedStatistic(items_base=frozenset({'grated cheese', 'mineral water'}), items_add=frozenset({'spaghetti'}), confidence=0.35877862595419846, lift=2.060642016295898)])\n",
      "\n",
      "RelationRecord(items=frozenset({'green tea', 'ground beef', 'spaghetti'}), support=0.006399146780429276, ordered_statistics=[OrderedStatistic(items_base=frozenset({'green tea', 'ground beef'}), items_add=frozenset({'spaghetti'}), confidence=0.43243243243243246, lift=2.483672033442325)])\n",
      "\n",
      "RelationRecord(items=frozenset({'mineral water', 'ground beef', 'herb & pepper'}), support=0.006665777896280496, ordered_statistics=[OrderedStatistic(items_base=frozenset({'mineral water', 'herb & pepper'}), items_add=frozenset({'ground beef'}), confidence=0.39062500000000006, lift=3.975682666214383)])\n",
      "\n",
      "RelationRecord(items=frozenset({'ground beef', 'herb & pepper', 'spaghetti'}), support=0.006399146780429276, ordered_statistics=[OrderedStatistic(items_base=frozenset({'ground beef', 'herb & pepper'}), items_add=frozenset({'spaghetti'}), confidence=0.39999999999999997, lift=2.29739663093415), OrderedStatistic(items_base=frozenset({'herb & pepper', 'spaghetti'}), items_add=frozenset({'ground beef'}), confidence=0.3934426229508197, lift=4.004359721511667)])\n",
      "\n",
      "RelationRecord(items=frozenset({'low fat yogurt', 'ground beef', 'mineral water'}), support=0.004799360085321957, ordered_statistics=[OrderedStatistic(items_base=frozenset({'low fat yogurt', 'ground beef'}), items_add=frozenset({'mineral water'}), confidence=0.5, lift=2.0975950782997765)])\n",
      "\n",
      "RelationRecord(items=frozenset({'milk', 'mineral water', 'ground beef'}), support=0.011065191307825623, ordered_statistics=[OrderedStatistic(items_base=frozenset({'milk', 'ground beef'}), items_add=frozenset({'mineral water'}), confidence=0.503030303030303, lift=2.1103077757440176)])\n",
      "\n",
      "RelationRecord(items=frozenset({'milk', 'ground beef', 'olive oil'}), support=0.004932675643247567, ordered_statistics=[OrderedStatistic(items_base=frozenset({'ground beef', 'olive oil'}), items_add=frozenset({'milk'}), confidence=0.34905660377358494, lift=2.6936971038124082)])\n",
      "\n",
      "RelationRecord(items=frozenset({'milk', 'ground beef', 'spaghetti'}), support=0.009732035728569524, ordered_statistics=[OrderedStatistic(items_base=frozenset({'milk', 'ground beef'}), items_add=frozenset({'spaghetti'}), confidence=0.44242424242424244, lift=2.5410599099726205)])\n",
      "\n",
      "RelationRecord(items=frozenset({'mineral water', 'pancakes', 'ground beef'}), support=0.007465671243834155, ordered_statistics=[OrderedStatistic(items_base=frozenset({'pancakes', 'ground beef'}), items_add=frozenset({'mineral water'}), confidence=0.5137614678899083, lift=2.1553270529318804)])\n",
      "\n",
      "RelationRecord(items=frozenset({'mineral water', 'ground beef', 'soup'}), support=0.005065991201173177, ordered_statistics=[OrderedStatistic(items_base=frozenset({'ground beef', 'soup'}), items_add=frozenset({'mineral water'}), confidence=0.5205479452054794, lift=2.1837976157641505)])\n",
      "\n",
      "RelationRecord(items=frozenset({'mineral water', 'ground beef', 'spaghetti'}), support=0.017064391414478068, ordered_statistics=[OrderedStatistic(items_base=frozenset({'mineral water', 'ground beef'}), items_add=frozenset({'spaghetti'}), confidence=0.41693811074918563, lift=2.3946805273580716)])\n",
      "\n",
      "RelationRecord(items=frozenset({'ground beef', 'spaghetti', 'olive oil'}), support=0.0061325156645780565, ordered_statistics=[OrderedStatistic(items_base=frozenset({'ground beef', 'olive oil'}), items_add=frozenset({'spaghetti'}), confidence=0.4339622641509434, lift=2.4924586090323326)])\n",
      "\n",
      "RelationRecord(items=frozenset({'pancakes', 'ground beef', 'spaghetti'}), support=0.006399146780429276, ordered_statistics=[OrderedStatistic(items_base=frozenset({'pancakes', 'ground beef'}), items_add=frozenset({'spaghetti'}), confidence=0.44036697247706424, lift=2.5292439973586975)])\n",
      "\n",
      "RelationRecord(items=frozenset({'spaghetti', 'ground beef', 'shrimp'}), support=0.005999200106652446, ordered_statistics=[OrderedStatistic(items_base=frozenset({'ground beef', 'shrimp'}), items_add=frozenset({'spaghetti'}), confidence=0.5232558139534884, lift=3.005315360233627)])\n",
      "\n",
      "RelationRecord(items=frozenset({'tomatoes', 'ground beef', 'spaghetti'}), support=0.005599253432875617, ordered_statistics=[OrderedStatistic(items_base=frozenset({'tomatoes', 'ground beef'}), items_add=frozenset({'spaghetti'}), confidence=0.4772727272727273, lift=2.741211889182793)])\n",
      "\n",
      "RelationRecord(items=frozenset({'mineral water', 'herb & pepper', 'spaghetti'}), support=0.005999200106652446, ordered_statistics=[OrderedStatistic(items_base=frozenset({'mineral water', 'herb & pepper'}), items_add=frozenset({'spaghetti'}), confidence=0.3515625, lift=2.0191962576569678)])\n",
      "\n",
      "RelationRecord(items=frozenset({'milk', 'mineral water', 'olive oil'}), support=0.008532195707239034, ordered_statistics=[OrderedStatistic(items_base=frozenset({'milk', 'olive oil'}), items_add=frozenset({'mineral water'}), confidence=0.5, lift=2.0975950782997765), OrderedStatistic(items_base=frozenset({'mineral water', 'olive oil'}), items_add=frozenset({'milk'}), confidence=0.3091787439613526, lift=2.3859565416194504)])\n",
      "\n",
      "RelationRecord(items=frozenset({'milk', 'mineral water', 'shrimp'}), support=0.007865617917610986, ordered_statistics=[OrderedStatistic(items_base=frozenset({'mineral water', 'shrimp'}), items_add=frozenset({'milk'}), confidence=0.3333333333333333, lift=2.5723593964334706)])\n",
      "\n",
      "RelationRecord(items=frozenset({'milk', 'mineral water', 'soup'}), support=0.008532195707239034, ordered_statistics=[OrderedStatistic(items_base=frozenset({'milk', 'soup'}), items_add=frozenset({'mineral water'}), confidence=0.5614035087719298, lift=2.3551944738804504), OrderedStatistic(items_base=frozenset({'mineral water', 'soup'}), items_add=frozenset({'milk'}), confidence=0.3699421965317919, lift=2.8548728561573777)])\n",
      "\n",
      "RelationRecord(items=frozenset({'milk', 'mineral water', 'turkey'}), support=0.0061325156645780565, ordered_statistics=[OrderedStatistic(items_base=frozenset({'milk', 'turkey'}), items_add=frozenset({'mineral water'}), confidence=0.5411764705882353, lift=2.270338202395052), OrderedStatistic(items_base=frozenset({'mineral water', 'turkey'}), items_add=frozenset({'milk'}), confidence=0.3194444444444445, lift=2.4651777549154095)])\n",
      "\n",
      "RelationRecord(items=frozenset({'milk', 'spaghetti', 'olive oil'}), support=0.007199040127982935, ordered_statistics=[OrderedStatistic(items_base=frozenset({'milk', 'olive oil'}), items_add=frozenset({'spaghetti'}), confidence=0.421875, lift=2.4230355091883613), OrderedStatistic(items_base=frozenset({'spaghetti', 'olive oil'}), items_add=frozenset({'milk'}), confidence=0.313953488372093, lift=2.4228036175710597)])\n",
      "\n",
      "RelationRecord(items=frozenset({'milk', 'tomatoes', 'spaghetti'}), support=0.005865884548726837, ordered_statistics=[OrderedStatistic(items_base=frozenset({'milk', 'tomatoes'}), items_add=frozenset({'spaghetti'}), confidence=0.41904761904761906, lift=2.406796470502443)])\n",
      "\n",
      "RelationRecord(items=frozenset({'milk', 'turkey', 'spaghetti'}), support=0.004799360085321957, ordered_statistics=[OrderedStatistic(items_base=frozenset({'milk', 'turkey'}), items_add=frozenset({'spaghetti'}), confidence=0.4235294117647058, lift=2.432537609224394)])\n",
      "\n",
      "RelationRecord(items=frozenset({'mineral water', 'soup', 'olive oil'}), support=0.005199306759098787, ordered_statistics=[OrderedStatistic(items_base=frozenset({'soup', 'olive oil'}), items_add=frozenset({'mineral water'}), confidence=0.582089552238806, lift=2.44197635981168)])\n",
      "\n",
      "RelationRecord(items=frozenset({'mineral water', 'spaghetti', 'olive oil'}), support=0.010265297960271964, ordered_statistics=[OrderedStatistic(items_base=frozenset({'mineral water', 'olive oil'}), items_add=frozenset({'spaghetti'}), confidence=0.3719806763285024, lift=2.13646788142427)])\n",
      "\n",
      "RelationRecord(items=frozenset({'spaghetti', 'mineral water', 'salmon'}), support=0.006799093454206106, ordered_statistics=[OrderedStatistic(items_base=frozenset({'mineral water', 'salmon'}), items_add=frozenset({'spaghetti'}), confidence=0.39843750000000006, lift=2.2884224253445637), OrderedStatistic(items_base=frozenset({'spaghetti', 'salmon'}), items_add=frozenset({'mineral water'}), confidence=0.504950495049505, lift=2.1183633464017544)])\n",
      "\n",
      "RelationRecord(items=frozenset({'spaghetti', 'mineral water', 'shrimp'}), support=0.008532195707239034, ordered_statistics=[OrderedStatistic(items_base=frozenset({'mineral water', 'shrimp'}), items_add=frozenset({'spaghetti'}), confidence=0.36158192090395475, lift=2.07674271722861)])\n",
      "\n",
      "RelationRecord(items=frozenset({'mineral water', 'soup', 'spaghetti'}), support=0.007465671243834155, ordered_statistics=[OrderedStatistic(items_base=frozenset({'soup', 'spaghetti'}), items_add=frozenset({'mineral water'}), confidence=0.5233644859813084, lift=2.1956135399025696)])\n",
      "\n",
      "RelationRecord(items=frozenset({'mineral water', 'tomatoes', 'spaghetti'}), support=0.009332089054792695, ordered_statistics=[OrderedStatistic(items_base=frozenset({'mineral water', 'tomatoes'}), items_add=frozenset({'spaghetti'}), confidence=0.38251366120218583, lift=2.1969639913304717)])\n",
      "\n",
      "RelationRecord(items=frozenset({'pancakes', 'spaghetti', 'olive oil'}), support=0.005065991201173177, ordered_statistics=[OrderedStatistic(items_base=frozenset({'pancakes', 'olive oil'}), items_add=frozenset({'spaghetti'}), confidence=0.4691358024691358, lift=2.6944775301079535)])\n",
      "\n",
      "RelationRecord(items=frozenset({'milk', 'mineral water', 'chocolate', 'spaghetti'}), support=0.004932675643247567, ordered_statistics=[OrderedStatistic(items_base=frozenset({'milk', 'mineral water', 'chocolate'}), items_add=frozenset({'spaghetti'}), confidence=0.3523809523809524, lift=2.023897032013418), OrderedStatistic(items_base=frozenset({'mineral water', 'chocolate', 'spaghetti'}), items_add=frozenset({'milk'}), confidence=0.31092436974789917, lift=2.3994276723034895)])\n",
      "\n"
     ]
    }
   ],
   "source": [
    "for rule in rules:\n",
    "    print(rule)\n",
    "    print()"
   ]
  }
 ],
 "metadata": {
  "kernelspec": {
   "display_name": "Python 3",
   "language": "python",
   "name": "python3"
  },
  "language_info": {
   "codemirror_mode": {
    "name": "ipython",
    "version": 3
   },
   "file_extension": ".py",
   "mimetype": "text/x-python",
   "name": "python",
   "nbconvert_exporter": "python",
   "pygments_lexer": "ipython3",
   "version": "3.6.9"
  }
 },
 "nbformat": 4,
 "nbformat_minor": 2
}
