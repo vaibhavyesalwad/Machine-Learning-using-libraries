{
 "cells": [
  {
   "cell_type": "markdown",
   "metadata": {},
   "source": [
    "## Apply CNN to predict cat and dog from given image dataset"
   ]
  },
  {
   "cell_type": "raw",
   "metadata": {},
   "source": [
    "https://drive.google.com/open?id=1uWqERYD4wO4s-9U8-j6nKc_dxNtDbMT6"
   ]
  },
  {
   "cell_type": "markdown",
   "metadata": {},
   "source": [
    "### Importing essentials"
   ]
  },
  {
   "cell_type": "code",
   "execution_count": 1,
   "metadata": {},
   "outputs": [],
   "source": [
    "import os\n",
    "import warnings\n",
    "os.chdir('/home/admin293/vaibhav/PycharmProjects/Machine Learning using libraries/Classification/Datasets & pickled objects/')\n",
    "warnings.filterwarnings(\"ignore\")\n",
    "\n",
    "# importing essentials from tensorflow library for CNN model\n",
    "from tensorflow.keras import Sequential\n",
    "from tensorflow.keras.layers import Conv2D, MaxPooling2D, Flatten, Dropout, Dense"
   ]
  },
  {
   "cell_type": "markdown",
   "metadata": {},
   "source": [
    "### Building Convolutional Neural Network model"
   ]
  },
  {
   "cell_type": "code",
   "execution_count": 2,
   "metadata": {},
   "outputs": [
    {
     "name": "stdout",
     "output_type": "stream",
     "text": [
      "WARNING:tensorflow:From /home/admin293/.local/lib/python3.6/site-packages/tensorflow/python/ops/init_ops.py:1251: calling VarianceScaling.__init__ (from tensorflow.python.ops.init_ops) with dtype is deprecated and will be removed in a future version.\n",
      "Instructions for updating:\n",
      "Call initializer instance with the dtype argument instead of passing it to the constructor\n",
      "WARNING:tensorflow:From /home/admin293/.local/lib/python3.6/site-packages/tensorflow/python/ops/nn_impl.py:180: add_dispatch_support.<locals>.wrapper (from tensorflow.python.ops.array_ops) is deprecated and will be removed in a future version.\n",
      "Instructions for updating:\n",
      "Use tf.where in 2.0, which has the same broadcast rule as np.where\n"
     ]
    }
   ],
   "source": [
    "# configuring model as sequential\n",
    "classifier = Sequential()\n",
    "\n",
    "# step 1 convolutional layer: to make build feature maps using feature detectors & removing linearity using relu\n",
    "classifier.add(Conv2D(32, (3, 3), input_shape=(64, 64, 3), activation='relu'))\n",
    "\n",
    "# setp 2 maxpool layer: to build pooled feaure map to accomodate invariance in tilt/flip/orientation still catch feature\n",
    "# reducing size with maxpooling\n",
    "classifier.add(MaxPooling2D(pool_size = (2,2)))\n",
    "\n",
    "# repeating steps 1 & 2 to make features more prominent for classification\n",
    "classifier.add(Conv2D(64, 3, 3, activation='relu'))\n",
    "classifier.add(MaxPooling2D(pool_size = (2,2)))\n",
    "\n",
    "\n",
    "# step 3 flatteing: to get flattened long vector of these values to be passed as inputs to neural network \n",
    "classifier.add(Flatten())\n",
    "\n",
    "# Step 4 Building neural network: learning patterns in given inputs using dense ntwork\n",
    "# input to neural network\n",
    "classifier.add(Dense(128, activation='relu'))\n",
    "\n",
    "# output layer\n",
    "classifier.add(Dense(1, activation='sigmoid'))\n",
    "\n",
    "# setting parameters such as optmizing algo, loss fn, evaluation formula for classifier model  \n",
    "classifier.compile(optimizer='adam', loss='binary_crossentropy', metrics=['accuracy'])\n"
   ]
  },
  {
   "cell_type": "markdown",
   "metadata": {},
   "source": [
    "### Image Preprocessing"
   ]
  },
  {
   "cell_type": "code",
   "execution_count": 3,
   "metadata": {},
   "outputs": [
    {
     "name": "stdout",
     "output_type": "stream",
     "text": [
      "Found 8000 images belonging to 2 classes.\n",
      "Found 2000 images belonging to 2 classes.\n"
     ]
    }
   ],
   "source": [
    "from tensorflow.keras.preprocessing.image import ImageDataGenerator\n",
    "\n",
    "# converting image to 3D matrices & scaling as well\n",
    "train_datagen = ImageDataGenerator(\n",
    "        rescale=1./255,\n",
    "        shear_range=0.2,\n",
    "        zoom_range=0.2,\n",
    "        horizontal_flip=True)\n",
    "\n",
    "# defining necessary scaling for test set images same as train set images\n",
    "test_datagen = ImageDataGenerator(rescale=1./255)\n",
    "\n",
    "# loading images into train set from directory & defining iamge pixel-size \n",
    "train_set = train_datagen.flow_from_directory('dataset/training_set',\n",
    "                                              target_size=(64, 64),\n",
    "                                              batch_size=32,\n",
    "                                              class_mode='binary')\n",
    "\n",
    "# loading images into test set from direcrtory & defining pixel size\n",
    "test_set = test_datagen.flow_from_directory('dataset/test_set',\n",
    "                                            target_size=(64, 64),\n",
    "                                            batch_size=32,\n",
    "                                            class_mode='binary')"
   ]
  },
  {
   "cell_type": "markdown",
   "metadata": {},
   "source": [
    "### Fitting model"
   ]
  },
  {
   "cell_type": "code",
   "execution_count": 5,
   "metadata": {},
   "outputs": [
    {
     "name": "stdout",
     "output_type": "stream",
     "text": [
      "Epoch 1/40\n",
      "250/250 [==============================] - 89s 357ms/step - loss: 0.6703 - acc: 0.5716 - val_loss: 0.6238 - val_acc: 0.6635\n",
      "Epoch 2/40\n",
      "250/250 [==============================] - 35s 139ms/step - loss: 0.6027 - acc: 0.6720 - val_loss: 0.5716 - val_acc: 0.7175\n",
      "Epoch 3/40\n",
      "250/250 [==============================] - 28s 112ms/step - loss: 0.5646 - acc: 0.7080 - val_loss: 0.5454 - val_acc: 0.7325\n",
      "Epoch 4/40\n",
      "250/250 [==============================] - 27s 108ms/step - loss: 0.5411 - acc: 0.7274 - val_loss: 0.5581 - val_acc: 0.7180\n",
      "Epoch 5/40\n",
      "250/250 [==============================] - 27s 106ms/step - loss: 0.5158 - acc: 0.7452 - val_loss: 0.5252 - val_acc: 0.7575\n",
      "Epoch 6/40\n",
      "250/250 [==============================] - 27s 106ms/step - loss: 0.5046 - acc: 0.7534 - val_loss: 0.4993 - val_acc: 0.7645\n",
      "Epoch 7/40\n",
      "250/250 [==============================] - 26s 106ms/step - loss: 0.4846 - acc: 0.7650 - val_loss: 0.5313 - val_acc: 0.7500\n",
      "Epoch 8/40\n",
      "250/250 [==============================] - 27s 106ms/step - loss: 0.4837 - acc: 0.7671 - val_loss: 0.4897 - val_acc: 0.7725\n",
      "Epoch 9/40\n",
      "250/250 [==============================] - 27s 107ms/step - loss: 0.4679 - acc: 0.7769 - val_loss: 0.4804 - val_acc: 0.7795\n",
      "Epoch 10/40\n",
      "250/250 [==============================] - 27s 106ms/step - loss: 0.4599 - acc: 0.7829 - val_loss: 0.5121 - val_acc: 0.7590\n",
      "Epoch 11/40\n",
      "250/250 [==============================] - 27s 106ms/step - loss: 0.4560 - acc: 0.7849 - val_loss: 0.4722 - val_acc: 0.7765\n",
      "Epoch 12/40\n",
      "250/250 [==============================] - 27s 106ms/step - loss: 0.4511 - acc: 0.7900 - val_loss: 0.4751 - val_acc: 0.7875\n",
      "Epoch 13/40\n",
      "250/250 [==============================] - 29s 114ms/step - loss: 0.4398 - acc: 0.7889 - val_loss: 0.4596 - val_acc: 0.7910\n",
      "Epoch 14/40\n",
      "250/250 [==============================] - 29s 117ms/step - loss: 0.4264 - acc: 0.7962 - val_loss: 0.4614 - val_acc: 0.7925\n",
      "Epoch 15/40\n",
      "250/250 [==============================] - 30s 118ms/step - loss: 0.4243 - acc: 0.8006 - val_loss: 0.4795 - val_acc: 0.7770\n",
      "Epoch 16/40\n",
      "250/250 [==============================] - 30s 121ms/step - loss: 0.4234 - acc: 0.8005 - val_loss: 0.4779 - val_acc: 0.7865\n",
      "Epoch 17/40\n",
      "250/250 [==============================] - 31s 125ms/step - loss: 0.4108 - acc: 0.8014 - val_loss: 0.4763 - val_acc: 0.7830\n",
      "Epoch 18/40\n",
      "250/250 [==============================] - 29s 117ms/step - loss: 0.3903 - acc: 0.8229 - val_loss: 0.4868 - val_acc: 0.7825\n",
      "Epoch 19/40\n",
      "250/250 [==============================] - 28s 113ms/step - loss: 0.4054 - acc: 0.8134 - val_loss: 0.4525 - val_acc: 0.7965\n",
      "Epoch 20/40\n",
      "250/250 [==============================] - 28s 113ms/step - loss: 0.3938 - acc: 0.8165 - val_loss: 0.4566 - val_acc: 0.7985\n",
      "Epoch 21/40\n",
      "250/250 [==============================] - 28s 114ms/step - loss: 0.3808 - acc: 0.8235 - val_loss: 0.4817 - val_acc: 0.7805\n",
      "Epoch 22/40\n",
      "250/250 [==============================] - 29s 115ms/step - loss: 0.3682 - acc: 0.8345 - val_loss: 0.4471 - val_acc: 0.7980\n",
      "Epoch 23/40\n",
      "250/250 [==============================] - 29s 116ms/step - loss: 0.3725 - acc: 0.8292 - val_loss: 0.4688 - val_acc: 0.7840\n",
      "Epoch 24/40\n",
      "250/250 [==============================] - 29s 116ms/step - loss: 0.3630 - acc: 0.8295 - val_loss: 0.4604 - val_acc: 0.8000\n",
      "Epoch 25/40\n",
      "250/250 [==============================] - 30s 119ms/step - loss: 0.3570 - acc: 0.8405 - val_loss: 0.4411 - val_acc: 0.8085\n",
      "Epoch 26/40\n",
      "250/250 [==============================] - 30s 120ms/step - loss: 0.3508 - acc: 0.8460 - val_loss: 0.4751 - val_acc: 0.7970\n",
      "Epoch 27/40\n",
      "250/250 [==============================] - 29s 116ms/step - loss: 0.3490 - acc: 0.8426 - val_loss: 0.4534 - val_acc: 0.8055\n",
      "Epoch 28/40\n",
      "250/250 [==============================] - 28s 113ms/step - loss: 0.3431 - acc: 0.8455 - val_loss: 0.4544 - val_acc: 0.7870\n",
      "Epoch 29/40\n",
      "250/250 [==============================] - 28s 113ms/step - loss: 0.3328 - acc: 0.8528 - val_loss: 0.4679 - val_acc: 0.8145\n",
      "Epoch 30/40\n",
      "250/250 [==============================] - 30s 121ms/step - loss: 0.3300 - acc: 0.8526 - val_loss: 0.4357 - val_acc: 0.8105\n",
      "Epoch 31/40\n",
      "250/250 [==============================] - 30s 122ms/step - loss: 0.3200 - acc: 0.8561 - val_loss: 0.4323 - val_acc: 0.8145\n",
      "Epoch 32/40\n",
      "250/250 [==============================] - 30s 118ms/step - loss: 0.3227 - acc: 0.8595 - val_loss: 0.4690 - val_acc: 0.8000\n",
      "Epoch 33/40\n",
      "250/250 [==============================] - 28s 114ms/step - loss: 0.3013 - acc: 0.8715 - val_loss: 0.5717 - val_acc: 0.7670\n",
      "Epoch 34/40\n",
      "250/250 [==============================] - 29s 115ms/step - loss: 0.3035 - acc: 0.8614 - val_loss: 0.4796 - val_acc: 0.7935\n",
      "Epoch 35/40\n",
      "250/250 [==============================] - 29s 116ms/step - loss: 0.2971 - acc: 0.8719 - val_loss: 0.4489 - val_acc: 0.8095\n",
      "Epoch 36/40\n",
      "250/250 [==============================] - 29s 118ms/step - loss: 0.2951 - acc: 0.8725 - val_loss: 0.4886 - val_acc: 0.8005\n",
      "Epoch 37/40\n",
      "250/250 [==============================] - 29s 114ms/step - loss: 0.2794 - acc: 0.8780 - val_loss: 0.4771 - val_acc: 0.8090\n",
      "Epoch 38/40\n",
      "250/250 [==============================] - 29s 115ms/step - loss: 0.2824 - acc: 0.8771 - val_loss: 0.4582 - val_acc: 0.8055\n",
      "Epoch 39/40\n",
      "250/250 [==============================] - 29s 118ms/step - loss: 0.2650 - acc: 0.8884 - val_loss: 0.4832 - val_acc: 0.8040\n",
      "Epoch 40/40\n",
      "250/250 [==============================] - 29s 117ms/step - loss: 0.2714 - acc: 0.8839 - val_loss: 0.4557 - val_acc: 0.8120\n"
     ]
    }
   ],
   "source": [
    "epochs = 40\n",
    "batch_size = 1\n",
    "\n",
    "# fitting model & storing it to history to get evaluation metrics\n",
    "# fitting ann model to train set\n",
    "history = classifier.fit(train_set, epochs=epochs, validation_data=test_set)"
   ]
  },
  {
   "cell_type": "markdown",
   "metadata": {},
   "source": [
    "### Plotting learning of model against number of epochs"
   ]
  },
  {
   "cell_type": "code",
   "execution_count": 11,
   "metadata": {},
   "outputs": [
    {
     "data": {
      "image/png": "[encoded data removed]",
      "text/plain": [
       "<Figure size 432x288 with 1 Axes>"
      ]
     },
     "metadata": {
      "needs_background": "light"
     },
     "output_type": "display_data"
    }
   ],
   "source": [
    "import matplotlib.pyplot as plt\n",
    "\n",
    "acc = history.history['acc']\n",
    "val_acc = history.history['val_acc']\n",
    "\n",
    "loss=history.history['loss']\n",
    "val_loss=history.history['val_loss']\n",
    "\n",
    "epochs_range = range(epochs)\n",
    "\n",
    "\n",
    "plt.plot(epochs_range, acc, label='Training Accuracy')\n",
    "plt.plot(epochs_range, val_acc, label='Test Accuracy')\n",
    "plt.xlabel('Epochs')\n",
    "plt.ylabel('Accuracy')\n",
    "plt.legend(loc='lower right')\n",
    "plt.title('Training and Test Accuracy')\n",
    "plt.show()"
   ]
  },
  {
   "cell_type": "code",
   "execution_count": 10,
   "metadata": {},
   "outputs": [
    {
     "data": {
      "image/png": "[encoded data removed]",
      "text/plain": [
       "<Figure size 432x288 with 1 Axes>"
      ]
     },
     "metadata": {
      "needs_background": "light"
     },
     "output_type": "display_data"
    }
   ],
   "source": [
    "plt.plot(epochs_range, loss, label='Training Loss')\n",
    "plt.plot(epochs_range, val_loss, label='Test Loss')\n",
    "plt.xlabel('Epochs')\n",
    "plt.ylabel('Loss')\n",
    "plt.legend(loc='upper right')\n",
    "plt.title('Training and Test Loss')\n",
    "plt.show()"
   ]
  }
 ],
 "metadata": {
  "kernelspec": {
   "display_name": "Python 3",
   "language": "python",
   "name": "python3"
  },
  "language_info": {
   "codemirror_mode": {
    "name": "ipython",
    "version": 3
   },
   "file_extension": ".py",
   "mimetype": "text/x-python",
   "name": "python",
   "nbconvert_exporter": "python",
   "pygments_lexer": "ipython3",
   "version": "3.6.8"
  }
 },
 "nbformat": 4,
 "nbformat_minor": 2
}
