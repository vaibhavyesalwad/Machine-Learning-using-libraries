{
 "cells": [
  {
   "cell_type": "markdown",
   "metadata": {},
   "source": [
    "## Use cluster analysis to identify the groups of characteristically similar schools in the College Scorecard dataset"
   ]
  },
  {
   "cell_type": "code",
   "execution_count": 1,
   "metadata": {},
   "outputs": [
    {
     "name": "stderr",
     "output_type": "stream",
     "text": [
      "/home/admin1/.local/lib/python3.6/site-packages/IPython/core/interactiveshell.py:3051: DtypeWarning: Columns (7,9,1427,1542,1561,1575) have mixed types. Specify dtype option on import or set low_memory=False.\n",
      "  interactivity=interactivity, compiler=compiler, result=result)\n"
     ]
    },
    {
     "data": {
      "text/html": [
       "<div>\n",
       "<style scoped>\n",
       "    .dataframe tbody tr th:only-of-type {\n",
       "        vertical-align: middle;\n",
       "    }\n",
       "\n",
       "    .dataframe tbody tr th {\n",
       "        vertical-align: top;\n",
       "    }\n",
       "\n",
       "    .dataframe thead th {\n",
       "        text-align: right;\n",
       "    }\n",
       "</style>\n",
       "<table border=\"1\" class=\"dataframe\">\n",
       "  <thead>\n",
       "    <tr style=\"text-align: right;\">\n",
       "      <th></th>\n",
       "      <th>UNITID</th>\n",
       "      <th>OPEID</th>\n",
       "      <th>opeid6</th>\n",
       "      <th>INSTNM</th>\n",
       "      <th>CITY</th>\n",
       "      <th>STABBR</th>\n",
       "      <th>ZIP</th>\n",
       "      <th>AccredAgency</th>\n",
       "      <th>INSTURL</th>\n",
       "      <th>NPCURL</th>\n",
       "      <th>...</th>\n",
       "      <th>COMPL_RPY_3YR_RT_SUPP</th>\n",
       "      <th>NONCOM_RPY_3YR_RT_SUPP</th>\n",
       "      <th>DEP_RPY_3YR_RT_SUPP</th>\n",
       "      <th>IND_RPY_3YR_RT_SUPP</th>\n",
       "      <th>PELL_RPY_3YR_RT_SUPP</th>\n",
       "      <th>NOPELL_RPY_3YR_RT_SUPP</th>\n",
       "      <th>FEMALE_RPY_3YR_RT_SUPP</th>\n",
       "      <th>MALE_RPY_3YR_RT_SUPP</th>\n",
       "      <th>FIRSTGEN_RPY_3YR_RT_SUPP</th>\n",
       "      <th>NOTFIRSTGEN_RPY_3YR_RT_SUPP</th>\n",
       "    </tr>\n",
       "  </thead>\n",
       "  <tbody>\n",
       "    <tr>\n",
       "      <th>0</th>\n",
       "      <td>100654</td>\n",
       "      <td>100200</td>\n",
       "      <td>1002</td>\n",
       "      <td>Alabama A &amp; M University</td>\n",
       "      <td>Normal</td>\n",
       "      <td>AL</td>\n",
       "      <td>35762</td>\n",
       "      <td>Southern Association of Colleges and Schools C...</td>\n",
       "      <td>www.aamu.edu/</td>\n",
       "      <td>galileo.aamu.edu/netpricecalculator/npcalc.htm</td>\n",
       "      <td>...</td>\n",
       "      <td>0.578873239</td>\n",
       "      <td>0.373790022</td>\n",
       "      <td>0.442857143</td>\n",
       "      <td>0.45890411</td>\n",
       "      <td>0.443586698</td>\n",
       "      <td>0.452513966</td>\n",
       "      <td>0.484818805</td>\n",
       "      <td>0.406</td>\n",
       "      <td>0.423580786</td>\n",
       "      <td>0.44245283</td>\n",
       "    </tr>\n",
       "    <tr>\n",
       "      <th>1</th>\n",
       "      <td>100663</td>\n",
       "      <td>105200</td>\n",
       "      <td>1052</td>\n",
       "      <td>University of Alabama at Birmingham</td>\n",
       "      <td>Birmingham</td>\n",
       "      <td>AL</td>\n",
       "      <td>35294-0110</td>\n",
       "      <td>Southern Association of Colleges and Schools C...</td>\n",
       "      <td>www.uab.edu</td>\n",
       "      <td>www.collegeportraits.org/AL/UAB/estimator/agree</td>\n",
       "      <td>...</td>\n",
       "      <td>0.847800926</td>\n",
       "      <td>0.678748759</td>\n",
       "      <td>0.767798013</td>\n",
       "      <td>0.739164697</td>\n",
       "      <td>0.732297853</td>\n",
       "      <td>0.795454545</td>\n",
       "      <td>0.760521886</td>\n",
       "      <td>0.755344418</td>\n",
       "      <td>0.751552795</td>\n",
       "      <td>0.765074771</td>\n",
       "    </tr>\n",
       "    <tr>\n",
       "      <th>2</th>\n",
       "      <td>100690</td>\n",
       "      <td>2503400</td>\n",
       "      <td>25034</td>\n",
       "      <td>Amridge University</td>\n",
       "      <td>Montgomery</td>\n",
       "      <td>AL</td>\n",
       "      <td>36117-3553</td>\n",
       "      <td>Southern Association of Colleges and Schools C...</td>\n",
       "      <td>www.amridgeuniversity.edu</td>\n",
       "      <td>tcc.noellevitz.com/(S(miwoihs5stz5cpyifh4nczu0...</td>\n",
       "      <td>...</td>\n",
       "      <td>0.807692308</td>\n",
       "      <td>0.61328125</td>\n",
       "      <td>PrivacySuppressed</td>\n",
       "      <td>0.641114983</td>\n",
       "      <td>0.600877193</td>\n",
       "      <td>0.775</td>\n",
       "      <td>0.610465116</td>\n",
       "      <td>0.686567164</td>\n",
       "      <td>0.632653061</td>\n",
       "      <td>0.65</td>\n",
       "    </tr>\n",
       "    <tr>\n",
       "      <th>3</th>\n",
       "      <td>100706</td>\n",
       "      <td>105500</td>\n",
       "      <td>1055</td>\n",
       "      <td>University of Alabama in Huntsville</td>\n",
       "      <td>Huntsville</td>\n",
       "      <td>AL</td>\n",
       "      <td>35899</td>\n",
       "      <td>Southern Association of Colleges and Schools C...</td>\n",
       "      <td>www.uah.edu</td>\n",
       "      <td>finaid.uah.edu/</td>\n",
       "      <td>...</td>\n",
       "      <td>0.892045455</td>\n",
       "      <td>0.689788054</td>\n",
       "      <td>0.800347222</td>\n",
       "      <td>0.75564409</td>\n",
       "      <td>0.738341969</td>\n",
       "      <td>0.851405622</td>\n",
       "      <td>0.768378651</td>\n",
       "      <td>0.79844098</td>\n",
       "      <td>0.778156997</td>\n",
       "      <td>0.791666667</td>\n",
       "    </tr>\n",
       "    <tr>\n",
       "      <th>4</th>\n",
       "      <td>100724</td>\n",
       "      <td>100500</td>\n",
       "      <td>1005</td>\n",
       "      <td>Alabama State University</td>\n",
       "      <td>Montgomery</td>\n",
       "      <td>AL</td>\n",
       "      <td>36104-0271</td>\n",
       "      <td>Southern Association of Colleges and Schools C...</td>\n",
       "      <td>www.alasu.edu/email/index.aspx</td>\n",
       "      <td>www.alasu.edu/cost-aid/forms/calculator/index....</td>\n",
       "      <td>...</td>\n",
       "      <td>0.482490272</td>\n",
       "      <td>0.315996848</td>\n",
       "      <td>0.32410212</td>\n",
       "      <td>0.350993377</td>\n",
       "      <td>0.320016821</td>\n",
       "      <td>0.380829016</td>\n",
       "      <td>0.364423718</td>\n",
       "      <td>0.286530612</td>\n",
       "      <td>0.315737052</td>\n",
       "      <td>0.334633385</td>\n",
       "    </tr>\n",
       "  </tbody>\n",
       "</table>\n",
       "<p>5 rows × 1725 columns</p>\n",
       "</div>"
      ],
      "text/plain": [
       "   UNITID    OPEID  opeid6                               INSTNM        CITY  \\\n",
       "0  100654   100200    1002             Alabama A & M University      Normal   \n",
       "1  100663   105200    1052  University of Alabama at Birmingham  Birmingham   \n",
       "2  100690  2503400   25034                   Amridge University  Montgomery   \n",
       "3  100706   105500    1055  University of Alabama in Huntsville  Huntsville   \n",
       "4  100724   100500    1005             Alabama State University  Montgomery   \n",
       "\n",
       "  STABBR         ZIP                                       AccredAgency  \\\n",
       "0     AL       35762  Southern Association of Colleges and Schools C...   \n",
       "1     AL  35294-0110  Southern Association of Colleges and Schools C...   \n",
       "2     AL  36117-3553  Southern Association of Colleges and Schools C...   \n",
       "3     AL       35899  Southern Association of Colleges and Schools C...   \n",
       "4     AL  36104-0271  Southern Association of Colleges and Schools C...   \n",
       "\n",
       "                          INSTURL  \\\n",
       "0                   www.aamu.edu/   \n",
       "1                     www.uab.edu   \n",
       "2       www.amridgeuniversity.edu   \n",
       "3                     www.uah.edu   \n",
       "4  www.alasu.edu/email/index.aspx   \n",
       "\n",
       "                                              NPCURL  ...  \\\n",
       "0     galileo.aamu.edu/netpricecalculator/npcalc.htm  ...   \n",
       "1    www.collegeportraits.org/AL/UAB/estimator/agree  ...   \n",
       "2  tcc.noellevitz.com/(S(miwoihs5stz5cpyifh4nczu0...  ...   \n",
       "3                                    finaid.uah.edu/  ...   \n",
       "4  www.alasu.edu/cost-aid/forms/calculator/index....  ...   \n",
       "\n",
       "   COMPL_RPY_3YR_RT_SUPP  NONCOM_RPY_3YR_RT_SUPP  DEP_RPY_3YR_RT_SUPP  \\\n",
       "0            0.578873239             0.373790022          0.442857143   \n",
       "1            0.847800926             0.678748759          0.767798013   \n",
       "2            0.807692308              0.61328125    PrivacySuppressed   \n",
       "3            0.892045455             0.689788054          0.800347222   \n",
       "4            0.482490272             0.315996848           0.32410212   \n",
       "\n",
       "   IND_RPY_3YR_RT_SUPP  PELL_RPY_3YR_RT_SUPP  NOPELL_RPY_3YR_RT_SUPP  \\\n",
       "0           0.45890411           0.443586698             0.452513966   \n",
       "1          0.739164697           0.732297853             0.795454545   \n",
       "2          0.641114983           0.600877193                   0.775   \n",
       "3           0.75564409           0.738341969             0.851405622   \n",
       "4          0.350993377           0.320016821             0.380829016   \n",
       "\n",
       "   FEMALE_RPY_3YR_RT_SUPP  MALE_RPY_3YR_RT_SUPP  FIRSTGEN_RPY_3YR_RT_SUPP  \\\n",
       "0             0.484818805                 0.406               0.423580786   \n",
       "1             0.760521886           0.755344418               0.751552795   \n",
       "2             0.610465116           0.686567164               0.632653061   \n",
       "3             0.768378651            0.79844098               0.778156997   \n",
       "4             0.364423718           0.286530612               0.315737052   \n",
       "\n",
       "   NOTFIRSTGEN_RPY_3YR_RT_SUPP  \n",
       "0                   0.44245283  \n",
       "1                  0.765074771  \n",
       "2                         0.65  \n",
       "3                  0.791666667  \n",
       "4                  0.334633385  \n",
       "\n",
       "[5 rows x 1725 columns]"
      ]
     },
     "execution_count": 1,
     "metadata": {},
     "output_type": "execute_result"
    }
   ],
   "source": [
    "import numpy as np\n",
    "import pandas as pd\n",
    "import matplotlib.pyplot as plt\n",
    "import os\n",
    "os.chdir('/home/admin1/PycharmProjects/Clustering datasets')\n",
    "\n",
    "# reading dataset & storing it as pandas dataframe\n",
    "college_data = pd.read_csv('CollegeScorecard.csv')\n",
    "college_data.head()"
   ]
  },
  {
   "cell_type": "markdown",
   "metadata": {},
   "source": [
    "#### Taking only 5 relevant columns"
   ]
  },
  {
   "cell_type": "code",
   "execution_count": 2,
   "metadata": {},
   "outputs": [],
   "source": [
    "data = college_data.loc[:,['PREDDEG','HIGHDEG','CONTROL','TUITIONFEE_IN','PCTFLOAN']]"
   ]
  },
  {
   "cell_type": "code",
   "execution_count": 3,
   "metadata": {},
   "outputs": [],
   "source": [
    "data = data[:2000]"
   ]
  },
  {
   "cell_type": "code",
   "execution_count": 4,
   "metadata": {},
   "outputs": [
    {
     "name": "stdout",
     "output_type": "stream",
     "text": [
      "<class 'pandas.core.frame.DataFrame'>\n",
      "RangeIndex: 2000 entries, 0 to 1999\n",
      "Data columns (total 5 columns):\n",
      "PREDDEG          2000 non-null int64\n",
      "HIGHDEG          2000 non-null int64\n",
      "CONTROL          2000 non-null int64\n",
      "TUITIONFEE_IN    1399 non-null float64\n",
      "PCTFLOAN         1893 non-null float64\n",
      "dtypes: float64(2), int64(3)\n",
      "memory usage: 78.2 KB\n"
     ]
    }
   ],
   "source": [
    "data.info()"
   ]
  },
  {
   "cell_type": "code",
   "execution_count": 5,
   "metadata": {},
   "outputs": [],
   "source": [
    "data['TUITIONFEE_IN'].fillna(data['TUITIONFEE_IN'].mean(), inplace= True)\n",
    "data['PCTFLOAN'].fillna(data['PCTFLOAN'].mean(), inplace= True)"
   ]
  },
  {
   "cell_type": "code",
   "execution_count": 6,
   "metadata": {},
   "outputs": [],
   "source": [
    "college_data = None"
   ]
  },
  {
   "cell_type": "code",
   "execution_count": 7,
   "metadata": {},
   "outputs": [
    {
     "data": {
      "text/html": [
       "<div>\n",
       "<style scoped>\n",
       "    .dataframe tbody tr th:only-of-type {\n",
       "        vertical-align: middle;\n",
       "    }\n",
       "\n",
       "    .dataframe tbody tr th {\n",
       "        vertical-align: top;\n",
       "    }\n",
       "\n",
       "    .dataframe thead th {\n",
       "        text-align: right;\n",
       "    }\n",
       "</style>\n",
       "<table border=\"1\" class=\"dataframe\">\n",
       "  <thead>\n",
       "    <tr style=\"text-align: right;\">\n",
       "      <th></th>\n",
       "      <th>PREDDEG</th>\n",
       "      <th>HIGHDEG</th>\n",
       "      <th>CONTROL</th>\n",
       "      <th>TUITIONFEE_IN</th>\n",
       "      <th>PCTFLOAN</th>\n",
       "    </tr>\n",
       "  </thead>\n",
       "  <tbody>\n",
       "    <tr>\n",
       "      <th>count</th>\n",
       "      <td>2000.00000</td>\n",
       "      <td>2000.000000</td>\n",
       "      <td>2000.000000</td>\n",
       "      <td>2000.000000</td>\n",
       "      <td>2000.000000</td>\n",
       "    </tr>\n",
       "    <tr>\n",
       "      <th>mean</th>\n",
       "      <td>2.17250</td>\n",
       "      <td>2.682000</td>\n",
       "      <td>1.903500</td>\n",
       "      <td>14255.908506</td>\n",
       "      <td>0.490982</td>\n",
       "    </tr>\n",
       "    <tr>\n",
       "      <th>std</th>\n",
       "      <td>0.94773</td>\n",
       "      <td>1.182614</td>\n",
       "      <td>0.804681</td>\n",
       "      <td>10413.755901</td>\n",
       "      <td>0.267753</td>\n",
       "    </tr>\n",
       "    <tr>\n",
       "      <th>min</th>\n",
       "      <td>0.00000</td>\n",
       "      <td>0.000000</td>\n",
       "      <td>1.000000</td>\n",
       "      <td>80.000000</td>\n",
       "      <td>0.000000</td>\n",
       "    </tr>\n",
       "    <tr>\n",
       "      <th>25%</th>\n",
       "      <td>1.00000</td>\n",
       "      <td>2.000000</td>\n",
       "      <td>1.000000</td>\n",
       "      <td>5785.750000</td>\n",
       "      <td>0.322825</td>\n",
       "    </tr>\n",
       "    <tr>\n",
       "      <th>50%</th>\n",
       "      <td>2.00000</td>\n",
       "      <td>3.000000</td>\n",
       "      <td>2.000000</td>\n",
       "      <td>14255.908506</td>\n",
       "      <td>0.523750</td>\n",
       "    </tr>\n",
       "    <tr>\n",
       "      <th>75%</th>\n",
       "      <td>3.00000</td>\n",
       "      <td>4.000000</td>\n",
       "      <td>3.000000</td>\n",
       "      <td>15983.750000</td>\n",
       "      <td>0.697650</td>\n",
       "    </tr>\n",
       "    <tr>\n",
       "      <th>max</th>\n",
       "      <td>4.00000</td>\n",
       "      <td>4.000000</td>\n",
       "      <td>3.000000</td>\n",
       "      <td>47514.000000</td>\n",
       "      <td>1.000000</td>\n",
       "    </tr>\n",
       "  </tbody>\n",
       "</table>\n",
       "</div>"
      ],
      "text/plain": [
       "          PREDDEG      HIGHDEG      CONTROL  TUITIONFEE_IN     PCTFLOAN\n",
       "count  2000.00000  2000.000000  2000.000000    2000.000000  2000.000000\n",
       "mean      2.17250     2.682000     1.903500   14255.908506     0.490982\n",
       "std       0.94773     1.182614     0.804681   10413.755901     0.267753\n",
       "min       0.00000     0.000000     1.000000      80.000000     0.000000\n",
       "25%       1.00000     2.000000     1.000000    5785.750000     0.322825\n",
       "50%       2.00000     3.000000     2.000000   14255.908506     0.523750\n",
       "75%       3.00000     4.000000     3.000000   15983.750000     0.697650\n",
       "max       4.00000     4.000000     3.000000   47514.000000     1.000000"
      ]
     },
     "execution_count": 7,
     "metadata": {},
     "output_type": "execute_result"
    }
   ],
   "source": [
    "data.describe()"
   ]
  },
  {
   "cell_type": "code",
   "execution_count": 8,
   "metadata": {},
   "outputs": [],
   "source": [
    "x_values = data.values"
   ]
  },
  {
   "cell_type": "code",
   "execution_count": 9,
   "metadata": {},
   "outputs": [],
   "source": [
    "from sklearn.preprocessing import StandardScaler\n",
    "sc_x = StandardScaler()\n",
    "x_values = sc_x.fit_transform(x_values)"
   ]
  },
  {
   "cell_type": "markdown",
   "metadata": {},
   "source": [
    "### Finding optimal clusters using elbow method"
   ]
  },
  {
   "cell_type": "code",
   "execution_count": 10,
   "metadata": {},
   "outputs": [
    {
     "data": {
      "image/png": "[encoded data removed]",
      "text/plain": [
       "<Figure size 576x396 with 1 Axes>"
      ]
     },
     "metadata": {},
     "output_type": "display_data"
    }
   ],
   "source": [
    "from sklearn.cluster import KMeans\n",
    "\n",
    "wcss = []\n",
    "for num in range(1,11):\n",
    "    kmeans = KMeans(n_clusters=num, init='k-means++',max_iter=300, n_init=10, random_state=0)\n",
    "    kmeans.fit(x_values)\n",
    "    wcss.append(kmeans.inertia_)\n",
    "\n",
    "plt.style.use('seaborn')\n",
    "plt.plot(range(1,11), wcss)\n",
    "plt.xlabel('Number of clusters')\n",
    "plt.ylabel('WCSS')\n",
    "plt.show()"
   ]
  },
  {
   "cell_type": "markdown",
   "metadata": {},
   "source": [
    "#### Optimal number of clusters is 4"
   ]
  },
  {
   "cell_type": "markdown",
   "metadata": {},
   "source": [
    "### Building KMeans clustering model"
   ]
  },
  {
   "cell_type": "code",
   "execution_count": 11,
   "metadata": {},
   "outputs": [],
   "source": [
    "total_clusters = 4\n",
    "kmeans = KMeans(n_clusters=total_clusters, init='k-means++',max_iter=300, n_init=10, random_state=0)\n",
    "y_kmeans = kmeans.fit_predict(x_values)"
   ]
  },
  {
   "cell_type": "markdown",
   "metadata": {},
   "source": [
    "#### Total records in each cluster"
   ]
  },
  {
   "cell_type": "code",
   "execution_count": 12,
   "metadata": {},
   "outputs": [
    {
     "name": "stdout",
     "output_type": "stream",
     "text": [
      "Number of colleges in Cluster 1: 445\n",
      "Number of colleges in Cluster 2: 532\n",
      "Number of colleges in Cluster 3: 532\n",
      "Number of colleges in Cluster 4: 491\n"
     ]
    }
   ],
   "source": [
    "for num in range(total_clusters):\n",
    "    print(f'Number of colleges in Cluster {num + 1}: {len(y_kmeans[y_kmeans==num])}')"
   ]
  }
 ],
 "metadata": {
  "kernelspec": {
   "display_name": "Python 3",
   "language": "python",
   "name": "python3"
  },
  "language_info": {
   "codemirror_mode": {
    "name": "ipython",
    "version": 3
   },
   "file_extension": ".py",
   "mimetype": "text/x-python",
   "name": "python",
   "nbconvert_exporter": "python",
   "pygments_lexer": "ipython3",
   "version": "3.6.9"
  }
 },
 "nbformat": 4,
 "nbformat_minor": 2
}
