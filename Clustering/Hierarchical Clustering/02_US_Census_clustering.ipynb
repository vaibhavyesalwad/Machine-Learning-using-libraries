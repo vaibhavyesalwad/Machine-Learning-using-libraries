{
 "cells": [
  {
   "cell_type": "markdown",
   "metadata": {},
   "source": [
    "## Apply K-Means clustering on below dataset"
   ]
  },
  {
   "cell_type": "raw",
   "metadata": {},
   "source": [
    "https://archive.ics.uci.edu/ml/datasets/US+Census+Data+%281990%29"
   ]
  },
  {
   "cell_type": "code",
   "execution_count": 1,
   "metadata": {},
   "outputs": [
    {
     "data": {
      "text/html": [
       "<div>\n",
       "<style scoped>\n",
       "    .dataframe tbody tr th:only-of-type {\n",
       "        vertical-align: middle;\n",
       "    }\n",
       "\n",
       "    .dataframe tbody tr th {\n",
       "        vertical-align: top;\n",
       "    }\n",
       "\n",
       "    .dataframe thead th {\n",
       "        text-align: right;\n",
       "    }\n",
       "</style>\n",
       "<table border=\"1\" class=\"dataframe\">\n",
       "  <thead>\n",
       "    <tr style=\"text-align: right;\">\n",
       "      <th></th>\n",
       "      <th>caseid</th>\n",
       "      <th>dAge</th>\n",
       "      <th>dAncstry1</th>\n",
       "      <th>dAncstry2</th>\n",
       "      <th>iAvail</th>\n",
       "      <th>iCitizen</th>\n",
       "      <th>iClass</th>\n",
       "      <th>dDepart</th>\n",
       "      <th>iDisabl1</th>\n",
       "      <th>iDisabl2</th>\n",
       "      <th>...</th>\n",
       "      <th>iTmpabsnt</th>\n",
       "      <th>dTravtime</th>\n",
       "      <th>iVietnam</th>\n",
       "      <th>dWeek89</th>\n",
       "      <th>iWork89</th>\n",
       "      <th>iWorklwk</th>\n",
       "      <th>iWWII</th>\n",
       "      <th>iYearsch</th>\n",
       "      <th>iYearwrk</th>\n",
       "      <th>dYrsserv</th>\n",
       "    </tr>\n",
       "  </thead>\n",
       "  <tbody>\n",
       "    <tr>\n",
       "      <th>0</th>\n",
       "      <td>10000</td>\n",
       "      <td>5</td>\n",
       "      <td>0</td>\n",
       "      <td>1</td>\n",
       "      <td>0</td>\n",
       "      <td>0</td>\n",
       "      <td>5</td>\n",
       "      <td>3</td>\n",
       "      <td>2</td>\n",
       "      <td>2</td>\n",
       "      <td>...</td>\n",
       "      <td>0</td>\n",
       "      <td>5</td>\n",
       "      <td>0</td>\n",
       "      <td>2</td>\n",
       "      <td>1</td>\n",
       "      <td>1</td>\n",
       "      <td>0</td>\n",
       "      <td>11</td>\n",
       "      <td>1</td>\n",
       "      <td>0</td>\n",
       "    </tr>\n",
       "    <tr>\n",
       "      <th>1</th>\n",
       "      <td>10001</td>\n",
       "      <td>6</td>\n",
       "      <td>1</td>\n",
       "      <td>1</td>\n",
       "      <td>0</td>\n",
       "      <td>0</td>\n",
       "      <td>7</td>\n",
       "      <td>5</td>\n",
       "      <td>2</td>\n",
       "      <td>2</td>\n",
       "      <td>...</td>\n",
       "      <td>0</td>\n",
       "      <td>1</td>\n",
       "      <td>0</td>\n",
       "      <td>2</td>\n",
       "      <td>1</td>\n",
       "      <td>1</td>\n",
       "      <td>0</td>\n",
       "      <td>5</td>\n",
       "      <td>1</td>\n",
       "      <td>0</td>\n",
       "    </tr>\n",
       "    <tr>\n",
       "      <th>2</th>\n",
       "      <td>10002</td>\n",
       "      <td>3</td>\n",
       "      <td>1</td>\n",
       "      <td>2</td>\n",
       "      <td>0</td>\n",
       "      <td>0</td>\n",
       "      <td>7</td>\n",
       "      <td>4</td>\n",
       "      <td>2</td>\n",
       "      <td>2</td>\n",
       "      <td>...</td>\n",
       "      <td>0</td>\n",
       "      <td>2</td>\n",
       "      <td>0</td>\n",
       "      <td>2</td>\n",
       "      <td>1</td>\n",
       "      <td>1</td>\n",
       "      <td>0</td>\n",
       "      <td>10</td>\n",
       "      <td>1</td>\n",
       "      <td>0</td>\n",
       "    </tr>\n",
       "    <tr>\n",
       "      <th>3</th>\n",
       "      <td>10003</td>\n",
       "      <td>4</td>\n",
       "      <td>1</td>\n",
       "      <td>2</td>\n",
       "      <td>0</td>\n",
       "      <td>0</td>\n",
       "      <td>1</td>\n",
       "      <td>3</td>\n",
       "      <td>2</td>\n",
       "      <td>2</td>\n",
       "      <td>...</td>\n",
       "      <td>0</td>\n",
       "      <td>1</td>\n",
       "      <td>0</td>\n",
       "      <td>1</td>\n",
       "      <td>1</td>\n",
       "      <td>1</td>\n",
       "      <td>0</td>\n",
       "      <td>10</td>\n",
       "      <td>1</td>\n",
       "      <td>0</td>\n",
       "    </tr>\n",
       "    <tr>\n",
       "      <th>4</th>\n",
       "      <td>10004</td>\n",
       "      <td>7</td>\n",
       "      <td>1</td>\n",
       "      <td>1</td>\n",
       "      <td>0</td>\n",
       "      <td>0</td>\n",
       "      <td>0</td>\n",
       "      <td>0</td>\n",
       "      <td>2</td>\n",
       "      <td>2</td>\n",
       "      <td>...</td>\n",
       "      <td>3</td>\n",
       "      <td>0</td>\n",
       "      <td>0</td>\n",
       "      <td>0</td>\n",
       "      <td>2</td>\n",
       "      <td>2</td>\n",
       "      <td>0</td>\n",
       "      <td>5</td>\n",
       "      <td>6</td>\n",
       "      <td>0</td>\n",
       "    </tr>\n",
       "  </tbody>\n",
       "</table>\n",
       "<p>5 rows × 69 columns</p>\n",
       "</div>"
      ],
      "text/plain": [
       "   caseid  dAge  dAncstry1  dAncstry2  iAvail  iCitizen  iClass  dDepart  \\\n",
       "0   10000     5          0          1       0         0       5        3   \n",
       "1   10001     6          1          1       0         0       7        5   \n",
       "2   10002     3          1          2       0         0       7        4   \n",
       "3   10003     4          1          2       0         0       1        3   \n",
       "4   10004     7          1          1       0         0       0        0   \n",
       "\n",
       "   iDisabl1  iDisabl2  ...  iTmpabsnt  dTravtime  iVietnam  dWeek89  iWork89  \\\n",
       "0         2         2  ...          0          5         0        2        1   \n",
       "1         2         2  ...          0          1         0        2        1   \n",
       "2         2         2  ...          0          2         0        2        1   \n",
       "3         2         2  ...          0          1         0        1        1   \n",
       "4         2         2  ...          3          0         0        0        2   \n",
       "\n",
       "   iWorklwk  iWWII  iYearsch  iYearwrk  dYrsserv  \n",
       "0         1      0        11         1         0  \n",
       "1         1      0         5         1         0  \n",
       "2         1      0        10         1         0  \n",
       "3         1      0        10         1         0  \n",
       "4         2      0         5         6         0  \n",
       "\n",
       "[5 rows x 69 columns]"
      ]
     },
     "execution_count": 1,
     "metadata": {},
     "output_type": "execute_result"
    }
   ],
   "source": [
    "import numpy as np \n",
    "import pandas as pd\n",
    "import matplotlib.pyplot as plt\n",
    "import os\n",
    "os.chdir('/home/admin1/PycharmProjects/Clustering datasets/')\n",
    "\n",
    "# loading dataset from csv file & storing it as pandas dataframe\n",
    "census_data = pd.read_csv('USCensus1990_data.csv')\n",
    "census_data.head()"
   ]
  },
  {
   "cell_type": "code",
   "execution_count": 2,
   "metadata": {},
   "outputs": [
    {
     "name": "stdout",
     "output_type": "stream",
     "text": [
      "<class 'pandas.core.frame.DataFrame'>\n",
      "RangeIndex: 2458285 entries, 0 to 2458284\n",
      "Data columns (total 69 columns):\n",
      "caseid       int64\n",
      "dAge         int64\n",
      "dAncstry1    int64\n",
      "dAncstry2    int64\n",
      "iAvail       int64\n",
      "iCitizen     int64\n",
      "iClass       int64\n",
      "dDepart      int64\n",
      "iDisabl1     int64\n",
      "iDisabl2     int64\n",
      "iEnglish     int64\n",
      "iFeb55       int64\n",
      "iFertil      int64\n",
      "dHispanic    int64\n",
      "dHour89      int64\n",
      "dHours       int64\n",
      "iImmigr      int64\n",
      "dIncome1     int64\n",
      "dIncome2     int64\n",
      "dIncome3     int64\n",
      "dIncome4     int64\n",
      "dIncome5     int64\n",
      "dIncome6     int64\n",
      "dIncome7     int64\n",
      "dIncome8     int64\n",
      "dIndustry    int64\n",
      "iKorean      int64\n",
      "iLang1       int64\n",
      "iLooking     int64\n",
      "iMarital     int64\n",
      "iMay75880    int64\n",
      "iMeans       int64\n",
      "iMilitary    int64\n",
      "iMobility    int64\n",
      "iMobillim    int64\n",
      "dOccup       int64\n",
      "iOthrserv    int64\n",
      "iPerscare    int64\n",
      "dPOB         int64\n",
      "dPoverty     int64\n",
      "dPwgt1       int64\n",
      "iRagechld    int64\n",
      "dRearning    int64\n",
      "iRelat1      int64\n",
      "iRelat2      int64\n",
      "iRemplpar    int64\n",
      "iRiders      int64\n",
      "iRlabor      int64\n",
      "iRownchld    int64\n",
      "dRpincome    int64\n",
      "iRPOB        int64\n",
      "iRrelchld    int64\n",
      "iRspouse     int64\n",
      "iRvetserv    int64\n",
      "iSchool      int64\n",
      "iSept80      int64\n",
      "iSex         int64\n",
      "iSubfam1     int64\n",
      "iSubfam2     int64\n",
      "iTmpabsnt    int64\n",
      "dTravtime    int64\n",
      "iVietnam     int64\n",
      "dWeek89      int64\n",
      "iWork89      int64\n",
      "iWorklwk     int64\n",
      "iWWII        int64\n",
      "iYearsch     int64\n",
      "iYearwrk     int64\n",
      "dYrsserv     int64\n",
      "dtypes: int64(69)\n",
      "memory usage: 1.3 GB\n"
     ]
    }
   ],
   "source": [
    "census_data.info()"
   ]
  },
  {
   "cell_type": "code",
   "execution_count": 3,
   "metadata": {},
   "outputs": [],
   "source": [
    "# taking only 00000 records\n",
    "census_data = census_data.iloc[:10000]"
   ]
  },
  {
   "cell_type": "markdown",
   "metadata": {},
   "source": [
    "#### Checking for null values"
   ]
  },
  {
   "cell_type": "code",
   "execution_count": 4,
   "metadata": {},
   "outputs": [
    {
     "name": "stdout",
     "output_type": "stream",
     "text": [
      "<class 'pandas.core.frame.DataFrame'>\n",
      "RangeIndex: 10000 entries, 0 to 9999\n",
      "Data columns (total 69 columns):\n",
      "caseid       10000 non-null int64\n",
      "dAge         10000 non-null int64\n",
      "dAncstry1    10000 non-null int64\n",
      "dAncstry2    10000 non-null int64\n",
      "iAvail       10000 non-null int64\n",
      "iCitizen     10000 non-null int64\n",
      "iClass       10000 non-null int64\n",
      "dDepart      10000 non-null int64\n",
      "iDisabl1     10000 non-null int64\n",
      "iDisabl2     10000 non-null int64\n",
      "iEnglish     10000 non-null int64\n",
      "iFeb55       10000 non-null int64\n",
      "iFertil      10000 non-null int64\n",
      "dHispanic    10000 non-null int64\n",
      "dHour89      10000 non-null int64\n",
      "dHours       10000 non-null int64\n",
      "iImmigr      10000 non-null int64\n",
      "dIncome1     10000 non-null int64\n",
      "dIncome2     10000 non-null int64\n",
      "dIncome3     10000 non-null int64\n",
      "dIncome4     10000 non-null int64\n",
      "dIncome5     10000 non-null int64\n",
      "dIncome6     10000 non-null int64\n",
      "dIncome7     10000 non-null int64\n",
      "dIncome8     10000 non-null int64\n",
      "dIndustry    10000 non-null int64\n",
      "iKorean      10000 non-null int64\n",
      "iLang1       10000 non-null int64\n",
      "iLooking     10000 non-null int64\n",
      "iMarital     10000 non-null int64\n",
      "iMay75880    10000 non-null int64\n",
      "iMeans       10000 non-null int64\n",
      "iMilitary    10000 non-null int64\n",
      "iMobility    10000 non-null int64\n",
      "iMobillim    10000 non-null int64\n",
      "dOccup       10000 non-null int64\n",
      "iOthrserv    10000 non-null int64\n",
      "iPerscare    10000 non-null int64\n",
      "dPOB         10000 non-null int64\n",
      "dPoverty     10000 non-null int64\n",
      "dPwgt1       10000 non-null int64\n",
      "iRagechld    10000 non-null int64\n",
      "dRearning    10000 non-null int64\n",
      "iRelat1      10000 non-null int64\n",
      "iRelat2      10000 non-null int64\n",
      "iRemplpar    10000 non-null int64\n",
      "iRiders      10000 non-null int64\n",
      "iRlabor      10000 non-null int64\n",
      "iRownchld    10000 non-null int64\n",
      "dRpincome    10000 non-null int64\n",
      "iRPOB        10000 non-null int64\n",
      "iRrelchld    10000 non-null int64\n",
      "iRspouse     10000 non-null int64\n",
      "iRvetserv    10000 non-null int64\n",
      "iSchool      10000 non-null int64\n",
      "iSept80      10000 non-null int64\n",
      "iSex         10000 non-null int64\n",
      "iSubfam1     10000 non-null int64\n",
      "iSubfam2     10000 non-null int64\n",
      "iTmpabsnt    10000 non-null int64\n",
      "dTravtime    10000 non-null int64\n",
      "iVietnam     10000 non-null int64\n",
      "dWeek89      10000 non-null int64\n",
      "iWork89      10000 non-null int64\n",
      "iWorklwk     10000 non-null int64\n",
      "iWWII        10000 non-null int64\n",
      "iYearsch     10000 non-null int64\n",
      "iYearwrk     10000 non-null int64\n",
      "dYrsserv     10000 non-null int64\n",
      "dtypes: int64(69)\n",
      "memory usage: 5.3 MB\n"
     ]
    }
   ],
   "source": [
    "census_data.info()"
   ]
  },
  {
   "cell_type": "markdown",
   "metadata": {},
   "source": [
    "#### Creating feature matrix"
   ]
  },
  {
   "cell_type": "code",
   "execution_count": 5,
   "metadata": {},
   "outputs": [],
   "source": [
    "x_values = census_data.values "
   ]
  },
  {
   "cell_type": "markdown",
   "metadata": {},
   "source": [
    "### Finding optimal number of clusters using dendogram method"
   ]
  },
  {
   "cell_type": "code",
   "execution_count": 6,
   "metadata": {},
   "outputs": [
    {
     "data": {
      "image/png": "[encoded data removed]",
      "text/plain": [
       "<Figure size 720x576 with 1 Axes>"
      ]
     },
     "metadata": {},
     "output_type": "display_data"
    }
   ],
   "source": [
    "import scipy.cluster.hierarchy as sch\n",
    "\n",
    "plt.style.use('seaborn')\n",
    "plt.figure(figsize=(10,8))\n",
    "dendogram = sch.dendrogram(sch.linkage(x_values, method='ward'))\n",
    "plt.title('Dendogram')\n",
    "plt.xlabel('Customers')\n",
    "plt.ylabel('Euclidean distances')\n",
    "plt.show()"
   ]
  },
  {
   "cell_type": "markdown",
   "metadata": {},
   "source": [
    "#### We can take 2 or 3 clusters, going with 3 clusters"
   ]
  },
  {
   "cell_type": "markdown",
   "metadata": {},
   "source": [
    "### Creating 3 clusters using hierarchical clustering"
   ]
  },
  {
   "cell_type": "code",
   "execution_count": 7,
   "metadata": {},
   "outputs": [],
   "source": [
    "from sklearn.cluster import AgglomerativeClustering\n",
    "\n",
    "total_clusters = 3\n",
    "agglo_clustering = AgglomerativeClustering(n_clusters=total_clusters, affinity='euclidean', linkage='ward')\n",
    "predicted_clusters = agglo_clustering.fit_predict(x_values)"
   ]
  },
  {
   "cell_type": "markdown",
   "metadata": {},
   "source": [
    "#### Total records in each cluster"
   ]
  },
  {
   "cell_type": "code",
   "execution_count": 8,
   "metadata": {},
   "outputs": [
    {
     "name": "stdout",
     "output_type": "stream",
     "text": [
      "Number of records in Cluster 1: 4117\n",
      "Number of records in Cluster 2: 3491\n",
      "Number of records in Cluster 3: 2392\n"
     ]
    }
   ],
   "source": [
    "for num in range(total_clusters):\n",
    "    print(f'Number of records in Cluster {num + 1}: {len(predicted_clusters[predicted_clusters == num])}')"
   ]
  }
 ],
 "metadata": {
  "kernelspec": {
   "display_name": "Python 3",
   "language": "python",
   "name": "python3"
  },
  "language_info": {
   "codemirror_mode": {
    "name": "ipython",
    "version": 3
   },
   "file_extension": ".py",
   "mimetype": "text/x-python",
   "name": "python",
   "nbconvert_exporter": "python",
   "pygments_lexer": "ipython3",
   "version": "3.6.9"
  }
 },
 "nbformat": 4,
 "nbformat_minor": 2
}
