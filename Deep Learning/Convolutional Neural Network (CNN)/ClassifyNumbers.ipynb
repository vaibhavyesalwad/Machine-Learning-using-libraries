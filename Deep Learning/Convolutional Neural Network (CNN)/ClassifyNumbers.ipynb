{
 "cells": [
  {
   "cell_type": "markdown",
   "metadata": {},
   "source": [
    "## We need to identify the digit in given images"
   ]
  },
  {
   "cell_type": "raw",
   "metadata": {},
   "source": [
    "https://drive.google.com/open?id=1-TavdjU2ohg5T6ZN1KUiWE9BNWu9_vhi"
   ]
  },
  {
   "cell_type": "markdown",
   "metadata": {},
   "source": [
    "### Importing essentials"
   ]
  },
  {
   "cell_type": "code",
   "execution_count": 1,
   "metadata": {},
   "outputs": [],
   "source": [
    "import pandas as pd\n",
    "import os\n",
    "import warnings\n",
    "os.chdir('/home/admin1/PycharmProjects/Machine Learning using libraries/Classification/Datasets & pickled objects/')\n",
    "warnings.filterwarnings(\"ignore\")\n",
    "\n",
    "# importing essentials from tensorflow library for CNN model\n",
    "from tensorflow.keras.models import Sequential\n",
    "from tensorflow.keras.layers import Conv2D, MaxPooling2D, Flatten, Dense, Dropout\n",
    "from tensorflow.keras.callbacks import TensorBoard"
   ]
  },
  {
   "cell_type": "markdown",
   "metadata": {},
   "source": [
    "### Building Convolutional Neural Network model"
   ]
  },
  {
   "cell_type": "code",
   "execution_count": 2,
   "metadata": {},
   "outputs": [],
   "source": [
    "# configuring model as sequential\n",
    "classifier = Sequential()\n",
    "\n",
    "# step 1 convolutional layer: to make build feature maps using feature detectors & removing linearity using relu\n",
    "classifier.add(Conv2D(32, (3, 3), input_shape=(64, 64, 3), activation='relu'))\n",
    "\n",
    "# setp 2 maxpool layer: to build pooled feaure map to accomodate invariance in tilt/flip/orientation still catch feature\n",
    "# reducing size with maxpooling\n",
    "classifier.add(MaxPooling2D(pool_size = (2,2)))\n",
    "\n",
    "# repeating steps 1 & 2 to make features more prominent for classification\n",
    "classifier.add(Conv2D(64, 3, 3, activation='relu'))\n",
    "classifier.add(MaxPooling2D(pool_size = (2,2)))\n",
    "\n",
    "# step 3 flatteing: to get flattened long vector of these values to be passed as inputs to neural network \n",
    "classifier.add(Flatten())\n",
    "\n",
    "classifier.add(Dropout(0.3))\n",
    "\n",
    "# Step 4 Building neural network: learning patterns in given inputs using dense ntwork\n",
    "# input to neural network\n",
    "classifier.add(Dense(32, activation='relu'))\n",
    "\n",
    "# output layer\n",
    "classifier.add(Dense(10, activation='sigmoid'))\n",
    "\n",
    "# setting parameters such as optmizing algo, loss fn, evaluation formula for classifier model  \n",
    "classifier.compile(optimizer='adam', loss='categorical_crossentropy', metrics=['accuracy'])"
   ]
  },
  {
   "cell_type": "markdown",
   "metadata": {},
   "source": [
    "### Creating dataframe for image address & class label"
   ]
  },
  {
   "cell_type": "code",
   "execution_count": 3,
   "metadata": {},
   "outputs": [],
   "source": [
    "dataset = pd.read_csv('Identify-numbers/train.csv')\n",
    "\n",
    "for index in range(len(dataset)):\n",
    "    dataset['filename'][index] = 'Identify-numbers/train/' + dataset['filename'][index]  \n",
    "\n",
    "dataset = dataset.astype(str)"
   ]
  },
  {
   "cell_type": "markdown",
   "metadata": {},
   "source": [
    "#### Splitting dataset into train set & test set"
   ]
  },
  {
   "cell_type": "code",
   "execution_count": 4,
   "metadata": {},
   "outputs": [],
   "source": [
    "train_dataset = dataset[:35000]\n",
    "test_dataset = dataset[35000:]\n",
    "test_dataset = test_dataset.reset_index()"
   ]
  },
  {
   "cell_type": "markdown",
   "metadata": {},
   "source": [
    "### Image Preprocessing"
   ]
  },
  {
   "cell_type": "code",
   "execution_count": 5,
   "metadata": {},
   "outputs": [
    {
     "name": "stdout",
     "output_type": "stream",
     "text": [
      "Found 35000 validated image filenames belonging to 10 classes.\n",
      "Found 14000 validated image filenames belonging to 10 classes.\n"
     ]
    }
   ],
   "source": [
    "from tensorflow.keras.preprocessing.image import ImageDataGenerator\n",
    "\n",
    "# converting image to 3D matrices & scaling as well\n",
    "train_datagen = ImageDataGenerator(rescale=1./255,\n",
    "                                   shear_range=0.2,\n",
    "                                   zoom_range=0.2)\n",
    "\n",
    "# defining necessary scaling for test set images same as train set images\n",
    "test_datagen = ImageDataGenerator(rescale=1./255)\n",
    "\n",
    "# loading images into train set from directory & defining iamge pixel-size \n",
    "training_set = train_datagen.flow_from_dataframe(dataframe=train_dataset,\n",
    "                                                x_col='filename',\n",
    "                                                target_size=(64, 64),\n",
    "                                                batch_size=32,\n",
    "                                                class_mode='categorical',\n",
    "                                                y_col='label')\n",
    "\n",
    "# loading images into train set from directory & defining iamge pixel-size \n",
    "test_set = test_datagen.flow_from_dataframe(dataframe=test_dataset,\n",
    "                                                x_col='filename',\n",
    "                                                target_size=(64, 64),\n",
    "                                                batch_size=1,\n",
    "                                                class_mode='categorical',\n",
    "                                                y_col='label')"
   ]
  },
  {
   "cell_type": "markdown",
   "metadata": {},
   "source": [
    "#### Creating tensorboard object for visualisation"
   ]
  },
  {
   "cell_type": "code",
   "execution_count": 6,
   "metadata": {},
   "outputs": [],
   "source": [
    "import time\n",
    "name = f'classify-numbers-cnn {time.time()}'\n",
    "tensorboard = TensorBoard(log_dir=f'logs/{name}')"
   ]
  },
  {
   "cell_type": "markdown",
   "metadata": {},
   "source": [
    "### Fitting model"
   ]
  },
  {
   "cell_type": "code",
   "execution_count": 7,
   "metadata": {},
   "outputs": [
    {
     "name": "stdout",
     "output_type": "stream",
     "text": [
      "WARNING:tensorflow:sample_weight modes were coerced from\n",
      "  ...\n",
      "    to  \n",
      "  ['...']\n",
      "WARNING:tensorflow:sample_weight modes were coerced from\n",
      "  ...\n",
      "    to  \n",
      "  ['...']\n",
      "Train for 1094 steps, validate for 14000 steps\n",
      "Epoch 1/10\n",
      "1094/1094 [==============================] - 59s 54ms/step - loss: 0.3827 - accuracy: 0.8777 - val_loss: 0.1427 - val_accuracy: 0.9565\n",
      "Epoch 2/10\n",
      "1094/1094 [==============================] - 58s 53ms/step - loss: 0.1557 - accuracy: 0.9527 - val_loss: 0.0933 - val_accuracy: 0.9719\n",
      "Epoch 3/10\n",
      "1094/1094 [==============================] - 58s 53ms/step - loss: 0.1238 - accuracy: 0.9619 - val_loss: 0.0803 - val_accuracy: 0.9750\n",
      "Epoch 4/10\n",
      "1094/1094 [==============================] - 59s 54ms/step - loss: 0.1091 - accuracy: 0.9661 - val_loss: 0.0828 - val_accuracy: 0.9736\n",
      "Epoch 5/10\n",
      "1094/1094 [==============================] - 56s 51ms/step - loss: 0.1011 - accuracy: 0.9679 - val_loss: 0.0727 - val_accuracy: 0.9788\n",
      "Epoch 6/10\n",
      "1094/1094 [==============================] - 55s 50ms/step - loss: 0.0860 - accuracy: 0.9726 - val_loss: 0.0683 - val_accuracy: 0.9792\n",
      "Epoch 7/10\n",
      "1094/1094 [==============================] - 56s 51ms/step - loss: 0.0845 - accuracy: 0.9737 - val_loss: 0.0755 - val_accuracy: 0.9772\n",
      "Epoch 8/10\n",
      "1094/1094 [==============================] - 57s 53ms/step - loss: 0.0764 - accuracy: 0.9749 - val_loss: 0.0578 - val_accuracy: 0.9827\n",
      "Epoch 9/10\n",
      "1094/1094 [==============================] - 56s 52ms/step - loss: 0.0738 - accuracy: 0.9764 - val_loss: 0.0655 - val_accuracy: 0.9799\n",
      "Epoch 10/10\n",
      "1094/1094 [==============================] - 59s 54ms/step - loss: 0.0670 - accuracy: 0.9783 - val_loss: 0.0614 - val_accuracy: 0.9834\n"
     ]
    }
   ],
   "source": [
    "epochs = 10\n",
    "# fitting ann model to train set\n",
    "history = classifier.fit(training_set, epochs=epochs, validation_data=test_set, callbacks=[tensorboard])"
   ]
  },
  {
   "cell_type": "markdown",
   "metadata": {},
   "source": [
    "### Plotting evaluation on train set & test set"
   ]
  },
  {
   "cell_type": "code",
   "execution_count": 9,
   "metadata": {},
   "outputs": [
    {
     "data": {
      "image/png": "[encoded data removed]",
      "text/plain": [
       "<Figure size 432x288 with 1 Axes>"
      ]
     },
     "metadata": {
      "needs_background": "light"
     },
     "output_type": "display_data"
    }
   ],
   "source": [
    "import matplotlib.pyplot as plt\n",
    "\n",
    "acc = history.history['accuracy']\n",
    "val_acc = history.history['val_accuracy']\n",
    "\n",
    "loss=history.history['loss']\n",
    "val_loss=history.history['val_loss']\n",
    "\n",
    "epochs_range = range(epochs)\n",
    "\n",
    "plt.plot(epochs_range, acc, label='Training Accuracy')\n",
    "plt.plot(epochs_range, val_acc, label='Test Accuracy')\n",
    "plt.legend(loc='lower right')\n",
    "plt.title('Training and Test Accuracy')\n",
    "plt.show()"
   ]
  },
  {
   "cell_type": "code",
   "execution_count": 10,
   "metadata": {},
   "outputs": [
    {
     "data": {
      "image/png": "[encoded data removed]",
      "text/plain": [
       "<Figure size 432x288 with 1 Axes>"
      ]
     },
     "metadata": {
      "needs_background": "light"
     },
     "output_type": "display_data"
    }
   ],
   "source": [
    "plt.plot(epochs_range, loss, label='Training Loss')\n",
    "plt.plot(epochs_range, val_loss, label='Test Loss')\n",
    "plt.legend(loc='upper right')\n",
    "plt.title('Training and Test Loss')\n",
    "plt.show()"
   ]
  },
  {
   "cell_type": "markdown",
   "metadata": {},
   "source": [
    "### Manually checking predictions of images"
   ]
  },
  {
   "cell_type": "code",
   "execution_count": 11,
   "metadata": {},
   "outputs": [],
   "source": [
    "from tensorflow.keras.preprocessing import image\n",
    "import numpy as np\n",
    "import matplotlib.pyplot as plt \n",
    "\n",
    "def prediction(index):\n",
    "    img_path = test_dataset['filename'][index]\n",
    "    img = image.load_img(img_path, target_size=(64,64,1))\n",
    "    plt.imshow(img)\n",
    "    img = image.img_to_array(img)\n",
    "    img = img/255\n",
    "    img = np.expand_dims(img, axis=0)\n",
    "    print(f\"Actual digit in pic: {test_dataset['label'][index]}\")\n",
    "    print(f'Predicted value: {classifier.predict_classes(img)[0]}')"
   ]
  },
  {
   "cell_type": "code",
   "execution_count": 14,
   "metadata": {},
   "outputs": [
    {
     "name": "stdout",
     "output_type": "stream",
     "text": [
      "Actual digit in pic: 7\n",
      "Predicted value: 7\n"
     ]
    },
    {
     "data": {
      "image/png": "[encoded data removed]",
      "text/plain": [
       "<Figure size 432x288 with 1 Axes>"
      ]
     },
     "metadata": {
      "needs_background": "light"
     },
     "output_type": "display_data"
    }
   ],
   "source": [
    "prediction(480)"
   ]
  }
 ],
 "metadata": {
  "kernelspec": {
   "display_name": "Python 3",
   "language": "python",
   "name": "python3"
  },
  "language_info": {
   "codemirror_mode": {
    "name": "ipython",
    "version": 3
   },
   "file_extension": ".py",
   "mimetype": "text/x-python",
   "name": "python",
   "nbconvert_exporter": "python",
   "pygments_lexer": "ipython3",
   "version": "3.6.9"
  }
 },
 "nbformat": 4,
 "nbformat_minor": 2
}
