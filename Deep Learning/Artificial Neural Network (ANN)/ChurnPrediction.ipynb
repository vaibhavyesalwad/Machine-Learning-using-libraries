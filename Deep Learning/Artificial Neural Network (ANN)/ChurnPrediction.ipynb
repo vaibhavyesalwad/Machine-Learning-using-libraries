{
 "cells": [
  {
   "cell_type": "markdown",
   "metadata": {},
   "source": [
    "## For a given dataset predict whether customer will exit (Output variable “Exited”) the bank or not using artificial neural network\n"
   ]
  },
  {
   "cell_type": "raw",
   "metadata": {},
   "source": [
    "https://drive.google.com/open?id=1aYpqp7vGd1vy76fhP-2IQJywn0BLt3eM"
   ]
  },
  {
   "cell_type": "markdown",
   "metadata": {},
   "source": [
    "### Data Preprocessing"
   ]
  },
  {
   "cell_type": "code",
   "execution_count": 1,
   "metadata": {},
   "outputs": [
    {
     "data": {
      "text/html": [
       "<div>\n",
       "<style scoped>\n",
       "    .dataframe tbody tr th:only-of-type {\n",
       "        vertical-align: middle;\n",
       "    }\n",
       "\n",
       "    .dataframe tbody tr th {\n",
       "        vertical-align: top;\n",
       "    }\n",
       "\n",
       "    .dataframe thead th {\n",
       "        text-align: right;\n",
       "    }\n",
       "</style>\n",
       "<table border=\"1\" class=\"dataframe\">\n",
       "  <thead>\n",
       "    <tr style=\"text-align: right;\">\n",
       "      <th></th>\n",
       "      <th>RowNumber</th>\n",
       "      <th>CustomerId</th>\n",
       "      <th>Surname</th>\n",
       "      <th>CreditScore</th>\n",
       "      <th>Geography</th>\n",
       "      <th>Gender</th>\n",
       "      <th>Age</th>\n",
       "      <th>Tenure</th>\n",
       "      <th>Balance</th>\n",
       "      <th>NumOfProducts</th>\n",
       "      <th>HasCrCard</th>\n",
       "      <th>IsActiveMember</th>\n",
       "      <th>EstimatedSalary</th>\n",
       "      <th>Exited</th>\n",
       "    </tr>\n",
       "  </thead>\n",
       "  <tbody>\n",
       "    <tr>\n",
       "      <th>0</th>\n",
       "      <td>1</td>\n",
       "      <td>15634602</td>\n",
       "      <td>Hargrave</td>\n",
       "      <td>619</td>\n",
       "      <td>France</td>\n",
       "      <td>Female</td>\n",
       "      <td>42</td>\n",
       "      <td>2</td>\n",
       "      <td>0.00</td>\n",
       "      <td>1</td>\n",
       "      <td>1</td>\n",
       "      <td>1</td>\n",
       "      <td>101348.88</td>\n",
       "      <td>1</td>\n",
       "    </tr>\n",
       "    <tr>\n",
       "      <th>1</th>\n",
       "      <td>2</td>\n",
       "      <td>15647311</td>\n",
       "      <td>Hill</td>\n",
       "      <td>608</td>\n",
       "      <td>Spain</td>\n",
       "      <td>Female</td>\n",
       "      <td>41</td>\n",
       "      <td>1</td>\n",
       "      <td>83807.86</td>\n",
       "      <td>1</td>\n",
       "      <td>0</td>\n",
       "      <td>1</td>\n",
       "      <td>112542.58</td>\n",
       "      <td>0</td>\n",
       "    </tr>\n",
       "    <tr>\n",
       "      <th>2</th>\n",
       "      <td>3</td>\n",
       "      <td>15619304</td>\n",
       "      <td>Onio</td>\n",
       "      <td>502</td>\n",
       "      <td>France</td>\n",
       "      <td>Female</td>\n",
       "      <td>42</td>\n",
       "      <td>8</td>\n",
       "      <td>159660.80</td>\n",
       "      <td>3</td>\n",
       "      <td>1</td>\n",
       "      <td>0</td>\n",
       "      <td>113931.57</td>\n",
       "      <td>1</td>\n",
       "    </tr>\n",
       "    <tr>\n",
       "      <th>3</th>\n",
       "      <td>4</td>\n",
       "      <td>15701354</td>\n",
       "      <td>Boni</td>\n",
       "      <td>699</td>\n",
       "      <td>France</td>\n",
       "      <td>Female</td>\n",
       "      <td>39</td>\n",
       "      <td>1</td>\n",
       "      <td>0.00</td>\n",
       "      <td>2</td>\n",
       "      <td>0</td>\n",
       "      <td>0</td>\n",
       "      <td>93826.63</td>\n",
       "      <td>0</td>\n",
       "    </tr>\n",
       "    <tr>\n",
       "      <th>4</th>\n",
       "      <td>5</td>\n",
       "      <td>15737888</td>\n",
       "      <td>Mitchell</td>\n",
       "      <td>850</td>\n",
       "      <td>Spain</td>\n",
       "      <td>Female</td>\n",
       "      <td>43</td>\n",
       "      <td>2</td>\n",
       "      <td>125510.82</td>\n",
       "      <td>1</td>\n",
       "      <td>1</td>\n",
       "      <td>1</td>\n",
       "      <td>79084.10</td>\n",
       "      <td>0</td>\n",
       "    </tr>\n",
       "  </tbody>\n",
       "</table>\n",
       "</div>"
      ],
      "text/plain": [
       "   RowNumber  CustomerId   Surname  CreditScore Geography  Gender  Age  \\\n",
       "0          1    15634602  Hargrave          619    France  Female   42   \n",
       "1          2    15647311      Hill          608     Spain  Female   41   \n",
       "2          3    15619304      Onio          502    France  Female   42   \n",
       "3          4    15701354      Boni          699    France  Female   39   \n",
       "4          5    15737888  Mitchell          850     Spain  Female   43   \n",
       "\n",
       "   Tenure    Balance  NumOfProducts  HasCrCard  IsActiveMember  \\\n",
       "0       2       0.00              1          1               1   \n",
       "1       1   83807.86              1          0               1   \n",
       "2       8  159660.80              3          1               0   \n",
       "3       1       0.00              2          0               0   \n",
       "4       2  125510.82              1          1               1   \n",
       "\n",
       "   EstimatedSalary  Exited  \n",
       "0        101348.88       1  \n",
       "1        112542.58       0  \n",
       "2        113931.57       1  \n",
       "3         93826.63       0  \n",
       "4         79084.10       0  "
      ]
     },
     "execution_count": 1,
     "metadata": {},
     "output_type": "execute_result"
    }
   ],
   "source": [
    "import pandas as pd\n",
    "import numpy as np\n",
    "import matplotlib.pyplot as plt\n",
    "import warnings\n",
    "import seaborn as sns\n",
    "import os\n",
    "os.chdir('/home/admin1/PycharmProjects/Machine Learning using libraries/Classification/Datasets & pickled objects/')\n",
    "import sys\n",
    "sys.path.append('/home/admin1/PycharmProjects/Machine Learning using libraries/')\n",
    "from ipynb.fs.full.ml_library import *\n",
    "warnings.filterwarnings(\"ignore\")\n",
    "\n",
    "bank_data = pd.read_csv('Churn_Modelling.csv')\n",
    "bank_data.head()"
   ]
  },
  {
   "cell_type": "code",
   "execution_count": 2,
   "metadata": {},
   "outputs": [
    {
     "data": {
      "text/plain": [
       "RowNumber          0\n",
       "CustomerId         0\n",
       "Surname            0\n",
       "CreditScore        0\n",
       "Geography          0\n",
       "Gender             0\n",
       "Age                0\n",
       "Tenure             0\n",
       "Balance            0\n",
       "NumOfProducts      0\n",
       "HasCrCard          0\n",
       "IsActiveMember     0\n",
       "EstimatedSalary    0\n",
       "Exited             0\n",
       "dtype: int64"
      ]
     },
     "execution_count": 2,
     "metadata": {},
     "output_type": "execute_result"
    }
   ],
   "source": [
    "bank_data.isna().sum()            # checking for null values"
   ]
  },
  {
   "cell_type": "code",
   "execution_count": 3,
   "metadata": {},
   "outputs": [
    {
     "name": "stdout",
     "output_type": "stream",
     "text": [
      "<class 'pandas.core.frame.DataFrame'>\n",
      "RangeIndex: 10000 entries, 0 to 9999\n",
      "Data columns (total 14 columns):\n",
      "RowNumber          10000 non-null int64\n",
      "CustomerId         10000 non-null int64\n",
      "Surname            10000 non-null object\n",
      "CreditScore        10000 non-null int64\n",
      "Geography          10000 non-null object\n",
      "Gender             10000 non-null object\n",
      "Age                10000 non-null int64\n",
      "Tenure             10000 non-null int64\n",
      "Balance            10000 non-null float64\n",
      "NumOfProducts      10000 non-null int64\n",
      "HasCrCard          10000 non-null int64\n",
      "IsActiveMember     10000 non-null int64\n",
      "EstimatedSalary    10000 non-null float64\n",
      "Exited             10000 non-null int64\n",
      "dtypes: float64(2), int64(9), object(3)\n",
      "memory usage: 1.1+ MB\n"
     ]
    }
   ],
   "source": [
    "bank_data.info()"
   ]
  },
  {
   "cell_type": "code",
   "execution_count": 4,
   "metadata": {},
   "outputs": [],
   "source": [
    "bank_data = bank_data.drop(['RowNumber', 'CustomerId', 'Surname'], axis= 1)"
   ]
  },
  {
   "cell_type": "code",
   "execution_count": 5,
   "metadata": {},
   "outputs": [
    {
     "data": {
      "text/html": [
       "<div>\n",
       "<style scoped>\n",
       "    .dataframe tbody tr th:only-of-type {\n",
       "        vertical-align: middle;\n",
       "    }\n",
       "\n",
       "    .dataframe tbody tr th {\n",
       "        vertical-align: top;\n",
       "    }\n",
       "\n",
       "    .dataframe thead th {\n",
       "        text-align: right;\n",
       "    }\n",
       "</style>\n",
       "<table border=\"1\" class=\"dataframe\">\n",
       "  <thead>\n",
       "    <tr style=\"text-align: right;\">\n",
       "      <th></th>\n",
       "      <th>CreditScore</th>\n",
       "      <th>Age</th>\n",
       "      <th>Tenure</th>\n",
       "      <th>Balance</th>\n",
       "      <th>NumOfProducts</th>\n",
       "      <th>HasCrCard</th>\n",
       "      <th>IsActiveMember</th>\n",
       "      <th>EstimatedSalary</th>\n",
       "    </tr>\n",
       "    <tr>\n",
       "      <th>Exited</th>\n",
       "      <th></th>\n",
       "      <th></th>\n",
       "      <th></th>\n",
       "      <th></th>\n",
       "      <th></th>\n",
       "      <th></th>\n",
       "      <th></th>\n",
       "      <th></th>\n",
       "    </tr>\n",
       "  </thead>\n",
       "  <tbody>\n",
       "    <tr>\n",
       "      <th>0</th>\n",
       "      <td>651.853196</td>\n",
       "      <td>37.408389</td>\n",
       "      <td>5.033279</td>\n",
       "      <td>72745.296779</td>\n",
       "      <td>1.544267</td>\n",
       "      <td>0.707146</td>\n",
       "      <td>0.554565</td>\n",
       "      <td>99738.391772</td>\n",
       "    </tr>\n",
       "    <tr>\n",
       "      <th>1</th>\n",
       "      <td>645.351497</td>\n",
       "      <td>44.837997</td>\n",
       "      <td>4.932744</td>\n",
       "      <td>91108.539337</td>\n",
       "      <td>1.475209</td>\n",
       "      <td>0.699067</td>\n",
       "      <td>0.360825</td>\n",
       "      <td>101465.677531</td>\n",
       "    </tr>\n",
       "  </tbody>\n",
       "</table>\n",
       "</div>"
      ],
      "text/plain": [
       "        CreditScore        Age    Tenure       Balance  NumOfProducts  \\\n",
       "Exited                                                                  \n",
       "0        651.853196  37.408389  5.033279  72745.296779       1.544267   \n",
       "1        645.351497  44.837997  4.932744  91108.539337       1.475209   \n",
       "\n",
       "        HasCrCard  IsActiveMember  EstimatedSalary  \n",
       "Exited                                              \n",
       "0        0.707146        0.554565     99738.391772  \n",
       "1        0.699067        0.360825    101465.677531  "
      ]
     },
     "execution_count": 5,
     "metadata": {},
     "output_type": "execute_result"
    }
   ],
   "source": [
    "bank_data.groupby('Exited').mean()"
   ]
  },
  {
   "cell_type": "code",
   "execution_count": 6,
   "metadata": {},
   "outputs": [
    {
     "data": {
      "text/html": [
       "<div>\n",
       "<style scoped>\n",
       "    .dataframe tbody tr th:only-of-type {\n",
       "        vertical-align: middle;\n",
       "    }\n",
       "\n",
       "    .dataframe tbody tr th {\n",
       "        vertical-align: top;\n",
       "    }\n",
       "\n",
       "    .dataframe thead th {\n",
       "        text-align: right;\n",
       "    }\n",
       "</style>\n",
       "<table border=\"1\" class=\"dataframe\">\n",
       "  <thead>\n",
       "    <tr style=\"text-align: right;\">\n",
       "      <th></th>\n",
       "      <th>CreditScore</th>\n",
       "      <th>Age</th>\n",
       "      <th>Tenure</th>\n",
       "      <th>Balance</th>\n",
       "      <th>NumOfProducts</th>\n",
       "      <th>HasCrCard</th>\n",
       "      <th>IsActiveMember</th>\n",
       "      <th>EstimatedSalary</th>\n",
       "      <th>Exited</th>\n",
       "    </tr>\n",
       "    <tr>\n",
       "      <th>Geography</th>\n",
       "      <th></th>\n",
       "      <th></th>\n",
       "      <th></th>\n",
       "      <th></th>\n",
       "      <th></th>\n",
       "      <th></th>\n",
       "      <th></th>\n",
       "      <th></th>\n",
       "      <th></th>\n",
       "    </tr>\n",
       "  </thead>\n",
       "  <tbody>\n",
       "    <tr>\n",
       "      <th>France</th>\n",
       "      <td>649.668329</td>\n",
       "      <td>38.511767</td>\n",
       "      <td>5.004587</td>\n",
       "      <td>62092.636516</td>\n",
       "      <td>1.530913</td>\n",
       "      <td>0.706621</td>\n",
       "      <td>0.516753</td>\n",
       "      <td>99899.180814</td>\n",
       "      <td>0.161548</td>\n",
       "    </tr>\n",
       "    <tr>\n",
       "      <th>Germany</th>\n",
       "      <td>651.453567</td>\n",
       "      <td>39.771622</td>\n",
       "      <td>5.009964</td>\n",
       "      <td>119730.116134</td>\n",
       "      <td>1.519729</td>\n",
       "      <td>0.713830</td>\n",
       "      <td>0.497409</td>\n",
       "      <td>101113.435102</td>\n",
       "      <td>0.324432</td>\n",
       "    </tr>\n",
       "    <tr>\n",
       "      <th>Spain</th>\n",
       "      <td>651.333872</td>\n",
       "      <td>38.890997</td>\n",
       "      <td>5.032297</td>\n",
       "      <td>61818.147763</td>\n",
       "      <td>1.539362</td>\n",
       "      <td>0.694792</td>\n",
       "      <td>0.529673</td>\n",
       "      <td>99440.572281</td>\n",
       "      <td>0.166734</td>\n",
       "    </tr>\n",
       "  </tbody>\n",
       "</table>\n",
       "</div>"
      ],
      "text/plain": [
       "           CreditScore        Age    Tenure        Balance  NumOfProducts  \\\n",
       "Geography                                                                   \n",
       "France      649.668329  38.511767  5.004587   62092.636516       1.530913   \n",
       "Germany     651.453567  39.771622  5.009964  119730.116134       1.519729   \n",
       "Spain       651.333872  38.890997  5.032297   61818.147763       1.539362   \n",
       "\n",
       "           HasCrCard  IsActiveMember  EstimatedSalary    Exited  \n",
       "Geography                                                        \n",
       "France      0.706621        0.516753     99899.180814  0.161548  \n",
       "Germany     0.713830        0.497409    101113.435102  0.324432  \n",
       "Spain       0.694792        0.529673     99440.572281  0.166734  "
      ]
     },
     "execution_count": 6,
     "metadata": {},
     "output_type": "execute_result"
    }
   ],
   "source": [
    "bank_data.groupby('Geography').mean()"
   ]
  },
  {
   "cell_type": "code",
   "execution_count": 7,
   "metadata": {},
   "outputs": [
    {
     "data": {
      "text/html": [
       "<div>\n",
       "<style scoped>\n",
       "    .dataframe tbody tr th:only-of-type {\n",
       "        vertical-align: middle;\n",
       "    }\n",
       "\n",
       "    .dataframe tbody tr th {\n",
       "        vertical-align: top;\n",
       "    }\n",
       "\n",
       "    .dataframe thead th {\n",
       "        text-align: right;\n",
       "    }\n",
       "</style>\n",
       "<table border=\"1\" class=\"dataframe\">\n",
       "  <thead>\n",
       "    <tr style=\"text-align: right;\">\n",
       "      <th></th>\n",
       "      <th>CreditScore</th>\n",
       "      <th>Age</th>\n",
       "      <th>Tenure</th>\n",
       "      <th>Balance</th>\n",
       "      <th>NumOfProducts</th>\n",
       "      <th>HasCrCard</th>\n",
       "      <th>IsActiveMember</th>\n",
       "      <th>EstimatedSalary</th>\n",
       "      <th>Exited</th>\n",
       "    </tr>\n",
       "    <tr>\n",
       "      <th>Gender</th>\n",
       "      <th></th>\n",
       "      <th></th>\n",
       "      <th></th>\n",
       "      <th></th>\n",
       "      <th></th>\n",
       "      <th></th>\n",
       "      <th></th>\n",
       "      <th></th>\n",
       "      <th></th>\n",
       "    </tr>\n",
       "  </thead>\n",
       "  <tbody>\n",
       "    <tr>\n",
       "      <th>Female</th>\n",
       "      <td>650.831389</td>\n",
       "      <td>39.238389</td>\n",
       "      <td>4.966102</td>\n",
       "      <td>75659.369139</td>\n",
       "      <td>1.544134</td>\n",
       "      <td>0.702619</td>\n",
       "      <td>0.502751</td>\n",
       "      <td>100601.541382</td>\n",
       "      <td>0.250715</td>\n",
       "    </tr>\n",
       "    <tr>\n",
       "      <th>Male</th>\n",
       "      <td>650.276892</td>\n",
       "      <td>38.658237</td>\n",
       "      <td>5.051677</td>\n",
       "      <td>77173.974506</td>\n",
       "      <td>1.518600</td>\n",
       "      <td>0.707898</td>\n",
       "      <td>0.525380</td>\n",
       "      <td>99664.576931</td>\n",
       "      <td>0.164559</td>\n",
       "    </tr>\n",
       "  </tbody>\n",
       "</table>\n",
       "</div>"
      ],
      "text/plain": [
       "        CreditScore        Age    Tenure       Balance  NumOfProducts  \\\n",
       "Gender                                                                  \n",
       "Female   650.831389  39.238389  4.966102  75659.369139       1.544134   \n",
       "Male     650.276892  38.658237  5.051677  77173.974506       1.518600   \n",
       "\n",
       "        HasCrCard  IsActiveMember  EstimatedSalary    Exited  \n",
       "Gender                                                        \n",
       "Female   0.702619        0.502751    100601.541382  0.250715  \n",
       "Male     0.707898        0.525380     99664.576931  0.164559  "
      ]
     },
     "execution_count": 7,
     "metadata": {},
     "output_type": "execute_result"
    }
   ],
   "source": [
    "bank_data.groupby('Gender').mean()"
   ]
  },
  {
   "cell_type": "code",
   "execution_count": 8,
   "metadata": {},
   "outputs": [
    {
     "data": {
      "image/png": "[encoded data removed]",
      "text/plain": [
       "<Figure size 1080x720 with 2 Axes>"
      ]
     },
     "metadata": {
      "needs_background": "light"
     },
     "output_type": "display_data"
    }
   ],
   "source": [
    "# checking if any of pairs of features that are well correlated to each other so one of it can be removed\n",
    "plt.figure(figsize=(15,10))\n",
    "sns.heatmap(bank_data.corr(), annot=True, linewidths=2)\n",
    "plt.show()"
   ]
  },
  {
   "cell_type": "code",
   "execution_count": 9,
   "metadata": {},
   "outputs": [
    {
     "data": {
      "text/html": [
       "<div>\n",
       "<style scoped>\n",
       "    .dataframe tbody tr th:only-of-type {\n",
       "        vertical-align: middle;\n",
       "    }\n",
       "\n",
       "    .dataframe tbody tr th {\n",
       "        vertical-align: top;\n",
       "    }\n",
       "\n",
       "    .dataframe thead th {\n",
       "        text-align: right;\n",
       "    }\n",
       "</style>\n",
       "<table border=\"1\" class=\"dataframe\">\n",
       "  <thead>\n",
       "    <tr style=\"text-align: right;\">\n",
       "      <th></th>\n",
       "      <th>CreditScore</th>\n",
       "      <th>Geography</th>\n",
       "      <th>Gender</th>\n",
       "      <th>Age</th>\n",
       "      <th>Tenure</th>\n",
       "      <th>Balance</th>\n",
       "      <th>NumOfProducts</th>\n",
       "      <th>HasCrCard</th>\n",
       "      <th>IsActiveMember</th>\n",
       "      <th>EstimatedSalary</th>\n",
       "      <th>Exited</th>\n",
       "    </tr>\n",
       "  </thead>\n",
       "  <tbody>\n",
       "    <tr>\n",
       "      <th>0</th>\n",
       "      <td>619</td>\n",
       "      <td>France</td>\n",
       "      <td>Female</td>\n",
       "      <td>42</td>\n",
       "      <td>2</td>\n",
       "      <td>0.00</td>\n",
       "      <td>1</td>\n",
       "      <td>1</td>\n",
       "      <td>1</td>\n",
       "      <td>101348.88</td>\n",
       "      <td>1</td>\n",
       "    </tr>\n",
       "    <tr>\n",
       "      <th>1</th>\n",
       "      <td>608</td>\n",
       "      <td>Spain</td>\n",
       "      <td>Female</td>\n",
       "      <td>41</td>\n",
       "      <td>1</td>\n",
       "      <td>83807.86</td>\n",
       "      <td>1</td>\n",
       "      <td>0</td>\n",
       "      <td>1</td>\n",
       "      <td>112542.58</td>\n",
       "      <td>0</td>\n",
       "    </tr>\n",
       "    <tr>\n",
       "      <th>2</th>\n",
       "      <td>502</td>\n",
       "      <td>France</td>\n",
       "      <td>Female</td>\n",
       "      <td>42</td>\n",
       "      <td>8</td>\n",
       "      <td>159660.80</td>\n",
       "      <td>3</td>\n",
       "      <td>1</td>\n",
       "      <td>0</td>\n",
       "      <td>113931.57</td>\n",
       "      <td>1</td>\n",
       "    </tr>\n",
       "    <tr>\n",
       "      <th>3</th>\n",
       "      <td>699</td>\n",
       "      <td>France</td>\n",
       "      <td>Female</td>\n",
       "      <td>39</td>\n",
       "      <td>1</td>\n",
       "      <td>0.00</td>\n",
       "      <td>2</td>\n",
       "      <td>0</td>\n",
       "      <td>0</td>\n",
       "      <td>93826.63</td>\n",
       "      <td>0</td>\n",
       "    </tr>\n",
       "    <tr>\n",
       "      <th>4</th>\n",
       "      <td>850</td>\n",
       "      <td>Spain</td>\n",
       "      <td>Female</td>\n",
       "      <td>43</td>\n",
       "      <td>2</td>\n",
       "      <td>125510.82</td>\n",
       "      <td>1</td>\n",
       "      <td>1</td>\n",
       "      <td>1</td>\n",
       "      <td>79084.10</td>\n",
       "      <td>0</td>\n",
       "    </tr>\n",
       "  </tbody>\n",
       "</table>\n",
       "</div>"
      ],
      "text/plain": [
       "   CreditScore Geography  Gender  Age  Tenure    Balance  NumOfProducts  \\\n",
       "0          619    France  Female   42       2       0.00              1   \n",
       "1          608     Spain  Female   41       1   83807.86              1   \n",
       "2          502    France  Female   42       8  159660.80              3   \n",
       "3          699    France  Female   39       1       0.00              2   \n",
       "4          850     Spain  Female   43       2  125510.82              1   \n",
       "\n",
       "   HasCrCard  IsActiveMember  EstimatedSalary  Exited  \n",
       "0          1               1        101348.88       1  \n",
       "1          0               1        112542.58       0  \n",
       "2          1               0        113931.57       1  \n",
       "3          0               0         93826.63       0  \n",
       "4          1               1         79084.10       0  "
      ]
     },
     "execution_count": 9,
     "metadata": {},
     "output_type": "execute_result"
    }
   ],
   "source": [
    "bank_data.head()"
   ]
  },
  {
   "cell_type": "code",
   "execution_count": 10,
   "metadata": {},
   "outputs": [],
   "source": [
    "data_columns = list(bank_data.columns)\n",
    "oh_enc_column = 'Geography'\n",
    "label = data_columns[-1]\n",
    "features = [col for col in  data_columns if col != oh_enc_column and col != label]"
   ]
  },
  {
   "cell_type": "markdown",
   "metadata": {},
   "source": [
    "#### Separating out feature matrix & label array"
   ]
  },
  {
   "cell_type": "code",
   "execution_count": 11,
   "metadata": {},
   "outputs": [],
   "source": [
    "x_values = bank_data.loc[:,features].values\n",
    "new_x_values = bank_data[oh_enc_column].values\n",
    "y_values = bank_data.loc[:,label].values"
   ]
  },
  {
   "cell_type": "markdown",
   "metadata": {},
   "source": [
    "#### Handling categorical data"
   ]
  },
  {
   "cell_type": "code",
   "execution_count": 12,
   "metadata": {},
   "outputs": [],
   "source": [
    "from sklearn.preprocessing import LabelEncoder, OneHotEncoder\n",
    "oh_enc = OneHotEncoder()\n",
    "new_x_values = oh_enc.fit_transform(new_x_values.reshape(-1,1)).todense()\n",
    "\n",
    "lbl_enc_x = LabelEncoder()\n",
    "x_values[:,1] = lbl_enc_x.fit_transform(x_values[:,1])\n",
    "\n",
    "x_values = np.append(x_values, new_x_values, 1)"
   ]
  },
  {
   "cell_type": "markdown",
   "metadata": {},
   "source": [
    "#### Standard scaling feature columns"
   ]
  },
  {
   "cell_type": "code",
   "execution_count": 13,
   "metadata": {},
   "outputs": [],
   "source": [
    "from sklearn.preprocessing import StandardScaler\n",
    "sc_x = StandardScaler()\n",
    "x_values = sc_x.fit_transform(x_values)"
   ]
  },
  {
   "cell_type": "code",
   "execution_count": 14,
   "metadata": {},
   "outputs": [
    {
     "data": {
      "text/plain": [
       "(10000, 12)"
      ]
     },
     "execution_count": 14,
     "metadata": {},
     "output_type": "execute_result"
    }
   ],
   "source": [
    "x_values.shape"
   ]
  },
  {
   "cell_type": "markdown",
   "metadata": {},
   "source": [
    "#### Splitting of data as train & test set"
   ]
  },
  {
   "cell_type": "code",
   "execution_count": 15,
   "metadata": {},
   "outputs": [],
   "source": [
    "from sklearn.model_selection import train_test_split\n",
    "train_x_values, test_x_values, train_y_values, test_y_values = train_test_split(x_values, y_values, train_size=0.7, random_state=0)"
   ]
  },
  {
   "cell_type": "markdown",
   "metadata": {},
   "source": [
    "### Bulding Artificial Neural Network Model"
   ]
  },
  {
   "cell_type": "code",
   "execution_count": 16,
   "metadata": {},
   "outputs": [
    {
     "name": "stdout",
     "output_type": "stream",
     "text": [
      "WARNING:tensorflow:From /usr/local/lib/python3.6/dist-packages/tensorflow/python/ops/init_ops.py:1251: calling VarianceScaling.__init__ (from tensorflow.python.ops.init_ops) with dtype is deprecated and will be removed in a future version.\n",
      "Instructions for updating:\n",
      "Call initializer instance with the dtype argument instead of passing it to the constructor\n",
      "WARNING:tensorflow:From /usr/local/lib/python3.6/dist-packages/tensorflow/python/ops/nn_impl.py:180: add_dispatch_support.<locals>.wrapper (from tensorflow.python.ops.array_ops) is deprecated and will be removed in a future version.\n",
      "Instructions for updating:\n",
      "Use tf.where in 2.0, which has the same broadcast rule as np.where\n"
     ]
    }
   ],
   "source": [
    "# for confuguring ann model Sequential is used\n",
    "from tensorflow.keras import Sequential\n",
    "\n",
    "# setting parameters for each layer\n",
    "from tensorflow.keras.layers import Dense \n",
    "\n",
    "# creating object for building classifier model\n",
    "classifier = Sequential()\n",
    "\n",
    "# input layer\n",
    "classifier.add(Dense(6, input_dim=12, activation='relu'))\n",
    "\n",
    "# hidden layer 1\n",
    "classifier.add(Dense(6, activation='relu'))\n",
    "\n",
    "# hidden layer 2\n",
    "classifier.add(Dense(6, activation='relu'))\n",
    "\n",
    "# output layer\n",
    "classifier.add(Dense(1, activation='sigmoid'))\n",
    "\n",
    "# setting parameters such as optmizing algo, loss fn, evaluation formula for classifier model  \n",
    "classifier.compile(optimizer='adam', loss='binary_crossentropy', metrics=['accuracy'])"
   ]
  },
  {
   "cell_type": "markdown",
   "metadata": {},
   "source": [
    "### Fitting model"
   ]
  },
  {
   "cell_type": "code",
   "execution_count": 17,
   "metadata": {},
   "outputs": [
    {
     "name": "stdout",
     "output_type": "stream",
     "text": [
      "Epoch 1/100\n",
      "7000/7000 [==============================] - 0s 39us/sample - loss: 0.5237 - acc: 0.7977\n",
      "Epoch 2/100\n",
      "7000/7000 [==============================] - 0s 26us/sample - loss: 0.4779 - acc: 0.7977\n",
      "Epoch 3/100\n",
      "7000/7000 [==============================] - 0s 26us/sample - loss: 0.4557 - acc: 0.7977\n",
      "Epoch 4/100\n",
      "7000/7000 [==============================] - 0s 26us/sample - loss: 0.4420 - acc: 0.7977\n",
      "Epoch 5/100\n",
      "7000/7000 [==============================] - 0s 25us/sample - loss: 0.4335 - acc: 0.7981\n",
      "Epoch 6/100\n",
      "7000/7000 [==============================] - 0s 24us/sample - loss: 0.4275 - acc: 0.8043\n",
      "Epoch 7/100\n",
      "7000/7000 [==============================] - 0s 25us/sample - loss: 0.4246 - acc: 0.8130\n",
      "Epoch 8/100\n",
      "7000/7000 [==============================] - 0s 25us/sample - loss: 0.4212 - acc: 0.8173\n",
      "Epoch 9/100\n",
      "7000/7000 [==============================] - 0s 28us/sample - loss: 0.4186 - acc: 0.8186\n",
      "Epoch 10/100\n",
      "7000/7000 [==============================] - 0s 26us/sample - loss: 0.4155 - acc: 0.8236\n",
      "Epoch 11/100\n",
      "7000/7000 [==============================] - 0s 25us/sample - loss: 0.4124 - acc: 0.8256\n",
      "Epoch 12/100\n",
      "7000/7000 [==============================] - 0s 24us/sample - loss: 0.4088 - acc: 0.8289\n",
      "Epoch 13/100\n",
      "7000/7000 [==============================] - 0s 25us/sample - loss: 0.4050 - acc: 0.8306\n",
      "Epoch 14/100\n",
      "7000/7000 [==============================] - 0s 25us/sample - loss: 0.4015 - acc: 0.8340\n",
      "Epoch 15/100\n",
      "7000/7000 [==============================] - 0s 25us/sample - loss: 0.3963 - acc: 0.8384\n",
      "Epoch 16/100\n",
      "7000/7000 [==============================] - 0s 25us/sample - loss: 0.3893 - acc: 0.8404\n",
      "Epoch 17/100\n",
      "7000/7000 [==============================] - 0s 25us/sample - loss: 0.3797 - acc: 0.8443\n",
      "Epoch 18/100\n",
      "7000/7000 [==============================] - 0s 28us/sample - loss: 0.3684 - acc: 0.8506\n",
      "Epoch 19/100\n",
      "7000/7000 [==============================] - 0s 26us/sample - loss: 0.3602 - acc: 0.8557\n",
      "Epoch 20/100\n",
      "7000/7000 [==============================] - 0s 25us/sample - loss: 0.3540 - acc: 0.8569\n",
      "Epoch 21/100\n",
      "7000/7000 [==============================] - 0s 25us/sample - loss: 0.3510 - acc: 0.8591\n",
      "Epoch 22/100\n",
      "7000/7000 [==============================] - 0s 25us/sample - loss: 0.3481 - acc: 0.8600\n",
      "Epoch 23/100\n",
      "7000/7000 [==============================] - 0s 25us/sample - loss: 0.3464 - acc: 0.8599\n",
      "Epoch 24/100\n",
      "7000/7000 [==============================] - 0s 25us/sample - loss: 0.3446 - acc: 0.8606\n",
      "Epoch 25/100\n",
      "7000/7000 [==============================] - 0s 25us/sample - loss: 0.3441 - acc: 0.8620\n",
      "Epoch 26/100\n",
      "7000/7000 [==============================] - 0s 27us/sample - loss: 0.3434 - acc: 0.8626\n",
      "Epoch 27/100\n",
      "7000/7000 [==============================] - 0s 26us/sample - loss: 0.3422 - acc: 0.8593\n",
      "Epoch 28/100\n",
      "7000/7000 [==============================] - 0s 25us/sample - loss: 0.3415 - acc: 0.8603\n",
      "Epoch 29/100\n",
      "7000/7000 [==============================] - ETA: 0s - loss: 0.3352 - acc: 0.865 - 0s 25us/sample - loss: 0.3411 - acc: 0.8619\n",
      "Epoch 30/100\n",
      "7000/7000 [==============================] - 0s 26us/sample - loss: 0.3400 - acc: 0.8623\n",
      "Epoch 31/100\n",
      "7000/7000 [==============================] - 0s 25us/sample - loss: 0.3397 - acc: 0.8634\n",
      "Epoch 32/100\n",
      "7000/7000 [==============================] - 0s 26us/sample - loss: 0.3389 - acc: 0.8619\n",
      "Epoch 33/100\n",
      "7000/7000 [==============================] - 0s 25us/sample - loss: 0.3387 - acc: 0.8629\n",
      "Epoch 34/100\n",
      "7000/7000 [==============================] - 0s 26us/sample - loss: 0.3385 - acc: 0.8634\n",
      "Epoch 35/100\n",
      "7000/7000 [==============================] - 0s 25us/sample - loss: 0.3382 - acc: 0.8617\n",
      "Epoch 36/100\n",
      "7000/7000 [==============================] - 0s 28us/sample - loss: 0.3379 - acc: 0.8640\n",
      "Epoch 37/100\n",
      "7000/7000 [==============================] - 0s 27us/sample - loss: 0.3374 - acc: 0.8631\n",
      "Epoch 38/100\n",
      "7000/7000 [==============================] - 0s 25us/sample - loss: 0.3373 - acc: 0.8646\n",
      "Epoch 39/100\n",
      "7000/7000 [==============================] - 0s 27us/sample - loss: 0.3370 - acc: 0.8620\n",
      "Epoch 40/100\n",
      "7000/7000 [==============================] - 0s 26us/sample - loss: 0.3377 - acc: 0.8636\n",
      "Epoch 41/100\n",
      "7000/7000 [==============================] - 0s 28us/sample - loss: 0.3368 - acc: 0.8634\n",
      "Epoch 42/100\n",
      "7000/7000 [==============================] - 0s 25us/sample - loss: 0.3365 - acc: 0.8626\n",
      "Epoch 43/100\n",
      "7000/7000 [==============================] - 0s 25us/sample - loss: 0.3369 - acc: 0.8651\n",
      "Epoch 44/100\n",
      "7000/7000 [==============================] - 0s 25us/sample - loss: 0.3361 - acc: 0.8660\n",
      "Epoch 45/100\n",
      "7000/7000 [==============================] - 0s 25us/sample - loss: 0.3366 - acc: 0.8644\n",
      "Epoch 46/100\n",
      "7000/7000 [==============================] - 0s 25us/sample - loss: 0.3362 - acc: 0.8639\n",
      "Epoch 47/100\n",
      "7000/7000 [==============================] - 0s 26us/sample - loss: 0.3359 - acc: 0.8651\n",
      "Epoch 48/100\n",
      "7000/7000 [==============================] - 0s 26us/sample - loss: 0.3356 - acc: 0.8639\n",
      "Epoch 49/100\n",
      "7000/7000 [==============================] - 0s 25us/sample - loss: 0.3357 - acc: 0.8640\n",
      "Epoch 50/100\n",
      "7000/7000 [==============================] - 0s 24us/sample - loss: 0.3352 - acc: 0.8636\n",
      "Epoch 51/100\n",
      "7000/7000 [==============================] - 0s 27us/sample - loss: 0.3350 - acc: 0.8654\n",
      "Epoch 52/100\n",
      "7000/7000 [==============================] - 0s 27us/sample - loss: 0.3345 - acc: 0.8657\n",
      "Epoch 53/100\n",
      "7000/7000 [==============================] - 0s 25us/sample - loss: 0.3350 - acc: 0.8640\n",
      "Epoch 54/100\n",
      "7000/7000 [==============================] - 0s 24us/sample - loss: 0.3347 - acc: 0.8639\n",
      "Epoch 55/100\n",
      "7000/7000 [==============================] - 0s 24us/sample - loss: 0.3348 - acc: 0.8663\n",
      "Epoch 56/100\n",
      "7000/7000 [==============================] - 0s 24us/sample - loss: 0.3345 - acc: 0.8666\n",
      "Epoch 57/100\n",
      "7000/7000 [==============================] - 0s 24us/sample - loss: 0.3344 - acc: 0.8660\n",
      "Epoch 58/100\n",
      "7000/7000 [==============================] - 0s 27us/sample - loss: 0.3344 - acc: 0.8636\n",
      "Epoch 59/100\n",
      "7000/7000 [==============================] - 0s 26us/sample - loss: 0.3347 - acc: 0.8650\n",
      "Epoch 60/100\n",
      "7000/7000 [==============================] - 0s 27us/sample - loss: 0.3339 - acc: 0.8647\n",
      "Epoch 61/100\n",
      "7000/7000 [==============================] - 0s 24us/sample - loss: 0.3339 - acc: 0.8647\n",
      "Epoch 62/100\n",
      "7000/7000 [==============================] - 0s 26us/sample - loss: 0.3339 - acc: 0.8653\n",
      "Epoch 63/100\n",
      "7000/7000 [==============================] - 0s 27us/sample - loss: 0.3335 - acc: 0.8661\n",
      "Epoch 64/100\n",
      "7000/7000 [==============================] - 0s 24us/sample - loss: 0.3335 - acc: 0.8644\n",
      "Epoch 65/100\n",
      "7000/7000 [==============================] - 0s 24us/sample - loss: 0.3334 - acc: 0.8647\n",
      "Epoch 66/100\n",
      "7000/7000 [==============================] - 0s 25us/sample - loss: 0.3332 - acc: 0.8636\n",
      "Epoch 67/100\n",
      "7000/7000 [==============================] - 0s 26us/sample - loss: 0.3335 - acc: 0.8651\n",
      "Epoch 68/100\n",
      "7000/7000 [==============================] - 0s 27us/sample - loss: 0.3331 - acc: 0.8664\n",
      "Epoch 69/100\n",
      "7000/7000 [==============================] - 0s 25us/sample - loss: 0.3332 - acc: 0.8664\n",
      "Epoch 70/100\n",
      "7000/7000 [==============================] - 0s 25us/sample - loss: 0.3335 - acc: 0.8659\n",
      "Epoch 71/100\n",
      "7000/7000 [==============================] - 0s 26us/sample - loss: 0.3330 - acc: 0.8650\n",
      "Epoch 72/100\n",
      "7000/7000 [==============================] - 0s 25us/sample - loss: 0.3330 - acc: 0.8643\n",
      "Epoch 73/100\n",
      "7000/7000 [==============================] - 0s 27us/sample - loss: 0.3328 - acc: 0.8663\n",
      "Epoch 74/100\n",
      "7000/7000 [==============================] - 0s 27us/sample - loss: 0.3326 - acc: 0.8664\n",
      "Epoch 75/100\n",
      "7000/7000 [==============================] - 0s 27us/sample - loss: 0.3324 - acc: 0.8639\n",
      "Epoch 76/100\n",
      "7000/7000 [==============================] - 0s 26us/sample - loss: 0.3322 - acc: 0.8647\n",
      "Epoch 77/100\n",
      "7000/7000 [==============================] - 0s 27us/sample - loss: 0.3327 - acc: 0.8650\n",
      "Epoch 78/100\n",
      "7000/7000 [==============================] - 0s 27us/sample - loss: 0.3324 - acc: 0.8646\n",
      "Epoch 79/100\n",
      "7000/7000 [==============================] - 0s 26us/sample - loss: 0.3327 - acc: 0.8651\n",
      "Epoch 80/100\n",
      "7000/7000 [==============================] - 0s 25us/sample - loss: 0.3322 - acc: 0.8656\n",
      "Epoch 81/100\n"
     ]
    },
    {
     "name": "stdout",
     "output_type": "stream",
     "text": [
      "7000/7000 [==============================] - 0s 26us/sample - loss: 0.3327 - acc: 0.8659\n",
      "Epoch 82/100\n",
      "7000/7000 [==============================] - 0s 26us/sample - loss: 0.3322 - acc: 0.8656\n",
      "Epoch 83/100\n",
      "7000/7000 [==============================] - 0s 25us/sample - loss: 0.3319 - acc: 0.8653\n",
      "Epoch 84/100\n",
      "7000/7000 [==============================] - 0s 27us/sample - loss: 0.3324 - acc: 0.8659\n",
      "Epoch 85/100\n",
      "7000/7000 [==============================] - 0s 26us/sample - loss: 0.3319 - acc: 0.8646\n",
      "Epoch 86/100\n",
      "7000/7000 [==============================] - 0s 26us/sample - loss: 0.3322 - acc: 0.8650\n",
      "Epoch 87/100\n",
      "7000/7000 [==============================] - 0s 26us/sample - loss: 0.3319 - acc: 0.8639\n",
      "Epoch 88/100\n",
      "7000/7000 [==============================] - 0s 26us/sample - loss: 0.3314 - acc: 0.8657\n",
      "Epoch 89/100\n",
      "7000/7000 [==============================] - 0s 26us/sample - loss: 0.3320 - acc: 0.8661\n",
      "Epoch 90/100\n",
      "7000/7000 [==============================] - 0s 26us/sample - loss: 0.3321 - acc: 0.8649\n",
      "Epoch 91/100\n",
      "7000/7000 [==============================] - 0s 26us/sample - loss: 0.3318 - acc: 0.8661\n",
      "Epoch 92/100\n",
      "7000/7000 [==============================] - 0s 26us/sample - loss: 0.3317 - acc: 0.8651\n",
      "Epoch 93/100\n",
      "7000/7000 [==============================] - 0s 26us/sample - loss: 0.3317 - acc: 0.8634\n",
      "Epoch 94/100\n",
      "7000/7000 [==============================] - 0s 25us/sample - loss: 0.3319 - acc: 0.8651\n",
      "Epoch 95/100\n",
      "7000/7000 [==============================] - 0s 25us/sample - loss: 0.3311 - acc: 0.8640\n",
      "Epoch 96/100\n",
      "7000/7000 [==============================] - 0s 26us/sample - loss: 0.3311 - acc: 0.8659\n",
      "Epoch 97/100\n",
      "7000/7000 [==============================] - 0s 25us/sample - loss: 0.3317 - acc: 0.8649\n",
      "Epoch 98/100\n",
      "7000/7000 [==============================] - 0s 26us/sample - loss: 0.3312 - acc: 0.8646\n",
      "Epoch 99/100\n",
      "7000/7000 [==============================] - 0s 26us/sample - loss: 0.3309 - acc: 0.8647\n",
      "Epoch 100/100\n",
      "7000/7000 [==============================] - 0s 25us/sample - loss: 0.3308 - acc: 0.8644\n"
     ]
    }
   ],
   "source": [
    "batch_size = 32\n",
    "epochs = 100\n",
    "# fitting ann model to train set\n",
    "history = classifier.fit(train_x_values, train_y_values, batch_size=batch_size, epochs=epochs)"
   ]
  },
  {
   "cell_type": "markdown",
   "metadata": {},
   "source": [
    "#### Storing predicted values for train set & test set"
   ]
  },
  {
   "cell_type": "code",
   "execution_count": 18,
   "metadata": {},
   "outputs": [],
   "source": [
    "test_predicted_values = classifier.predict(test_x_values)\n",
    "test_predicted_values = (test_predicted_values >= 0.5)\n",
    "train_predicted_values = classifier.predict(train_x_values)\n",
    "train_predicted_values = (train_predicted_values >= 0.5)"
   ]
  },
  {
   "cell_type": "markdown",
   "metadata": {},
   "source": [
    "### Evaluating model against train set & test set"
   ]
  },
  {
   "cell_type": "code",
   "execution_count": 19,
   "metadata": {},
   "outputs": [
    {
     "name": "stdout",
     "output_type": "stream",
     "text": [
      "------------------Train Set-----------------\n",
      "\n",
      "Confusion matrix:\n",
      " [[5334  250]\n",
      " [ 693  723]]\n",
      "\n",
      "Classification report:\n",
      "               precision    recall  f1-score   support\n",
      "\n",
      "           0       0.89      0.96      0.92      5584\n",
      "           1       0.74      0.51      0.61      1416\n",
      "\n",
      "    accuracy                           0.87      7000\n",
      "   macro avg       0.81      0.73      0.76      7000\n",
      "weighted avg       0.86      0.87      0.86      7000\n",
      "\n",
      "\n",
      "-------------------Test Set------------------\n",
      "\n",
      "Confusion matrix:\n",
      " [[2245  134]\n",
      " [ 289  332]]\n",
      "\n",
      "Classification report:\n",
      "               precision    recall  f1-score   support\n",
      "\n",
      "           0       0.89      0.94      0.91      2379\n",
      "           1       0.71      0.53      0.61       621\n",
      "\n",
      "    accuracy                           0.86      3000\n",
      "   macro avg       0.80      0.74      0.76      3000\n",
      "weighted avg       0.85      0.86      0.85      3000\n",
      "\n"
     ]
    }
   ],
   "source": [
    "from sklearn.metrics import confusion_matrix, classification_report\n",
    "print('------------------Train Set-----------------\\n')\n",
    "print(f'Confusion matrix:\\n {confusion_matrix(train_y_values, train_predicted_values)}')\n",
    "print(f'\\nClassification report:\\n {classification_report(train_y_values, train_predicted_values)}')\n",
    "print('\\n-------------------Test Set------------------\\n')\n",
    "print(f'Confusion matrix:\\n {confusion_matrix(test_y_values, test_predicted_values)}')\n",
    "print(f'\\nClassification report:\\n {classification_report(test_y_values, test_predicted_values)}')"
   ]
  },
  {
   "cell_type": "markdown",
   "metadata": {},
   "source": [
    "#### Storing essential objects in pickle file & saving model to HDF5 file"
   ]
  },
  {
   "cell_type": "code",
   "execution_count": 20,
   "metadata": {},
   "outputs": [],
   "source": [
    "import joblib\n",
    "with open('DataProcessingBank.pkl', 'wb') as file:\n",
    "    joblib.dump(features, file)\n",
    "    joblib.dump(label, file)\n",
    "    joblib.dump(oh_enc_column, file)\n",
    "    joblib.dump(lbl_enc_x, file)\n",
    "    joblib.dump(oh_enc, file)\n",
    "    joblib.dump(sc_x, file)\n",
    "\n",
    "# saving model to HDF5 file\n",
    "classifier.save('ANNModelBank.h5')"
   ]
  },
  {
   "cell_type": "code",
   "execution_count": 21,
   "metadata": {},
   "outputs": [
    {
     "name": "stdout",
     "output_type": "stream",
     "text": [
      "Model: \"sequential\"\n",
      "_________________________________________________________________\n",
      "Layer (type)                 Output Shape              Param #   \n",
      "=================================================================\n",
      "dense (Dense)                (None, 6)                 78        \n",
      "_________________________________________________________________\n",
      "dense_1 (Dense)              (None, 6)                 42        \n",
      "_________________________________________________________________\n",
      "dense_2 (Dense)              (None, 6)                 42        \n",
      "_________________________________________________________________\n",
      "dense_3 (Dense)              (None, 1)                 7         \n",
      "=================================================================\n",
      "Total params: 169\n",
      "Trainable params: 169\n",
      "Non-trainable params: 0\n",
      "_________________________________________________________________\n"
     ]
    }
   ],
   "source": [
    "classifier.summary()"
   ]
  },
  {
   "cell_type": "markdown",
   "metadata": {},
   "source": [
    "### Plotting learning of model against epochs"
   ]
  },
  {
   "cell_type": "code",
   "execution_count": 24,
   "metadata": {},
   "outputs": [
    {
     "data": {
      "image/png": "[encoded data removed]",
      "text/plain": [
       "<Figure size 1152x432 with 2 Axes>"
      ]
     },
     "metadata": {
      "needs_background": "light"
     },
     "output_type": "display_data"
    }
   ],
   "source": [
    "import matplotlib.pyplot as plt\n",
    "\n",
    "acc = history.history['acc']\n",
    "\n",
    "loss=history.history['loss']\n",
    "\n",
    "epochs_range = range(epochs)\n",
    "\n",
    "plt.figure(figsize=(16, 6))\n",
    "plt.subplot(1, 2, 1)\n",
    "plt.plot(epochs_range, acc, label='Training Accuracy')\n",
    "plt.xlabel('Epochs')\n",
    "plt.ylabel('Accuracy')\n",
    "plt.legend(loc='lower right')\n",
    "plt.title('Training Accuracy')\n",
    "\n",
    "plt.subplot(1, 2, 2)\n",
    "plt.plot(epochs_range, loss, label='Training Loss')\n",
    "plt.xlabel('Epochs')\n",
    "plt.ylabel('Loss')\n",
    "plt.legend(loc='upper right')\n",
    "plt.title('Training Loss')\n",
    "plt.show()"
   ]
  }
 ],
 "metadata": {
  "kernelspec": {
   "display_name": "Python 3",
   "language": "python",
   "name": "python3"
  },
  "language_info": {
   "codemirror_mode": {
    "name": "ipython",
    "version": 3
   },
   "file_extension": ".py",
   "mimetype": "text/x-python",
   "name": "python",
   "nbconvert_exporter": "python",
   "pygments_lexer": "ipython3",
   "version": "3.6.9"
  }
 },
 "nbformat": 4,
 "nbformat_minor": 2
}
