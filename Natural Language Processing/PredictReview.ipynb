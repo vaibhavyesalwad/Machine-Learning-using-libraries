{
 "cells": [
  {
   "cell_type": "markdown",
   "metadata": {},
   "source": [
    "## Using NLP predict whether the review is positive or negative for a given dataset "
   ]
  },
  {
   "cell_type": "raw",
   "metadata": {},
   "source": [
    "https://drive.google.com/open?id=1-TJWzdxapGhp2aElncd6RH6zOpSAf69X"
   ]
  },
  {
   "cell_type": "markdown",
   "metadata": {},
   "source": [
    "### Data Preprocessing"
   ]
  },
  {
   "cell_type": "code",
   "execution_count": 1,
   "metadata": {},
   "outputs": [
    {
     "data": {
      "text/html": [
       "<div>\n",
       "<style scoped>\n",
       "    .dataframe tbody tr th:only-of-type {\n",
       "        vertical-align: middle;\n",
       "    }\n",
       "\n",
       "    .dataframe tbody tr th {\n",
       "        vertical-align: top;\n",
       "    }\n",
       "\n",
       "    .dataframe thead th {\n",
       "        text-align: right;\n",
       "    }\n",
       "</style>\n",
       "<table border=\"1\" class=\"dataframe\">\n",
       "  <thead>\n",
       "    <tr style=\"text-align: right;\">\n",
       "      <th></th>\n",
       "      <th>Review</th>\n",
       "      <th>Liked</th>\n",
       "    </tr>\n",
       "  </thead>\n",
       "  <tbody>\n",
       "    <tr>\n",
       "      <th>0</th>\n",
       "      <td>Wow... Loved this place.</td>\n",
       "      <td>1</td>\n",
       "    </tr>\n",
       "    <tr>\n",
       "      <th>1</th>\n",
       "      <td>Crust is not good.</td>\n",
       "      <td>0</td>\n",
       "    </tr>\n",
       "    <tr>\n",
       "      <th>2</th>\n",
       "      <td>Not tasty and the texture was just nasty.</td>\n",
       "      <td>0</td>\n",
       "    </tr>\n",
       "    <tr>\n",
       "      <th>3</th>\n",
       "      <td>Stopped by during the late May bank holiday of...</td>\n",
       "      <td>1</td>\n",
       "    </tr>\n",
       "    <tr>\n",
       "      <th>4</th>\n",
       "      <td>The selection on the menu was great and so wer...</td>\n",
       "      <td>1</td>\n",
       "    </tr>\n",
       "  </tbody>\n",
       "</table>\n",
       "</div>"
      ],
      "text/plain": [
       "                                              Review  Liked\n",
       "0                           Wow... Loved this place.      1\n",
       "1                                 Crust is not good.      0\n",
       "2          Not tasty and the texture was just nasty.      0\n",
       "3  Stopped by during the late May bank holiday of...      1\n",
       "4  The selection on the menu was great and so wer...      1"
      ]
     },
     "execution_count": 1,
     "metadata": {},
     "output_type": "execute_result"
    }
   ],
   "source": [
    "import numpy as np \n",
    "import pandas as pd\n",
    "import matplotlib.pyplot as plt\n",
    "import sys\n",
    "sys.path.append('/home/admin1/PycharmProjects/Machine Learning using libraries/')\n",
    "from ipynb.fs.full.ml_library import *\n",
    "import os\n",
    "os.chdir('/home/admin1/PycharmProjects/Machine Learning using libraries/Classification/Datasets & pickled objects/')\n",
    "\n",
    "# loading dataset from csv file & storing it as pandas dataframe\n",
    "review_data = pd.read_csv('Restaurant_Reviews.tsv', delimiter='\\t', quoting= 3)\n",
    "review_data.head()"
   ]
  },
  {
   "cell_type": "markdown",
   "metadata": {},
   "source": [
    "#### Data cleansing"
   ]
  },
  {
   "cell_type": "code",
   "execution_count": 2,
   "metadata": {},
   "outputs": [],
   "source": [
    "# removing stopwords & getting root words for remaining\n",
    "feature = 'Review'\n",
    "corpus = get_corpus(review_data, feature)"
   ]
  },
  {
   "cell_type": "markdown",
   "metadata": {},
   "source": [
    "#### Creating count vectoriser i.e. mapping count of a word vs each record "
   ]
  },
  {
   "cell_type": "code",
   "execution_count": 3,
   "metadata": {},
   "outputs": [],
   "source": [
    "from sklearn.feature_extraction.text import CountVectorizer\n",
    "cv = CountVectorizer()\n",
    "#if we want to define maximum features to be considered\n",
    "# cv = CountVectorizer(max_features=1500)  # selected 1500 most frequent 1500 features/words"
   ]
  },
  {
   "cell_type": "markdown",
   "metadata": {},
   "source": [
    "#### Creating features matrix & target variable array"
   ]
  },
  {
   "cell_type": "code",
   "execution_count": 4,
   "metadata": {},
   "outputs": [
    {
     "data": {
      "text/plain": [
       "((1000, 1565), (1000,))"
      ]
     },
     "execution_count": 4,
     "metadata": {},
     "output_type": "execute_result"
    }
   ],
   "source": [
    "x_values = cv.fit_transform(corpus).toarray()\n",
    "\n",
    "label = 'Liked'\n",
    "y_values = review_data[label].values\n",
    "\n",
    "x_values.shape, y_values.shape"
   ]
  },
  {
   "cell_type": "markdown",
   "metadata": {},
   "source": [
    "#### Splitting dataset into train set & test set"
   ]
  },
  {
   "cell_type": "code",
   "execution_count": 5,
   "metadata": {},
   "outputs": [],
   "source": [
    "from sklearn.model_selection import train_test_split\n",
    "train_x_values, test_x_values, train_y_values, test_y_values = train_test_split(x_values, y_values, train_size=0.8, random_state=0)"
   ]
  },
  {
   "cell_type": "markdown",
   "metadata": {},
   "source": [
    "#### Importing different classifier models "
   ]
  },
  {
   "cell_type": "code",
   "execution_count": 6,
   "metadata": {},
   "outputs": [],
   "source": [
    "from sklearn.linear_model import LogisticRegression as LR\n",
    "from sklearn.neighbors import KNeighborsClassifier as KNN\n",
    "from sklearn.svm import SVC \n",
    "from sklearn.tree import DecisionTreeClassifier as DCT\n",
    "from sklearn.ensemble import RandomForestClassifier as RF\n",
    "from sklearn.naive_bayes import GaussianNB \n",
    "from sklearn.metrics import confusion_matrix, roc_curve, classification_report"
   ]
  },
  {
   "cell_type": "code",
   "execution_count": 7,
   "metadata": {},
   "outputs": [],
   "source": [
    "classifiers = [LR, KNN, SVC, DCT, RF, GaussianNB]\n",
    "classifier_names = ['Logistic', 'KNN', 'SVM', 'DecisionTree', 'RandomForest', 'GaussianNaiveBayes']"
   ]
  },
  {
   "cell_type": "markdown",
   "metadata": {},
   "source": [
    "### Building & comparing different classification models using roc curve"
   ]
  },
  {
   "cell_type": "code",
   "execution_count": 8,
   "metadata": {},
   "outputs": [
    {
     "name": "stdout",
     "output_type": "stream",
     "text": [
      "AUC Logistic: 0.8416574917425683\n",
      "AUC KNN: 0.6299169252327095\n",
      "AUC SVM: 0.8345010509458514\n",
      "AUC DecisionTree: 0.6640476428785909\n",
      "AUC RandomForest: 0.8272945651085977\n",
      "AUC GaussianNaiveBayes: 0.7252527274547093\n"
     ]
    },
    {
     "data": {
      "image/png": "[encoded data removed]",
      "text/plain": [
       "<Figure size 576x396 with 1 Axes>"
      ]
     },
     "metadata": {},
     "output_type": "display_data"
    }
   ],
   "source": [
    "test_predictions = []\n",
    "classifier_objects = []\n",
    "\n",
    "plt.style.use('seaborn')\n",
    "for index in range(len(classifiers)):\n",
    "    if index ==1 or index==5:\n",
    "        classifier = classifiers[index]()\n",
    "    elif index == 2:\n",
    "        classifier = classifiers[index](random_state= 0, probability=True) \n",
    "    else:\n",
    "        classifier = classifiers[index](random_state= 0) \n",
    "    \n",
    "    # Buiding model & prediting for test set\n",
    "    classifier.fit(train_x_values, train_y_values)\n",
    "    test_prediction = classifier.predict(test_x_values)\n",
    "    \n",
    "    # storing predictions for each classifier model & stoting classifier model\n",
    "    test_predictions.append(test_prediction)\n",
    "    classifier_objects.append(classifier)\n",
    "    \n",
    "    # Plotting ROC curve & printing AUC for each \n",
    "    test_predicted_probs = classifier.predict_proba(test_x_values)[:,1]\n",
    "    fpr, tpr, _ = roc_curve(test_y_values, test_predicted_probs)\n",
    "    calculate_auc(classifier_names[index], fpr, tpr)\n",
    "    plt.plot(fpr, tpr, label=classifier_names[index])\n",
    "\n",
    "plt.plot([0,1],[0,1], 'r--', alpha=0.6)\n",
    "plt.xlabel('False Positive Rate')\n",
    "plt.ylabel('True Positive Rate')\n",
    "plt.title('Comparison betn different Classication Models for NLP Restaurant Review Dataset',fontdict={'fontsize':15})\n",
    "plt.legend()\n",
    "plt.show()"
   ]
  },
  {
   "cell_type": "markdown",
   "metadata": {},
   "source": [
    "#### Logistic, SVM, RandomForest models are comparable "
   ]
  },
  {
   "cell_type": "markdown",
   "metadata": {},
   "source": [
    "#### We can consider which model to choose according to our goal"
   ]
  },
  {
   "cell_type": "code",
   "execution_count": 9,
   "metadata": {},
   "outputs": [
    {
     "name": "stdout",
     "output_type": "stream",
     "text": [
      "<<<<<<<<<<< Logistic >>>>>>>>>>> \n",
      "\n",
      "Confusion matrix:\n",
      " [[76 21]\n",
      " [37 66]]\n",
      "\n",
      "Classification report:\n",
      "               precision    recall  f1-score   support\n",
      "\n",
      "           0       0.67      0.78      0.72        97\n",
      "           1       0.76      0.64      0.69       103\n",
      "\n",
      "    accuracy                           0.71       200\n",
      "   macro avg       0.72      0.71      0.71       200\n",
      "weighted avg       0.72      0.71      0.71       200\n",
      "\n",
      "<<<<<<<<<<< SVM >>>>>>>>>>> \n",
      "\n",
      "Confusion matrix:\n",
      " [[90  7]\n",
      " [47 56]]\n",
      "\n",
      "Classification report:\n",
      "               precision    recall  f1-score   support\n",
      "\n",
      "           0       0.66      0.93      0.77        97\n",
      "           1       0.89      0.54      0.67       103\n",
      "\n",
      "    accuracy                           0.73       200\n",
      "   macro avg       0.77      0.74      0.72       200\n",
      "weighted avg       0.78      0.73      0.72       200\n",
      "\n",
      "<<<<<<<<<<< RandomForest >>>>>>>>>>> \n",
      "\n",
      "Confusion matrix:\n",
      " [[85 12]\n",
      " [48 55]]\n",
      "\n",
      "Classification report:\n",
      "               precision    recall  f1-score   support\n",
      "\n",
      "           0       0.64      0.88      0.74        97\n",
      "           1       0.82      0.53      0.65       103\n",
      "\n",
      "    accuracy                           0.70       200\n",
      "   macro avg       0.73      0.71      0.69       200\n",
      "weighted avg       0.73      0.70      0.69       200\n",
      "\n"
     ]
    }
   ],
   "source": [
    "for index in range(0,len(classifiers), 2):\n",
    "    print('<<<<<<<<<<<',classifier_names[index],'>>>>>>>>>>>','\\n')\n",
    "    print(f'Confusion matrix:\\n {confusion_matrix(test_y_values, test_predictions[index])}\\n')\n",
    "    print(f'Classification report:\\n {classification_report(test_y_values, test_predictions[index])}')"
   ]
  },
  {
   "cell_type": "markdown",
   "metadata": {},
   "source": [
    "#### Chosen SVM model "
   ]
  },
  {
   "cell_type": "code",
   "execution_count": 10,
   "metadata": {},
   "outputs": [],
   "source": [
    "classifier = classifier_objects[2] "
   ]
  },
  {
   "cell_type": "markdown",
   "metadata": {},
   "source": [
    "#### Storing necessary object into pickle file"
   ]
  },
  {
   "cell_type": "code",
   "execution_count": 11,
   "metadata": {},
   "outputs": [],
   "source": [
    "import joblib\n",
    "file = open('DataProcessingNLPRestaurantReview.pkl', 'wb')\n",
    "joblib.dump(feature, file)\n",
    "joblib.dump(label, file)\n",
    "joblib.dump(cv, file)\n",
    "file.close()\n",
    "\n",
    "file = open('SVMModelNLPRestaurantReview.pkl', 'wb')\n",
    "joblib.dump(classifier, file)\n",
    "file.close()"
   ]
  }
 ],
 "metadata": {
  "kernelspec": {
   "display_name": "Python 3",
   "language": "python",
   "name": "python3"
  },
  "language_info": {
   "codemirror_mode": {
    "name": "ipython",
    "version": 3
   },
   "file_extension": ".py",
   "mimetype": "text/x-python",
   "name": "python",
   "nbconvert_exporter": "python",
   "pygments_lexer": "ipython3",
   "version": "3.6.9"
  }
 },
 "nbformat": 4,
 "nbformat_minor": 2
}
